{
 "cells": [
  {
   "cell_type": "markdown",
   "metadata": {},
   "source": [
    "This notebook contains the code to crawl through the \"Machine Learning with Python for Everyone\" book from https://learning.oreilly.com/library/view/machine-learning-with/9780134845708/ and save the text from each page into a text file."
   ]
  },
  {
   "cell_type": "code",
   "execution_count": 2,
   "metadata": {},
   "outputs": [],
   "source": [
    "import requests\n",
    "import numpy as np\n",
    "import pandas as pd\n",
    "\n",
    "from bs4 import BeautifulSoup\n",
    "\n",
    "import re"
   ]
  },
  {
   "cell_type": "code",
   "execution_count": 3,
   "metadata": {},
   "outputs": [
    {
     "data": {
      "text/plain": [
       "<Response [200]>"
      ]
     },
     "execution_count": 3,
     "metadata": {},
     "output_type": "execute_result"
    }
   ],
   "source": [
    "headers = {'user-agent': 'access book text (wat6sv@virginia.edu)'}\n",
    "link = \"https://learning.oreilly.com/library/view/machine-learning-with/9780134845708/\"\n",
    "r = requests.get(link, headers = headers)\n",
    "r"
   ]
  },
  {
   "cell_type": "code",
   "execution_count": 4,
   "metadata": {},
   "outputs": [],
   "source": [
    "data = BeautifulSoup(r.text, \"html.parser\")"
   ]
  },
  {
   "cell_type": "code",
   "execution_count": 5,
   "metadata": {},
   "outputs": [],
   "source": [
    "# print(data.get_text())"
   ]
  },
  {
   "cell_type": "code",
   "execution_count": 6,
   "metadata": {},
   "outputs": [
    {
     "data": {
      "text/plain": [
       "[<a class=\"t-chapter js-chapter\" href=\"https://learning.oreilly.com/library/view/machine-learning-with/9780134845708/cover.xhtml\">Cover</a>,\n",
       " <a class=\"t-chapter js-chapter\" href=\"https://learning.oreilly.com/library/view/machine-learning-with/9780134845708/pref00.xhtml\">About This E-Book</a>,\n",
       " <a class=\"t-chapter js-chapter\" href=\"https://learning.oreilly.com/library/view/machine-learning-with/9780134845708/half-title.xhtml\">Half Title</a>,\n",
       " <a class=\"t-chapter js-chapter\" href=\"https://learning.oreilly.com/library/view/machine-learning-with/9780134845708/series.xhtml\">Series Page</a>,\n",
       " <a class=\"t-chapter js-chapter\" href=\"https://learning.oreilly.com/library/view/machine-learning-with/9780134845708/title.xhtml\">Title Page</a>,\n",
       " <a class=\"t-chapter js-chapter\" href=\"https://learning.oreilly.com/library/view/machine-learning-with/9780134845708/copy.xhtml\">Copyright Page</a>,\n",
       " <a class=\"t-chapter js-chapter\" href=\"https://learning.oreilly.com/library/view/machine-learning-with/9780134845708/ded01.xhtml\">Dedication</a>,\n",
       " <a class=\"t-chapter js-chapter\" href=\"https://learning.oreilly.com/library/view/machine-learning-with/9780134845708/toc.xhtml#toc\">Contents</a>,\n",
       " <a class=\"t-chapter js-chapter\" href=\"https://learning.oreilly.com/library/view/machine-learning-with/9780134845708/pref01.xhtml#pref01\">Foreword</a>,\n",
       " <a class=\"t-chapter js-chapter\" href=\"https://learning.oreilly.com/library/view/machine-learning-with/9780134845708/pref02.xhtml#pref02\">Preface</a>,\n",
       " <a class=\"t-chapter js-chapter\" href=\"https://learning.oreilly.com/library/view/machine-learning-with/9780134845708/pref02.xhtml#pref02lev3sec1\">Audience</a>,\n",
       " <a class=\"t-chapter js-chapter\" href=\"https://learning.oreilly.com/library/view/machine-learning-with/9780134845708/pref02.xhtml#pref02lev3sec2\">Approach</a>,\n",
       " <a class=\"t-chapter js-chapter\" href=\"https://learning.oreilly.com/library/view/machine-learning-with/9780134845708/pref02.xhtml#pref02lev3sec3\">Overview</a>,\n",
       " <a class=\"t-chapter js-chapter\" href=\"https://learning.oreilly.com/library/view/machine-learning-with/9780134845708/pref02.xhtml#pref02lev3sec4\">Acknowledgments</a>,\n",
       " <a class=\"t-chapter js-chapter\" href=\"https://learning.oreilly.com/library/view/machine-learning-with/9780134845708/pref02.xhtml#pref02lev3sec5\">Publisher’s Note</a>,\n",
       " <a class=\"t-chapter js-chapter\" href=\"https://learning.oreilly.com/library/view/machine-learning-with/9780134845708/pref03.xhtml#pref03\">About the Author</a>,\n",
       " <a class=\"t-chapter js-chapter\" href=\"https://learning.oreilly.com/library/view/machine-learning-with/9780134845708/part01.xhtml#part01\">Part I: First Steps</a>,\n",
       " <a class=\"t-chapter js-chapter\" href=\"https://learning.oreilly.com/library/view/machine-learning-with/9780134845708/ch01.xhtml#ch01\">1. Let’s Discuss Learning</a>,\n",
       " <a class=\"t-chapter js-chapter\" href=\"https://learning.oreilly.com/library/view/machine-learning-with/9780134845708/ch01.xhtml#ch01lev1sec1\">1.1 Welcome</a>,\n",
       " <a class=\"t-chapter js-chapter\" href=\"https://learning.oreilly.com/library/view/machine-learning-with/9780134845708/ch01.xhtml#ch01lev1sec2\">1.2 Scope, Terminology, Prediction, and Data</a>,\n",
       " <a class=\"t-chapter js-chapter\" href=\"https://learning.oreilly.com/library/view/machine-learning-with/9780134845708/ch01.xhtml#ch01lev1sec3\">1.3 Putting the Machine in Machine Learning</a>,\n",
       " <a class=\"t-chapter js-chapter\" href=\"https://learning.oreilly.com/library/view/machine-learning-with/9780134845708/ch01.xhtml#ch01lev1sec4\">1.4 Examples of Learning Systems</a>,\n",
       " <a class=\"t-chapter js-chapter\" href=\"https://learning.oreilly.com/library/view/machine-learning-with/9780134845708/ch01.xhtml#ch01lev1sec5\">1.5 Evaluating Learning Systems</a>,\n",
       " <a class=\"t-chapter js-chapter\" href=\"https://learning.oreilly.com/library/view/machine-learning-with/9780134845708/ch01.xhtml#ch01lev1sec6\">1.6 A Process for Building Learning Systems</a>,\n",
       " <a class=\"t-chapter js-chapter\" href=\"https://learning.oreilly.com/library/view/machine-learning-with/9780134845708/ch01.xhtml#ch01lev1sec7\">1.7 Assumptions and Reality of Learning</a>,\n",
       " <a class=\"t-chapter js-chapter\" href=\"https://learning.oreilly.com/library/view/machine-learning-with/9780134845708/ch01.xhtml#ch01lev1sec8\">1.8 End-of-Chapter Material</a>,\n",
       " <a class=\"t-chapter js-chapter\" href=\"https://learning.oreilly.com/library/view/machine-learning-with/9780134845708/ch02.xhtml#ch02\">2. Some Technical Background</a>,\n",
       " <a class=\"t-chapter js-chapter\" href=\"https://learning.oreilly.com/library/view/machine-learning-with/9780134845708/ch02.xhtml#ch02lev1sec1\">2.1 About Our Setup</a>,\n",
       " <a class=\"t-chapter js-chapter\" href=\"https://learning.oreilly.com/library/view/machine-learning-with/9780134845708/ch02.xhtml#ch02lev1sec2\">2.2 The Need for Mathematical Language</a>,\n",
       " <a class=\"t-chapter js-chapter\" href=\"https://learning.oreilly.com/library/view/machine-learning-with/9780134845708/ch02.xhtml#ch02lev1sec3\">2.3 Our Software for Tackling Machine Learning</a>,\n",
       " <a class=\"t-chapter js-chapter\" href=\"https://learning.oreilly.com/library/view/machine-learning-with/9780134845708/ch02.xhtml#ch02lev1sec4\">2.4 Probability</a>,\n",
       " <a class=\"t-chapter js-chapter\" href=\"https://learning.oreilly.com/library/view/machine-learning-with/9780134845708/ch02.xhtml#ch02lev1sec5\">2.5 Linear Combinations, Weighted Sums, and Dot Products</a>,\n",
       " <a class=\"t-chapter js-chapter\" href=\"https://learning.oreilly.com/library/view/machine-learning-with/9780134845708/ch02.xhtml#ch02lev1sec6\">2.6 A Geometric View: Points in Space</a>,\n",
       " <a class=\"t-chapter js-chapter\" href=\"https://learning.oreilly.com/library/view/machine-learning-with/9780134845708/ch02.xhtml#ch02lev1sec7\">2.7 Notation and the Plus-One Trick</a>,\n",
       " <a class=\"t-chapter js-chapter\" href=\"https://learning.oreilly.com/library/view/machine-learning-with/9780134845708/ch02.xhtml#ch02lev1sec8\">2.8 Getting Groovy, Breaking the Straight-Jacket, and Nonlinearity</a>,\n",
       " <a class=\"t-chapter js-chapter\" href=\"https://learning.oreilly.com/library/view/machine-learning-with/9780134845708/ch02.xhtml#ch02lev1sec9\">2.9 NumPy versus “All the Maths”</a>,\n",
       " <a class=\"t-chapter js-chapter\" href=\"https://learning.oreilly.com/library/view/machine-learning-with/9780134845708/ch02.xhtml#ch02lev1sec10\">2.10 Floating-Point Issues</a>,\n",
       " <a class=\"t-chapter js-chapter\" href=\"https://learning.oreilly.com/library/view/machine-learning-with/9780134845708/ch02.xhtml#ch02lev1sec11\">2.11 EOC</a>,\n",
       " <a class=\"t-chapter js-chapter\" href=\"https://learning.oreilly.com/library/view/machine-learning-with/9780134845708/ch03.xhtml#ch03\">3. Predicting Categories: Getting Started with Classification</a>,\n",
       " <a class=\"t-chapter js-chapter\" href=\"https://learning.oreilly.com/library/view/machine-learning-with/9780134845708/ch03.xhtml#ch03lev1sec1\">3.1 Classification Tasks</a>,\n",
       " <a class=\"t-chapter js-chapter\" href=\"https://learning.oreilly.com/library/view/machine-learning-with/9780134845708/ch03.xhtml#ch03lev1sec2\">3.2 A Simple Classification Dataset</a>,\n",
       " <a class=\"t-chapter js-chapter\" href=\"https://learning.oreilly.com/library/view/machine-learning-with/9780134845708/ch03.xhtml#ch03lev1sec3\">3.3 Training and Testing: Don’t Teach to the Test</a>,\n",
       " <a class=\"t-chapter js-chapter\" href=\"https://learning.oreilly.com/library/view/machine-learning-with/9780134845708/ch03.xhtml#ch03lev1sec4\">3.4 Evaluation: Grading the Exam</a>,\n",
       " <a class=\"t-chapter js-chapter\" href=\"https://learning.oreilly.com/library/view/machine-learning-with/9780134845708/ch03.xhtml#ch03lev1sec5\">3.5 Simple Classifier #1: Nearest Neighbors, Long Distance Relationships, and Assumptions</a>,\n",
       " <a class=\"t-chapter js-chapter\" href=\"https://learning.oreilly.com/library/view/machine-learning-with/9780134845708/ch03.xhtml#ch03lev1sec6\">3.6 Simple Classifier #2: Naive Bayes, Probability, and Broken Promises</a>,\n",
       " <a class=\"t-chapter js-chapter\" href=\"https://learning.oreilly.com/library/view/machine-learning-with/9780134845708/ch03.xhtml#ch03lev1sec7\">3.7 Simplistic Evaluation of Classifiers</a>,\n",
       " <a class=\"t-chapter js-chapter\" href=\"https://learning.oreilly.com/library/view/machine-learning-with/9780134845708/ch03.xhtml#ch03lev1sec8\">3.8 EOC</a>,\n",
       " <a class=\"t-chapter js-chapter\" href=\"https://learning.oreilly.com/library/view/machine-learning-with/9780134845708/ch04.xhtml#ch04\">4. Predicting Numerical Values: Getting Started with Regression</a>,\n",
       " <a class=\"t-chapter js-chapter\" href=\"https://learning.oreilly.com/library/view/machine-learning-with/9780134845708/ch04.xhtml#ch04lev1sec1\">4.1 A Simple Regression Dataset</a>,\n",
       " <a class=\"t-chapter js-chapter\" href=\"https://learning.oreilly.com/library/view/machine-learning-with/9780134845708/ch04.xhtml#ch04lev1sec2\">4.2 Nearest-Neighbors Regression and Summary Statistics</a>,\n",
       " <a class=\"t-chapter js-chapter\" href=\"https://learning.oreilly.com/library/view/machine-learning-with/9780134845708/ch04.xhtml#ch04lev1sec3\">4.3 Linear Regression and Errors</a>,\n",
       " <a class=\"t-chapter js-chapter\" href=\"https://learning.oreilly.com/library/view/machine-learning-with/9780134845708/ch04.xhtml#ch04lev1sec4\">4.4 Optimization: Picking the Best Answer</a>,\n",
       " <a class=\"t-chapter js-chapter\" href=\"https://learning.oreilly.com/library/view/machine-learning-with/9780134845708/ch04.xhtml#ch04lev1sec5\">4.5 Simple Evaluation and Comparison of Regressors</a>,\n",
       " <a class=\"t-chapter js-chapter\" href=\"https://learning.oreilly.com/library/view/machine-learning-with/9780134845708/ch04.xhtml#ch04lev1sec6\">4.6 EOC</a>,\n",
       " <a class=\"t-chapter js-chapter\" href=\"https://learning.oreilly.com/library/view/machine-learning-with/9780134845708/part02.xhtml#part02\">Part II: Evaluation</a>,\n",
       " <a class=\"t-chapter js-chapter\" href=\"https://learning.oreilly.com/library/view/machine-learning-with/9780134845708/ch05.xhtml#ch05\">5. Evaluating and Comparing Learners</a>,\n",
       " <a class=\"t-chapter js-chapter\" href=\"https://learning.oreilly.com/library/view/machine-learning-with/9780134845708/ch05.xhtml#ch05lev1sec1\">5.1 Evaluation and Why Less Is More</a>,\n",
       " <a class=\"t-chapter js-chapter\" href=\"https://learning.oreilly.com/library/view/machine-learning-with/9780134845708/ch05.xhtml#ch05lev1sec2\">5.2 Terminology for Learning Phases</a>,\n",
       " <a class=\"t-chapter js-chapter\" href=\"https://learning.oreilly.com/library/view/machine-learning-with/9780134845708/ch05.xhtml#ch05lev1sec3\">5.3 Major Tom, There’s Something Wrong: Overfitting and Underfitting</a>,\n",
       " <a class=\"t-chapter js-chapter\" href=\"https://learning.oreilly.com/library/view/machine-learning-with/9780134845708/ch05.xhtml#ch05lev1sec4\">5.4 From Errors to Costs</a>,\n",
       " <a class=\"t-chapter js-chapter\" href=\"https://learning.oreilly.com/library/view/machine-learning-with/9780134845708/ch05.xhtml#ch05lev1sec5\">5.5 (Re)Sampling: Making More from Less</a>,\n",
       " <a class=\"t-chapter js-chapter\" href=\"https://learning.oreilly.com/library/view/machine-learning-with/9780134845708/ch05.xhtml#ch05lev1sec6\">5.6 Break-It-Down: Deconstructing Error into Bias and Variance</a>,\n",
       " <a class=\"t-chapter js-chapter\" href=\"https://learning.oreilly.com/library/view/machine-learning-with/9780134845708/ch05.xhtml#ch05lev1sec7\">5.7 Graphical Evaluation and Comparison</a>,\n",
       " <a class=\"t-chapter js-chapter\" href=\"https://learning.oreilly.com/library/view/machine-learning-with/9780134845708/ch05.xhtml#ch05lev1sec8\">5.8 Comparing Learners with Cross-Validation</a>,\n",
       " <a class=\"t-chapter js-chapter\" href=\"https://learning.oreilly.com/library/view/machine-learning-with/9780134845708/ch05.xhtml#ch05lev1sec9\">5.9 EOC</a>,\n",
       " <a class=\"t-chapter js-chapter\" href=\"https://learning.oreilly.com/library/view/machine-learning-with/9780134845708/ch06.xhtml#ch06\">6. Evaluating Classifiers</a>,\n",
       " <a class=\"t-chapter js-chapter\" href=\"https://learning.oreilly.com/library/view/machine-learning-with/9780134845708/ch06.xhtml#ch06lev1sec1\">6.1 Baseline Classifiers</a>,\n",
       " <a class=\"t-chapter js-chapter\" href=\"https://learning.oreilly.com/library/view/machine-learning-with/9780134845708/ch06.xhtml#ch06lev1sec2\">6.2 Beyond Accuracy: Metrics for Classification</a>,\n",
       " <a class=\"t-chapter js-chapter\" href=\"https://learning.oreilly.com/library/view/machine-learning-with/9780134845708/ch06.xhtml#ch06lev1sec3\">6.3 ROC Curves</a>,\n",
       " <a class=\"t-chapter js-chapter\" href=\"https://learning.oreilly.com/library/view/machine-learning-with/9780134845708/ch06.xhtml#ch06lev1sec4\">6.4 Another Take on Multiclass: One-versus-One</a>,\n",
       " <a class=\"t-chapter js-chapter\" href=\"https://learning.oreilly.com/library/view/machine-learning-with/9780134845708/ch06.xhtml#ch06lev1sec5\">6.5 Precision-Recall Curves</a>,\n",
       " <a class=\"t-chapter js-chapter\" href=\"https://learning.oreilly.com/library/view/machine-learning-with/9780134845708/ch06.xhtml#ch06lev1sec6\">6.6 Cumulative Response and Lift Curves</a>,\n",
       " <a class=\"t-chapter js-chapter\" href=\"https://learning.oreilly.com/library/view/machine-learning-with/9780134845708/ch06.xhtml#ch06lev1sec7\">6.7 More Sophisticated Evaluation of Classifiers: Take Two</a>,\n",
       " <a class=\"t-chapter js-chapter\" href=\"https://learning.oreilly.com/library/view/machine-learning-with/9780134845708/ch06.xhtml#ch06lev1sec8\">6.8 EOC</a>,\n",
       " <a class=\"t-chapter js-chapter\" href=\"https://learning.oreilly.com/library/view/machine-learning-with/9780134845708/ch07.xhtml#ch07\">7. Evaluating Regressors</a>,\n",
       " <a class=\"t-chapter js-chapter\" href=\"https://learning.oreilly.com/library/view/machine-learning-with/9780134845708/ch07.xhtml#ch07lev1sec1\">7.1 Baseline Regressors</a>,\n",
       " <a class=\"t-chapter js-chapter\" href=\"https://learning.oreilly.com/library/view/machine-learning-with/9780134845708/ch07.xhtml#ch07lev1sec2\">7.2 Additional Measures for Regression</a>,\n",
       " <a class=\"t-chapter js-chapter\" href=\"https://learning.oreilly.com/library/view/machine-learning-with/9780134845708/ch07.xhtml#ch07lev1sec3\">7.3 Residual Plots</a>,\n",
       " <a class=\"t-chapter js-chapter\" href=\"https://learning.oreilly.com/library/view/machine-learning-with/9780134845708/ch07.xhtml#ch07lev1sec4\">7.4 A First Look at Standardization</a>,\n",
       " <a class=\"t-chapter js-chapter\" href=\"https://learning.oreilly.com/library/view/machine-learning-with/9780134845708/ch07.xhtml#ch07lev1sec5\">7.5 Evaluating Regressors in a More Sophisticated Way: Take Two</a>,\n",
       " <a class=\"t-chapter js-chapter\" href=\"https://learning.oreilly.com/library/view/machine-learning-with/9780134845708/ch07.xhtml#ch07lev1sec6\">7.6 EOC</a>,\n",
       " <a class=\"t-chapter js-chapter\" href=\"https://learning.oreilly.com/library/view/machine-learning-with/9780134845708/part03.xhtml#part03\">Part III: More Methods and Fundamentals</a>,\n",
       " <a class=\"t-chapter js-chapter\" href=\"https://learning.oreilly.com/library/view/machine-learning-with/9780134845708/ch08.xhtml#ch08\">8. More Classification Methods</a>,\n",
       " <a class=\"t-chapter js-chapter\" href=\"https://learning.oreilly.com/library/view/machine-learning-with/9780134845708/ch08.xhtml#ch08lev1sec1\">8.1 Revisiting Classification</a>,\n",
       " <a class=\"t-chapter js-chapter\" href=\"https://learning.oreilly.com/library/view/machine-learning-with/9780134845708/ch08.xhtml#ch08lev1sec2\">8.2 Decision Trees</a>,\n",
       " <a class=\"t-chapter js-chapter\" href=\"https://learning.oreilly.com/library/view/machine-learning-with/9780134845708/ch08.xhtml#ch08lev1sec3\">8.3 Support Vector Classifiers</a>,\n",
       " <a class=\"t-chapter js-chapter\" href=\"https://learning.oreilly.com/library/view/machine-learning-with/9780134845708/ch08.xhtml#ch08lev1sec4\">8.4 Logistic Regression</a>,\n",
       " <a class=\"t-chapter js-chapter\" href=\"https://learning.oreilly.com/library/view/machine-learning-with/9780134845708/ch08.xhtml#ch08lev1sec5\">8.5 Discriminant Analysis</a>,\n",
       " <a class=\"t-chapter js-chapter\" href=\"https://learning.oreilly.com/library/view/machine-learning-with/9780134845708/ch08.xhtml#ch08lev1sec6\">8.6 Assumptions, Biases, and Classifiers</a>,\n",
       " <a class=\"t-chapter js-chapter\" href=\"https://learning.oreilly.com/library/view/machine-learning-with/9780134845708/ch08.xhtml#ch08lev1sec7\">8.7 Comparison of Classifiers: Take Three</a>,\n",
       " <a class=\"t-chapter js-chapter\" href=\"https://learning.oreilly.com/library/view/machine-learning-with/9780134845708/ch08.xhtml#ch08lev1sec8\">8.8 EOC</a>,\n",
       " <a class=\"t-chapter js-chapter\" href=\"https://learning.oreilly.com/library/view/machine-learning-with/9780134845708/ch09.xhtml#ch09\">9. More Regression Methods</a>,\n",
       " <a class=\"t-chapter js-chapter\" href=\"https://learning.oreilly.com/library/view/machine-learning-with/9780134845708/ch09.xhtml#ch09lev1sec1\">9.1 Linear Regression in the Penalty Box: Regularization</a>,\n",
       " <a class=\"t-chapter js-chapter\" href=\"https://learning.oreilly.com/library/view/machine-learning-with/9780134845708/ch09.xhtml#ch09lev1sec2\">9.2 Support Vector Regression</a>,\n",
       " <a class=\"t-chapter js-chapter\" href=\"https://learning.oreilly.com/library/view/machine-learning-with/9780134845708/ch09.xhtml#ch09lev1sec3\">9.3 Piecewise Constant Regression</a>,\n",
       " <a class=\"t-chapter js-chapter\" href=\"https://learning.oreilly.com/library/view/machine-learning-with/9780134845708/ch09.xhtml#ch09lev1sec4\">9.4 Regression Trees</a>,\n",
       " <a class=\"t-chapter js-chapter\" href=\"https://learning.oreilly.com/library/view/machine-learning-with/9780134845708/ch09.xhtml#ch09lev1sec5\">9.5 Comparison of Regressors: Take Three</a>,\n",
       " <a class=\"t-chapter js-chapter\" href=\"https://learning.oreilly.com/library/view/machine-learning-with/9780134845708/ch09.xhtml#ch09lev1sec6\">9.6 EOC</a>,\n",
       " <a class=\"t-chapter js-chapter\" href=\"https://learning.oreilly.com/library/view/machine-learning-with/9780134845708/ch10.xhtml#ch10\">10. Manual Feature Engineering: Manipulating Data for Fun and Profit</a>,\n",
       " <a class=\"t-chapter js-chapter\" href=\"https://learning.oreilly.com/library/view/machine-learning-with/9780134845708/ch10.xhtml#ch10lev1sec1\">10.1 Feature Engineering Terminology and Motivation</a>,\n",
       " <a class=\"t-chapter js-chapter\" href=\"https://learning.oreilly.com/library/view/machine-learning-with/9780134845708/ch10.xhtml#ch10lev1sec2\">10.2 Feature Selection and Data Reduction: Taking out the Trash</a>,\n",
       " <a class=\"t-chapter js-chapter\" href=\"https://learning.oreilly.com/library/view/machine-learning-with/9780134845708/ch10.xhtml#ch10lev1sec3\">10.3 Feature Scaling</a>,\n",
       " <a class=\"t-chapter js-chapter\" href=\"https://learning.oreilly.com/library/view/machine-learning-with/9780134845708/ch10.xhtml#ch10lev1sec4\">10.4 Discretization</a>,\n",
       " <a class=\"t-chapter js-chapter\" href=\"https://learning.oreilly.com/library/view/machine-learning-with/9780134845708/ch10.xhtml#ch10lev1sec5\">10.5 Categorical Coding</a>,\n",
       " <a class=\"t-chapter js-chapter\" href=\"https://learning.oreilly.com/library/view/machine-learning-with/9780134845708/ch10.xhtml#ch10lev1sec6\">10.6 Relationships and Interactions</a>,\n",
       " <a class=\"t-chapter js-chapter\" href=\"https://learning.oreilly.com/library/view/machine-learning-with/9780134845708/ch10.xhtml#ch10lev1sec7\">10.7 Target Manipulations</a>,\n",
       " <a class=\"t-chapter js-chapter\" href=\"https://learning.oreilly.com/library/view/machine-learning-with/9780134845708/ch10.xhtml#ch10lev1sec8\">10.8 EOC</a>,\n",
       " <a class=\"t-chapter js-chapter\" href=\"https://learning.oreilly.com/library/view/machine-learning-with/9780134845708/ch11.xhtml#ch11\">11. Tuning Hyperparameters and Pipelines</a>,\n",
       " <a class=\"t-chapter js-chapter\" href=\"https://learning.oreilly.com/library/view/machine-learning-with/9780134845708/ch11.xhtml#ch11lev1sec1\">11.1 Models, Parameters, Hyperparameters</a>,\n",
       " <a class=\"t-chapter js-chapter\" href=\"https://learning.oreilly.com/library/view/machine-learning-with/9780134845708/ch11.xhtml#ch11lev1sec2\">11.2 Tuning Hyperparameters</a>,\n",
       " <a class=\"t-chapter js-chapter\" href=\"https://learning.oreilly.com/library/view/machine-learning-with/9780134845708/ch11.xhtml#ch11lev1sec3\">11.3 Down the Recursive Rabbit Hole: Nested Cross-Validation</a>,\n",
       " <a class=\"t-chapter js-chapter\" href=\"https://learning.oreilly.com/library/view/machine-learning-with/9780134845708/ch11.xhtml#ch11lev1sec4\">11.4 Pipelines</a>,\n",
       " <a class=\"t-chapter js-chapter\" href=\"https://learning.oreilly.com/library/view/machine-learning-with/9780134845708/ch11.xhtml#ch11lev1sec5\">11.5 Pipelines and Tuning Together</a>,\n",
       " <a class=\"t-chapter js-chapter\" href=\"https://learning.oreilly.com/library/view/machine-learning-with/9780134845708/ch11.xhtml#ch11lev1sec6\">11.6 EOC</a>,\n",
       " <a class=\"t-chapter js-chapter\" href=\"https://learning.oreilly.com/library/view/machine-learning-with/9780134845708/part04.xhtml#part04\">Part IV: Adding Complexity</a>,\n",
       " <a class=\"t-chapter js-chapter\" href=\"https://learning.oreilly.com/library/view/machine-learning-with/9780134845708/ch12.xhtml#ch12\">12. Combining Learners</a>,\n",
       " <a class=\"t-chapter js-chapter\" href=\"https://learning.oreilly.com/library/view/machine-learning-with/9780134845708/ch12.xhtml#ch12lev1sec1\">12.1 Ensembles</a>,\n",
       " <a class=\"t-chapter js-chapter\" href=\"https://learning.oreilly.com/library/view/machine-learning-with/9780134845708/ch12.xhtml#ch12lev1sec2\">12.2 Voting Ensembles</a>,\n",
       " <a class=\"t-chapter js-chapter\" href=\"https://learning.oreilly.com/library/view/machine-learning-with/9780134845708/ch12.xhtml#ch12lev1sec3\">12.3 Bagging and Random Forests</a>,\n",
       " <a class=\"t-chapter js-chapter\" href=\"https://learning.oreilly.com/library/view/machine-learning-with/9780134845708/ch12.xhtml#ch12lev1sec4\">12.4 Boosting</a>,\n",
       " <a class=\"t-chapter js-chapter\" href=\"https://learning.oreilly.com/library/view/machine-learning-with/9780134845708/ch12.xhtml#ch12lev1sec5\">12.5 Comparing the Tree-Ensemble Methods</a>,\n",
       " <a class=\"t-chapter js-chapter\" href=\"https://learning.oreilly.com/library/view/machine-learning-with/9780134845708/ch12.xhtml#ch12lev1sec6\">12.6 EOC</a>,\n",
       " <a class=\"t-chapter js-chapter\" href=\"https://learning.oreilly.com/library/view/machine-learning-with/9780134845708/ch13.xhtml#ch13\">13. Models That Engineer Features for Us</a>,\n",
       " <a class=\"t-chapter js-chapter\" href=\"https://learning.oreilly.com/library/view/machine-learning-with/9780134845708/ch13.xhtml#ch13lev1sec1\">13.1 Feature Selection</a>,\n",
       " <a class=\"t-chapter js-chapter\" href=\"https://learning.oreilly.com/library/view/machine-learning-with/9780134845708/ch13.xhtml#ch13lev1sec2\">13.2 Feature Construction with Kernels</a>,\n",
       " <a class=\"t-chapter js-chapter\" href=\"https://learning.oreilly.com/library/view/machine-learning-with/9780134845708/ch13.xhtml#ch13lev1sec3\">13.3 Principal Components Analysis: An Unsupervised Technique</a>,\n",
       " <a class=\"t-chapter js-chapter\" href=\"https://learning.oreilly.com/library/view/machine-learning-with/9780134845708/ch13.xhtml#ch13lev1sec4\">13.4 EOC</a>,\n",
       " <a class=\"t-chapter js-chapter\" href=\"https://learning.oreilly.com/library/view/machine-learning-with/9780134845708/ch14.xhtml#ch14\">14. Feature Engineering for Domains: Domain-Specific Learning</a>,\n",
       " <a class=\"t-chapter js-chapter\" href=\"https://learning.oreilly.com/library/view/machine-learning-with/9780134845708/ch14.xhtml#ch14lev1sec1\">14.1 Working with Text</a>,\n",
       " <a class=\"t-chapter js-chapter\" href=\"https://learning.oreilly.com/library/view/machine-learning-with/9780134845708/ch14.xhtml#ch14lev1sec2\">14.2 Clustering</a>,\n",
       " <a class=\"t-chapter js-chapter\" href=\"https://learning.oreilly.com/library/view/machine-learning-with/9780134845708/ch14.xhtml#ch14lev1sec3\">14.3 Working with Images</a>,\n",
       " <a class=\"t-chapter js-chapter\" href=\"https://learning.oreilly.com/library/view/machine-learning-with/9780134845708/ch14.xhtml#ch14lev1sec4\">14.4 EOC</a>,\n",
       " <a class=\"t-chapter js-chapter\" href=\"https://learning.oreilly.com/library/view/machine-learning-with/9780134845708/ch15.xhtml#ch15\">15. Connections, Extensions, and Further Directions</a>,\n",
       " <a class=\"t-chapter js-chapter\" href=\"https://learning.oreilly.com/library/view/machine-learning-with/9780134845708/ch15.xhtml#ch15lev1sec1\">15.1 Optimization</a>,\n",
       " <a class=\"t-chapter js-chapter\" href=\"https://learning.oreilly.com/library/view/machine-learning-with/9780134845708/ch15.xhtml#ch15lev1sec2\">15.2 Linear Regression from Raw Materials</a>,\n",
       " <a class=\"t-chapter js-chapter\" href=\"https://learning.oreilly.com/library/view/machine-learning-with/9780134845708/ch15.xhtml#ch15lev1sec3\">15.3 Building Logistic Regression from Raw Materials</a>,\n",
       " <a class=\"t-chapter js-chapter\" href=\"https://learning.oreilly.com/library/view/machine-learning-with/9780134845708/ch15.xhtml#ch15lev1sec4\">15.4 SVM from Raw Materials</a>,\n",
       " <a class=\"t-chapter js-chapter\" href=\"https://learning.oreilly.com/library/view/machine-learning-with/9780134845708/ch15.xhtml#ch15lev1sec5\">15.5 Neural Networks</a>,\n",
       " <a class=\"t-chapter js-chapter\" href=\"https://learning.oreilly.com/library/view/machine-learning-with/9780134845708/ch15.xhtml#ch15lev1sec6\">15.6 Probabilistic Graphical Models</a>,\n",
       " <a class=\"t-chapter js-chapter\" href=\"https://learning.oreilly.com/library/view/machine-learning-with/9780134845708/ch15.xhtml#ch15lev1sec7\">15.7 EOC</a>,\n",
       " <a class=\"t-chapter js-chapter\" href=\"https://learning.oreilly.com/library/view/machine-learning-with/9780134845708/app01.xhtml#app01\">A. mlwpy.py Listing</a>,\n",
       " <a class=\"t-chapter js-chapter\" href=\"https://learning.oreilly.com/library/view/machine-learning-with/9780134845708/index.xhtml#index\">Index</a>,\n",
       " <a class=\"t-chapter js-chapter\" href=\"https://learning.oreilly.com/library/view/machine-learning-with/9780134845708/ch02_images.xhtml#ch02_images\">Code Snippets</a>]"
      ]
     },
     "execution_count": 6,
     "metadata": {},
     "output_type": "execute_result"
    }
   ],
   "source": [
    "links = data.find_all(\"a\", class_='t-chapter')\n",
    "links"
   ]
  },
  {
   "cell_type": "code",
   "execution_count": 18,
   "metadata": {},
   "outputs": [
    {
     "name": "stdout",
     "output_type": "stream",
     "text": [
      "17 1. Let’s Discuss Learning\n",
      "26 2. Some Technical Background\n",
      "38 3. Predicting Categories: Getting Started with Classification\n",
      "47 4. Predicting Numerical Values: Getting Started with Regression\n",
      "55 5. Evaluating and Comparing Learners\n",
      "65 6. Evaluating Classifiers\n",
      "74 7. Evaluating Regressors\n",
      "82 8. More Classification Methods\n",
      "91 9. More Regression Methods\n",
      "98 10. Manual Feature Engineering: Manipulating Data for Fun and Profit\n",
      "107 11. Tuning Hyperparameters and Pipelines\n",
      "115 12. Combining Learners\n",
      "122 13. Models That Engineer Features for Us\n",
      "127 14. Feature Engineering for Domains: Domain-Specific Learning\n",
      "132 15. Connections, Extensions, and Further Directions\n"
     ]
    }
   ],
   "source": [
    "# find the regex experession to grab the page links\n",
    "# there is a link for each section on each page - which creates repetition of materials. grabbing only the first link gets the entire page exactly once.\n",
    "\n",
    "regex = \"^[\\d].[\\s]|^1[\\d].[\\s]\"\n",
    "\n",
    "for num in range(len(links)):\n",
    "    x = re.search(regex,links[num].string)\n",
    "    if x:\n",
    "        print(num,links[num].string)\n"
   ]
  },
  {
   "cell_type": "code",
   "execution_count": 19,
   "metadata": {},
   "outputs": [
    {
     "data": {
      "text/plain": [
       "['https://learning.oreilly.com/library/view/machine-learning-with/9780134845708/ch01.xhtml#ch01',\n",
       " 'https://learning.oreilly.com/library/view/machine-learning-with/9780134845708/ch02.xhtml#ch02',\n",
       " 'https://learning.oreilly.com/library/view/machine-learning-with/9780134845708/ch03.xhtml#ch03',\n",
       " 'https://learning.oreilly.com/library/view/machine-learning-with/9780134845708/ch04.xhtml#ch04',\n",
       " 'https://learning.oreilly.com/library/view/machine-learning-with/9780134845708/ch05.xhtml#ch05',\n",
       " 'https://learning.oreilly.com/library/view/machine-learning-with/9780134845708/ch06.xhtml#ch06',\n",
       " 'https://learning.oreilly.com/library/view/machine-learning-with/9780134845708/ch07.xhtml#ch07',\n",
       " 'https://learning.oreilly.com/library/view/machine-learning-with/9780134845708/ch08.xhtml#ch08',\n",
       " 'https://learning.oreilly.com/library/view/machine-learning-with/9780134845708/ch09.xhtml#ch09',\n",
       " 'https://learning.oreilly.com/library/view/machine-learning-with/9780134845708/ch10.xhtml#ch10',\n",
       " 'https://learning.oreilly.com/library/view/machine-learning-with/9780134845708/ch11.xhtml#ch11',\n",
       " 'https://learning.oreilly.com/library/view/machine-learning-with/9780134845708/ch12.xhtml#ch12',\n",
       " 'https://learning.oreilly.com/library/view/machine-learning-with/9780134845708/ch13.xhtml#ch13',\n",
       " 'https://learning.oreilly.com/library/view/machine-learning-with/9780134845708/ch14.xhtml#ch14',\n",
       " 'https://learning.oreilly.com/library/view/machine-learning-with/9780134845708/ch15.xhtml#ch15']"
      ]
     },
     "execution_count": 19,
     "metadata": {},
     "output_type": "execute_result"
    }
   ],
   "source": [
    "endpoints = []\n",
    "for link in links:\n",
    "    if re.search(regex,link.string): \n",
    "        endpoints.append(link['href'])\n",
    "\n",
    "# endpoints = endpoints[11:]\n",
    "endpoints"
   ]
  },
  {
   "cell_type": "code",
   "execution_count": 20,
   "metadata": {},
   "outputs": [],
   "source": [
    "def spider(url):\n",
    "    \"\"\"Perform web scraping for url\"\"\"\n",
    "    \n",
    "    headers = {'user-agent': 'access book text (wat6sv@virginia.edu)'}\n",
    "    r = requests.get(url, headers=headers)\n",
    "\n",
    "    if r.status_code == 200:\n",
    "        site_html = BeautifulSoup(r.text, \"html.parser\")\n",
    "        text = site_html.get_text()\n",
    "\n",
    "        f=open(\"./RAG-Docs/processed/MLwithPythonforEveryone-Fenner.txt\", \"a\")\n",
    "        f.write(text)\n",
    "        f.close()"
   ]
  },
  {
   "cell_type": "code",
   "execution_count": 21,
   "metadata": {},
   "outputs": [],
   "source": [
    "for endpoint in endpoints:\n",
    "    spider(endpoint)"
   ]
  },
  {
   "cell_type": "markdown",
   "metadata": {},
   "source": []
  },
  {
   "cell_type": "code",
   "execution_count": null,
   "metadata": {},
   "outputs": [],
   "source": []
  }
 ],
 "metadata": {
  "kernelspec": {
   "display_name": "base",
   "language": "python",
   "name": "python3"
  },
  "language_info": {
   "codemirror_mode": {
    "name": "ipython",
    "version": 3
   },
   "file_extension": ".py",
   "mimetype": "text/x-python",
   "name": "python",
   "nbconvert_exporter": "python",
   "pygments_lexer": "ipython3",
   "version": "3.11.4"
  }
 },
 "nbformat": 4,
 "nbformat_minor": 2
}
