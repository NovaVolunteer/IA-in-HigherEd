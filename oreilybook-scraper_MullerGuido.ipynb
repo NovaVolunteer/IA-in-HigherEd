{
 "cells": [
  {
   "cell_type": "markdown",
   "metadata": {},
   "source": [
    "This notebook contains the code to crawl through the \"Introduction to Machine Learning with Python\" book from https://learning.oreilly.com/library/view/introduction-to-machine/9781449369880/ and save the text from each page into a text file."
   ]
  },
  {
   "cell_type": "code",
   "execution_count": 13,
   "metadata": {},
   "outputs": [],
   "source": [
    "import requests\n",
    "import numpy as np\n",
    "import pandas as pd\n",
    "\n",
    "from bs4 import BeautifulSoup\n",
    "\n",
    "import re"
   ]
  },
  {
   "cell_type": "code",
   "execution_count": 14,
   "metadata": {},
   "outputs": [
    {
     "data": {
      "text/plain": [
       "<Response [200]>"
      ]
     },
     "execution_count": 14,
     "metadata": {},
     "output_type": "execute_result"
    }
   ],
   "source": [
    "headers = {'user-agent': 'access book text (wat6sv@virginia.edu)'}\n",
    "r = requests.get(\"https://learning.oreilly.com/library/view/introduction-to-machine/9781449369880/\", headers = headers)\n",
    "r"
   ]
  },
  {
   "cell_type": "code",
   "execution_count": 16,
   "metadata": {},
   "outputs": [],
   "source": [
    "data = BeautifulSoup(r.text, \"html.parser\")"
   ]
  },
  {
   "cell_type": "code",
   "execution_count": 17,
   "metadata": {},
   "outputs": [],
   "source": [
    "# print(data.get_text())"
   ]
  },
  {
   "cell_type": "code",
   "execution_count": 20,
   "metadata": {},
   "outputs": [
    {
     "data": {
      "text/plain": [
       "[<a class=\"t-chapter js-chapter\" href=\"https://learning.oreilly.com/library/view/introduction-to-machine/9781449369880/preface01.html#idm140338259230048\">Preface</a>,\n",
       " <a class=\"t-chapter js-chapter\" href=\"https://learning.oreilly.com/library/view/introduction-to-machine/9781449369880/preface01.html#idm140338258755280\">Who Should Read This Book</a>,\n",
       " <a class=\"t-chapter js-chapter\" href=\"https://learning.oreilly.com/library/view/introduction-to-machine/9781449369880/preface01.html#idm140338259048992\">Why We Wrote This Book</a>,\n",
       " <a class=\"t-chapter js-chapter\" href=\"https://learning.oreilly.com/library/view/introduction-to-machine/9781449369880/preface01.html#idm140338259046144\">Navigating This Book</a>,\n",
       " <a class=\"t-chapter js-chapter\" href=\"https://learning.oreilly.com/library/view/introduction-to-machine/9781449369880/preface01.html#idm140338258963168\">Online Resources</a>,\n",
       " <a class=\"t-chapter js-chapter\" href=\"https://learning.oreilly.com/library/view/introduction-to-machine/9781449369880/preface01.html#idm140338258956688\">Conventions Used in This Book</a>,\n",
       " <a class=\"t-chapter js-chapter\" href=\"https://learning.oreilly.com/library/view/introduction-to-machine/9781449369880/preface01.html#idm140338259079696\">Using Code Examples</a>,\n",
       " <a class=\"t-chapter js-chapter\" href=\"https://learning.oreilly.com/library/view/introduction-to-machine/9781449369880/preface01.html#idm140338258985120\">O’Reilly Safari</a>,\n",
       " <a class=\"t-chapter js-chapter\" href=\"https://learning.oreilly.com/library/view/introduction-to-machine/9781449369880/preface01.html#idm140338259011104\">How to Contact Us</a>,\n",
       " <a class=\"t-chapter js-chapter\" href=\"https://learning.oreilly.com/library/view/introduction-to-machine/9781449369880/preface01.html#idm140338259338144\">Acknowledgments</a>,\n",
       " <a class=\"t-chapter js-chapter\" href=\"https://learning.oreilly.com/library/view/introduction-to-machine/9781449369880/preface01.html#idm140338258977744\">From Andreas</a>,\n",
       " <a class=\"t-chapter js-chapter\" href=\"https://learning.oreilly.com/library/view/introduction-to-machine/9781449369880/preface01.html#idm140338258977440\">From Sarah</a>,\n",
       " <a class=\"t-chapter js-chapter\" href=\"https://learning.oreilly.com/library/view/introduction-to-machine/9781449369880/ch01.html#introduction\">1. Introduction</a>,\n",
       " <a class=\"t-chapter js-chapter\" href=\"https://learning.oreilly.com/library/view/introduction-to-machine/9781449369880/ch01.html#why-machine-learning\">1.1. Why Machine Learning?</a>,\n",
       " <a class=\"t-chapter js-chapter\" href=\"https://learning.oreilly.com/library/view/introduction-to-machine/9781449369880/ch01.html#problems-that-machine-learning-can-solve\">1.1.1. Problems Machine Learning Can Solve</a>,\n",
       " <a class=\"t-chapter js-chapter\" href=\"https://learning.oreilly.com/library/view/introduction-to-machine/9781449369880/ch01.html#knowing-your-task-and-knowing-your-data\">1.1.2. Knowing Your Task and Knowing Your Data</a>,\n",
       " <a class=\"t-chapter js-chapter\" href=\"https://learning.oreilly.com/library/view/introduction-to-machine/9781449369880/ch01.html#why-python\">1.2. Why Python?</a>,\n",
       " <a class=\"t-chapter js-chapter\" href=\"https://learning.oreilly.com/library/view/introduction-to-machine/9781449369880/ch01.html#scikit-learn\">1.3. scikit-learn</a>,\n",
       " <a class=\"t-chapter js-chapter\" href=\"https://learning.oreilly.com/library/view/introduction-to-machine/9781449369880/ch01.html#installing-scikit-learn\">1.3.1. Installing scikit-learn</a>,\n",
       " <a class=\"t-chapter js-chapter\" href=\"https://learning.oreilly.com/library/view/introduction-to-machine/9781449369880/ch01.html#essential-libraries-and-tools\">1.4. Essential Libraries and Tools</a>,\n",
       " <a class=\"t-chapter js-chapter\" href=\"https://learning.oreilly.com/library/view/introduction-to-machine/9781449369880/ch01.html#jupyter-notebook\">1.4.1. Jupyter Notebook</a>,\n",
       " <a class=\"t-chapter js-chapter\" href=\"https://learning.oreilly.com/library/view/introduction-to-machine/9781449369880/ch01.html#numpy\">1.4.2. NumPy</a>,\n",
       " <a class=\"t-chapter js-chapter\" href=\"https://learning.oreilly.com/library/view/introduction-to-machine/9781449369880/ch01.html#scipy\">1.4.3. SciPy</a>,\n",
       " <a class=\"t-chapter js-chapter\" href=\"https://learning.oreilly.com/library/view/introduction-to-machine/9781449369880/ch01.html#matplotlib\">1.4.4. matplotlib</a>,\n",
       " <a class=\"t-chapter js-chapter\" href=\"https://learning.oreilly.com/library/view/introduction-to-machine/9781449369880/ch01.html#pandas\">1.4.5. pandas</a>,\n",
       " <a class=\"t-chapter js-chapter\" href=\"https://learning.oreilly.com/library/view/introduction-to-machine/9781449369880/ch01.html#mglearn\">1.4.6. mglearn</a>,\n",
       " <a class=\"t-chapter js-chapter\" href=\"https://learning.oreilly.com/library/view/introduction-to-machine/9781449369880/ch01.html#python2-versus-python3\">1.5. Python 2 Versus Python 3</a>,\n",
       " <a class=\"t-chapter js-chapter\" href=\"https://learning.oreilly.com/library/view/introduction-to-machine/9781449369880/ch01.html#versions-used-in-this-book\">1.6. Versions Used in this Book</a>,\n",
       " <a class=\"t-chapter js-chapter\" href=\"https://learning.oreilly.com/library/view/introduction-to-machine/9781449369880/ch01.html#a-first-application-classifying-iris-species\">1.7. A First Application: Classifying Iris Species</a>,\n",
       " <a class=\"t-chapter js-chapter\" href=\"https://learning.oreilly.com/library/view/introduction-to-machine/9781449369880/ch01.html#meet-the-data\">1.7.1. Meet the Data</a>,\n",
       " <a class=\"t-chapter js-chapter\" href=\"https://learning.oreilly.com/library/view/introduction-to-machine/9781449369880/ch01.html#measuring-success-training-and-testing-data\">1.7.2. Measuring Success: Training and Testing Data</a>,\n",
       " <a class=\"t-chapter js-chapter\" href=\"https://learning.oreilly.com/library/view/introduction-to-machine/9781449369880/ch01.html#first-things-first-look-at-your-data\">1.7.3. First Things First: Look at Your Data</a>,\n",
       " <a class=\"t-chapter js-chapter\" href=\"https://learning.oreilly.com/library/view/introduction-to-machine/9781449369880/ch01.html#building-your-first-model-k-nearest-neighbors\">1.7.4. Building Your First Model: k-Nearest Neighbors</a>,\n",
       " <a class=\"t-chapter js-chapter\" href=\"https://learning.oreilly.com/library/view/introduction-to-machine/9781449369880/ch01.html#making-predictions\">1.7.5. Making Predictions</a>,\n",
       " <a class=\"t-chapter js-chapter\" href=\"https://learning.oreilly.com/library/view/introduction-to-machine/9781449369880/ch01.html#evaluating-the-model\">1.7.6. Evaluating the Model</a>,\n",
       " <a class=\"t-chapter js-chapter\" href=\"https://learning.oreilly.com/library/view/introduction-to-machine/9781449369880/ch01.html#summary\">1.8. Summary and Outlook</a>,\n",
       " <a class=\"t-chapter js-chapter\" href=\"https://learning.oreilly.com/library/view/introduction-to-machine/9781449369880/ch02.html#supervised-learning\">2. Supervised Learning</a>,\n",
       " <a class=\"t-chapter js-chapter\" href=\"https://learning.oreilly.com/library/view/introduction-to-machine/9781449369880/ch02.html#classification-and-regression\">2.1. Classification and Regression</a>,\n",
       " <a class=\"t-chapter js-chapter\" href=\"https://learning.oreilly.com/library/view/introduction-to-machine/9781449369880/ch02.html#generalization-overfitting-and-underfitting\">2.2. Generalization, Overfitting, and Underfitting</a>,\n",
       " <a class=\"t-chapter js-chapter\" href=\"https://learning.oreilly.com/library/view/introduction-to-machine/9781449369880/ch02.html#relation-of-model-complexity-to-dataset-size\">2.2.1. Relation of Model Complexity to Dataset Size</a>,\n",
       " <a class=\"t-chapter js-chapter\" href=\"https://learning.oreilly.com/library/view/introduction-to-machine/9781449369880/ch02.html#supervised-machine-learning-algorithms\">2.3. Supervised Machine Learning Algorithms</a>,\n",
       " <a class=\"t-chapter js-chapter\" href=\"https://learning.oreilly.com/library/view/introduction-to-machine/9781449369880/ch02.html#idm140338260247344\">2.3.1. Some Sample Datasets</a>,\n",
       " <a class=\"t-chapter js-chapter\" href=\"https://learning.oreilly.com/library/view/introduction-to-machine/9781449369880/ch02.html#k-nearest-neighbor\">2.3.2. k-Nearest Neighbors</a>,\n",
       " <a class=\"t-chapter js-chapter\" href=\"https://learning.oreilly.com/library/view/introduction-to-machine/9781449369880/ch02.html#linear-models\">2.3.3. Linear Models</a>,\n",
       " <a class=\"t-chapter js-chapter\" href=\"https://learning.oreilly.com/library/view/introduction-to-machine/9781449369880/ch02.html#naive-bayes-classifiers\">2.3.4. Naive Bayes Classifiers</a>,\n",
       " <a class=\"t-chapter js-chapter\" href=\"https://learning.oreilly.com/library/view/introduction-to-machine/9781449369880/ch02.html#decision-trees\">2.3.5. Decision Trees</a>,\n",
       " <a class=\"t-chapter js-chapter\" href=\"https://learning.oreilly.com/library/view/introduction-to-machine/9781449369880/ch02.html#ensembles-of-decision-trees\">2.3.6. Ensembles of Decision Trees</a>,\n",
       " <a class=\"t-chapter js-chapter\" href=\"https://learning.oreilly.com/library/view/introduction-to-machine/9781449369880/ch02.html#kernelized-support-vector-machines\">2.3.7. Kernelized Support Vector Machines</a>,\n",
       " <a class=\"t-chapter js-chapter\" href=\"https://learning.oreilly.com/library/view/introduction-to-machine/9781449369880/ch02.html#neural-networks-deep-learning\">2.3.8. Neural Networks (Deep Learning)</a>,\n",
       " <a class=\"t-chapter js-chapter\" href=\"https://learning.oreilly.com/library/view/introduction-to-machine/9781449369880/ch02.html#uncertainty-estimates-from-classifiers\">2.4. Uncertainty Estimates from Classifiers</a>,\n",
       " <a class=\"t-chapter js-chapter\" href=\"https://learning.oreilly.com/library/view/introduction-to-machine/9781449369880/ch02.html#the-decision-function\">2.4.1. The Decision Function</a>,\n",
       " <a class=\"t-chapter js-chapter\" href=\"https://learning.oreilly.com/library/view/introduction-to-machine/9781449369880/ch02.html#predicting-probabilities\">2.4.2. Predicting Probabilities</a>,\n",
       " <a class=\"t-chapter js-chapter\" href=\"https://learning.oreilly.com/library/view/introduction-to-machine/9781449369880/ch02.html#uncertainty-in-multi-class-classification\">2.4.3. Uncertainty in Multiclass Classification</a>,\n",
       " <a class=\"t-chapter js-chapter\" href=\"https://learning.oreilly.com/library/view/introduction-to-machine/9781449369880/ch02.html#supervised-learning-summary-and-outlook\">2.5. Summary and Outlook</a>,\n",
       " <a class=\"t-chapter js-chapter\" href=\"https://learning.oreilly.com/library/view/introduction-to-machine/9781449369880/ch03.html#unsupervised-learning-and-preprocessing\">3. Unsupervised Learning and Preprocessing</a>,\n",
       " <a class=\"t-chapter js-chapter\" href=\"https://learning.oreilly.com/library/view/introduction-to-machine/9781449369880/ch03.html#types-of-unsupervised-learning\">3.1. Types of Unsupervised Learning</a>,\n",
       " <a class=\"t-chapter js-chapter\" href=\"https://learning.oreilly.com/library/view/introduction-to-machine/9781449369880/ch03.html#challenges-in-unsupervised-learning\">3.2. Challenges in Unsupervised Learning</a>,\n",
       " <a class=\"t-chapter js-chapter\" href=\"https://learning.oreilly.com/library/view/introduction-to-machine/9781449369880/ch03.html#preprocessing-and-scaling\">3.3. Preprocessing and Scaling</a>,\n",
       " <a class=\"t-chapter js-chapter\" href=\"https://learning.oreilly.com/library/view/introduction-to-machine/9781449369880/ch03.html#different-kinds-of-preprocessing\">3.3.1. Different Kinds of Preprocessing</a>,\n",
       " <a class=\"t-chapter js-chapter\" href=\"https://learning.oreilly.com/library/view/introduction-to-machine/9781449369880/ch03.html#applying-data-transformations\">3.3.2. Applying Data Transformations</a>,\n",
       " <a class=\"t-chapter js-chapter\" href=\"https://learning.oreilly.com/library/view/introduction-to-machine/9781449369880/ch03.html#scaling-training-and-test-data-the-same-way\">3.3.3. Scaling Training and Test Data the Same Way</a>,\n",
       " <a class=\"t-chapter js-chapter\" href=\"https://learning.oreilly.com/library/view/introduction-to-machine/9781449369880/ch03.html#the-effect-of-preprocessing-on-supervised-learning\">3.3.4. The Effect of Preprocessing on Supervised Learning</a>,\n",
       " <a class=\"t-chapter js-chapter\" href=\"https://learning.oreilly.com/library/view/introduction-to-machine/9781449369880/ch03.html#dimensionality-reduction-feature-extraction-and-manifold-learning\">3.4. Dimensionality Reduction, Feature Extraction, and Manifold Learning</a>,\n",
       " <a class=\"t-chapter js-chapter\" href=\"https://learning.oreilly.com/library/view/introduction-to-machine/9781449369880/ch03.html#principal-component-analysis-pca\">3.4.1. Principal Component Analysis (PCA)</a>,\n",
       " <a class=\"t-chapter js-chapter\" href=\"https://learning.oreilly.com/library/view/introduction-to-machine/9781449369880/ch03.html#non-negative-matrix-factorization-nmf\">3.4.2. Non-Negative Matrix Factorization (NMF)</a>,\n",
       " <a class=\"t-chapter js-chapter\" href=\"https://learning.oreilly.com/library/view/introduction-to-machine/9781449369880/ch03.html#manifold-learning-with-t-sne\">3.4.3. Manifold Learning with t-SNE</a>,\n",
       " <a class=\"t-chapter js-chapter\" href=\"https://learning.oreilly.com/library/view/introduction-to-machine/9781449369880/ch03.html#clustering\">3.5. Clustering</a>,\n",
       " <a class=\"t-chapter js-chapter\" href=\"https://learning.oreilly.com/library/view/introduction-to-machine/9781449369880/ch03.html#k-means-clustering\">3.5.1. k-Means Clustering</a>,\n",
       " <a class=\"t-chapter js-chapter\" href=\"https://learning.oreilly.com/library/view/introduction-to-machine/9781449369880/ch03.html#agglomerative-clustering\">3.5.2. Agglomerative Clustering</a>,\n",
       " <a class=\"t-chapter js-chapter\" href=\"https://learning.oreilly.com/library/view/introduction-to-machine/9781449369880/ch03.html#dbscan\">3.5.3. DBSCAN</a>,\n",
       " <a class=\"t-chapter js-chapter\" href=\"https://learning.oreilly.com/library/view/introduction-to-machine/9781449369880/ch03.html#comparing-and-evaluating-clustering-algorithms\">3.5.4. Comparing and Evaluating Clustering Algorithms</a>,\n",
       " <a class=\"t-chapter js-chapter\" href=\"https://learning.oreilly.com/library/view/introduction-to-machine/9781449369880/ch03.html#summary-of-clustering-methods\">3.5.5. Summary of Clustering Methods</a>,\n",
       " <a class=\"t-chapter js-chapter\" href=\"https://learning.oreilly.com/library/view/introduction-to-machine/9781449369880/ch03.html#unsupervised-learning-summary-and-outlook\">3.6. Summary and Outlook</a>,\n",
       " <a class=\"t-chapter js-chapter\" href=\"https://learning.oreilly.com/library/view/introduction-to-machine/9781449369880/ch04.html#representing-data-and-engineering-features\">4. Representing Data and Engineering Features</a>,\n",
       " <a class=\"t-chapter js-chapter\" href=\"https://learning.oreilly.com/library/view/introduction-to-machine/9781449369880/ch04.html#categorical-variables\">4.1. Categorical Variables</a>,\n",
       " <a class=\"t-chapter js-chapter\" href=\"https://learning.oreilly.com/library/view/introduction-to-machine/9781449369880/ch04.html#one-hot-encoding-dummy-variables\">4.1.1. One-Hot-Encoding (Dummy Variables)</a>,\n",
       " <a class=\"t-chapter js-chapter\" href=\"https://learning.oreilly.com/library/view/introduction-to-machine/9781449369880/ch04.html#numbers-can-encode-categoricals\">4.1.2. Numbers Can Encode Categoricals</a>,\n",
       " <a class=\"t-chapter js-chapter\" href=\"https://learning.oreilly.com/library/view/introduction-to-machine/9781449369880/ch04.html#onehotencoder-and-columntransformer-categorical-variables-with-scikit-learn\">4.2. OneHotEncoder and ColumnTransformer: Categorical Variables with scikit-learn</a>,\n",
       " <a class=\"t-chapter js-chapter\" href=\"https://learning.oreilly.com/library/view/introduction-to-machine/9781449369880/ch04.html#convenient-columntransformer-creation-with-make_columntransformer\">4.3. Convenient ColumnTransformer creation with make_columntransformer</a>,\n",
       " <a class=\"t-chapter js-chapter\" href=\"https://learning.oreilly.com/library/view/introduction-to-machine/9781449369880/ch04.html#binning-discretization-linear-models-and-trees\">4.4. Binning, Discretization, Linear Models, and Trees</a>,\n",
       " <a class=\"t-chapter js-chapter\" href=\"https://learning.oreilly.com/library/view/introduction-to-machine/9781449369880/ch04.html#interactions-and-polynomials\">4.5. Interactions and Polynomials</a>,\n",
       " <a class=\"t-chapter js-chapter\" href=\"https://learning.oreilly.com/library/view/introduction-to-machine/9781449369880/ch04.html#univariate-non-linear-transformations\">4.6. Univariate Nonlinear Transformations</a>,\n",
       " <a class=\"t-chapter js-chapter\" href=\"https://learning.oreilly.com/library/view/introduction-to-machine/9781449369880/ch04.html#automatic-feature-selection\">4.7. Automatic Feature Selection</a>,\n",
       " <a class=\"t-chapter js-chapter\" href=\"https://learning.oreilly.com/library/view/introduction-to-machine/9781449369880/ch04.html#univariate-statistics\">4.7.1. Univariate Statistics</a>,\n",
       " <a class=\"t-chapter js-chapter\" href=\"https://learning.oreilly.com/library/view/introduction-to-machine/9781449369880/ch04.html#model-based-feature-selection\">4.7.2. Model-Based Feature Selection</a>,\n",
       " <a class=\"t-chapter js-chapter\" href=\"https://learning.oreilly.com/library/view/introduction-to-machine/9781449369880/ch04.html#iterative-feature-selection\">4.7.3. Iterative Feature Selection</a>,\n",
       " <a class=\"t-chapter js-chapter\" href=\"https://learning.oreilly.com/library/view/introduction-to-machine/9781449369880/ch04.html#utilizing-expert-knowledge\">4.8. Utilizing Expert Knowledge</a>,\n",
       " <a class=\"t-chapter js-chapter\" href=\"https://learning.oreilly.com/library/view/introduction-to-machine/9781449369880/ch04.html#representing-data-summary-and-outlook\">4.9. Summary and Outlook</a>,\n",
       " <a class=\"t-chapter js-chapter\" href=\"https://learning.oreilly.com/library/view/introduction-to-machine/9781449369880/ch05.html#model-evaluation-and-improvement\">5. Model Evaluation and Improvement</a>,\n",
       " <a class=\"t-chapter js-chapter\" href=\"https://learning.oreilly.com/library/view/introduction-to-machine/9781449369880/ch05.html#cross-validation\">5.1. Cross-Validation</a>,\n",
       " <a class=\"t-chapter js-chapter\" href=\"https://learning.oreilly.com/library/view/introduction-to-machine/9781449369880/ch05.html#cross-validation-in-scikit-learn\">5.1.1. Cross-Validation in scikit-learn</a>,\n",
       " <a class=\"t-chapter js-chapter\" href=\"https://learning.oreilly.com/library/view/introduction-to-machine/9781449369880/ch05.html#benefits-of-cross-validation\">5.1.2. Benefits of Cross-Validation</a>,\n",
       " <a class=\"t-chapter js-chapter\" href=\"https://learning.oreilly.com/library/view/introduction-to-machine/9781449369880/ch05.html#stratified-k-fold-cross-validation-and-other-strategies\">5.1.3. Stratified k-Fold Cross-Validation and Other Strategies</a>,\n",
       " <a class=\"t-chapter js-chapter\" href=\"https://learning.oreilly.com/library/view/introduction-to-machine/9781449369880/ch05.html#grid-search\">5.2. Grid Search</a>,\n",
       " <a class=\"t-chapter js-chapter\" href=\"https://learning.oreilly.com/library/view/introduction-to-machine/9781449369880/ch05.html#simple-grid-search\">5.2.1. Simple Grid Search</a>,\n",
       " <a class=\"t-chapter js-chapter\" href=\"https://learning.oreilly.com/library/view/introduction-to-machine/9781449369880/ch05.html#the-danger-of-overfitting-the-parameters-and-the-validation-set\">5.2.2. The Danger of Overfitting the Parameters and the Validation Set</a>,\n",
       " <a class=\"t-chapter js-chapter\" href=\"https://learning.oreilly.com/library/view/introduction-to-machine/9781449369880/ch05.html#grid-search-with-cross-validation\">5.2.3. Grid Search with Cross-Validation</a>,\n",
       " <a class=\"t-chapter js-chapter\" href=\"https://learning.oreilly.com/library/view/introduction-to-machine/9781449369880/ch05.html#evaluation-metrics-and-scoring\">5.3. Evaluation Metrics and Scoring</a>,\n",
       " <a class=\"t-chapter js-chapter\" href=\"https://learning.oreilly.com/library/view/introduction-to-machine/9781449369880/ch05.html#keep-the-end-goal-in-mind\">5.3.1. Keep the End Goal in Mind</a>,\n",
       " <a class=\"t-chapter js-chapter\" href=\"https://learning.oreilly.com/library/view/introduction-to-machine/9781449369880/ch05.html#metrics-for-binary-classification\">5.3.2. Metrics for Binary Classification</a>,\n",
       " <a class=\"t-chapter js-chapter\" href=\"https://learning.oreilly.com/library/view/introduction-to-machine/9781449369880/ch05.html#multi-class-classification\">5.3.3. Metrics for Multiclass Classification</a>,\n",
       " <a class=\"t-chapter js-chapter\" href=\"https://learning.oreilly.com/library/view/introduction-to-machine/9781449369880/ch05.html#regression-metrics\">5.3.4. Regression Metrics</a>,\n",
       " <a class=\"t-chapter js-chapter\" href=\"https://learning.oreilly.com/library/view/introduction-to-machine/9781449369880/ch05.html#using-evaluation-metrics-in-model-selection\">5.3.5. Using Evaluation Metrics in Model Selection</a>,\n",
       " <a class=\"t-chapter js-chapter\" href=\"https://learning.oreilly.com/library/view/introduction-to-machine/9781449369880/ch05.html#model-evaluation-summary-and-outlook\">5.4. Summary and Outlook</a>,\n",
       " <a class=\"t-chapter js-chapter\" href=\"https://learning.oreilly.com/library/view/introduction-to-machine/9781449369880/ch06.html#algorithm-chains-and-pipelines\">6. Algorithm Chains and Pipelines</a>,\n",
       " <a class=\"t-chapter js-chapter\" href=\"https://learning.oreilly.com/library/view/introduction-to-machine/9781449369880/ch06.html#parameter-selection-with-preprocessing\">6.1. Parameter Selection with Preprocessing</a>,\n",
       " <a class=\"t-chapter js-chapter\" href=\"https://learning.oreilly.com/library/view/introduction-to-machine/9781449369880/ch06.html#building-pipelines\">6.2. Building Pipelines</a>,\n",
       " <a class=\"t-chapter js-chapter\" href=\"https://learning.oreilly.com/library/view/introduction-to-machine/9781449369880/ch06.html#using-pipelines-in-grid-searches\">6.3. Using Pipelines in Grid Searches</a>,\n",
       " <a class=\"t-chapter js-chapter\" href=\"https://learning.oreilly.com/library/view/introduction-to-machine/9781449369880/ch06.html#the-general-pipeline-interface\">6.4. The General Pipeline Interface</a>,\n",
       " <a class=\"t-chapter js-chapter\" href=\"https://learning.oreilly.com/library/view/introduction-to-machine/9781449369880/ch06.html#convenient-pipeline-creation-with-make_pipeline\">6.4.1. Convenient Pipeline Creation with make_pipeline</a>,\n",
       " <a class=\"t-chapter js-chapter\" href=\"https://learning.oreilly.com/library/view/introduction-to-machine/9781449369880/ch06.html#accessing-step-attributes\">6.4.2. Accessing Step Attributes</a>,\n",
       " <a class=\"t-chapter js-chapter\" href=\"https://learning.oreilly.com/library/view/introduction-to-machine/9781449369880/ch06.html#accessing-attributes-in-grid-searched-pipeline.\">6.4.3. Accessing Attributes in a Pipeline inside GridSearchCV</a>,\n",
       " <a class=\"t-chapter js-chapter\" href=\"https://learning.oreilly.com/library/view/introduction-to-machine/9781449369880/ch06.html#grid-searching-preprocessing-steps-and-model-parameters\">6.5. Grid-Searching Preprocessing Steps and Model Parameters</a>,\n",
       " <a class=\"t-chapter js-chapter\" href=\"https://learning.oreilly.com/library/view/introduction-to-machine/9781449369880/ch06.html#grid-searching-what-model-to-use\">6.6. Grid-Searching Which Model To Use</a>,\n",
       " <a class=\"t-chapter js-chapter\" href=\"https://learning.oreilly.com/library/view/introduction-to-machine/9781449369880/ch06.html#avoiding-redundant-computation\">6.6.1. Avoiding Redundant Computation</a>,\n",
       " <a class=\"t-chapter js-chapter\" href=\"https://learning.oreilly.com/library/view/introduction-to-machine/9781449369880/ch06.html#algorithm-chains-summary-and-outlook\">6.7. Summary and Outlook</a>,\n",
       " <a class=\"t-chapter js-chapter\" href=\"https://learning.oreilly.com/library/view/introduction-to-machine/9781449369880/ch07.html#working-with-text-data\">7. Working with Text Data</a>,\n",
       " <a class=\"t-chapter js-chapter\" href=\"https://learning.oreilly.com/library/view/introduction-to-machine/9781449369880/ch07.html#types-of-data-represented-as-strings\">7.1. Types of Data Represented as Strings</a>,\n",
       " <a class=\"t-chapter js-chapter\" href=\"https://learning.oreilly.com/library/view/introduction-to-machine/9781449369880/ch07.html#example-application-sentiment-analysis-of-movie-reviews\">7.2. Example Application: Sentiment Analysis of Movie Reviews</a>,\n",
       " <a class=\"t-chapter js-chapter\" href=\"https://learning.oreilly.com/library/view/introduction-to-machine/9781449369880/ch07.html#representing-text-data-as-bag-of-words\">7.3. Representing Text Data as a Bag of Words</a>,\n",
       " <a class=\"t-chapter js-chapter\" href=\"https://learning.oreilly.com/library/view/introduction-to-machine/9781449369880/ch07.html#applying-bag-of-words-to-a-toy-dataset\">7.3.1. Applying Bag-of-Words to a Toy Dataset</a>,\n",
       " <a class=\"t-chapter js-chapter\" href=\"https://learning.oreilly.com/library/view/introduction-to-machine/9781449369880/ch07.html#bag-of-word-for-movie-reviews\">7.3.2. Bag-of-Words for Movie Reviews</a>,\n",
       " <a class=\"t-chapter js-chapter\" href=\"https://learning.oreilly.com/library/view/introduction-to-machine/9781449369880/ch07.html#stop-words\">7.4. Stopwords</a>,\n",
       " <a class=\"t-chapter js-chapter\" href=\"https://learning.oreilly.com/library/view/introduction-to-machine/9781449369880/ch07.html#rescaling-the-data-with-tfidf\">7.5. Rescaling the Data with tf–idf</a>,\n",
       " <a class=\"t-chapter js-chapter\" href=\"https://learning.oreilly.com/library/view/introduction-to-machine/9781449369880/ch07.html#investigating-model-coefficients\">7.6. Investigating Model Coefficients</a>,\n",
       " <a class=\"t-chapter js-chapter\" href=\"https://learning.oreilly.com/library/view/introduction-to-machine/9781449369880/ch07.html#bag-of-words-with-more-than-one-word-n-grams\">7.7. Bag-of-Words with More Than One Word (n-Grams)</a>,\n",
       " <a class=\"t-chapter js-chapter\" href=\"https://learning.oreilly.com/library/view/introduction-to-machine/9781449369880/ch07.html#advanced-tokenization-stemming-and-lemmatization\">7.8. Advanced Tokenization, Stemming, and Lemmatization</a>,\n",
       " <a class=\"t-chapter js-chapter\" href=\"https://learning.oreilly.com/library/view/introduction-to-machine/9781449369880/ch07.html#topic-modeling-and-document-clustering\">7.9. Topic Modeling and Document Clustering</a>,\n",
       " <a class=\"t-chapter js-chapter\" href=\"https://learning.oreilly.com/library/view/introduction-to-machine/9781449369880/ch07.html#latent-dirichlet-allocation\">7.9.1. Latent Dirichlet Allocation</a>,\n",
       " <a class=\"t-chapter js-chapter\" href=\"https://learning.oreilly.com/library/view/introduction-to-machine/9781449369880/ch07.html#working-with-text-data-summary-and-outlook\">7.10. Summary and Outlook</a>,\n",
       " <a class=\"t-chapter js-chapter\" href=\"https://learning.oreilly.com/library/view/introduction-to-machine/9781449369880/ch08.html#outlook\">8. Wrapping Up</a>,\n",
       " <a class=\"t-chapter js-chapter\" href=\"https://learning.oreilly.com/library/view/introduction-to-machine/9781449369880/ch08.html#approaching-a-machine-learning-problem\">8.1. Approaching a Machine Learning Problem</a>,\n",
       " <a class=\"t-chapter js-chapter\" href=\"https://learning.oreilly.com/library/view/introduction-to-machine/9781449369880/ch08.html#humans-in-the-loop\">8.1.1. Humans in the Loop</a>,\n",
       " <a class=\"t-chapter js-chapter\" href=\"https://learning.oreilly.com/library/view/introduction-to-machine/9781449369880/ch08.html#from-prototype-to-production\">8.2. From Prototype to Production</a>,\n",
       " <a class=\"t-chapter js-chapter\" href=\"https://learning.oreilly.com/library/view/introduction-to-machine/9781449369880/ch08.html#testing-production-systems\">8.3. Testing Production Systems</a>,\n",
       " <a class=\"t-chapter js-chapter\" href=\"https://learning.oreilly.com/library/view/introduction-to-machine/9781449369880/ch08.html#building-your-own-estimator\">8.4. Building Your Own Estimator</a>,\n",
       " <a class=\"t-chapter js-chapter\" href=\"https://learning.oreilly.com/library/view/introduction-to-machine/9781449369880/ch08.html#where-to-go-from-here\">8.5. Where to Go from Here</a>,\n",
       " <a class=\"t-chapter js-chapter\" href=\"https://learning.oreilly.com/library/view/introduction-to-machine/9781449369880/ch08.html#theory\">8.5.1. Theory</a>,\n",
       " <a class=\"t-chapter js-chapter\" href=\"https://learning.oreilly.com/library/view/introduction-to-machine/9781449369880/ch08.html#other-machine-learning-frameworks-and-packages\">8.5.2. Other Machine Learning Frameworks and Packages</a>,\n",
       " <a class=\"t-chapter js-chapter\" href=\"https://learning.oreilly.com/library/view/introduction-to-machine/9781449369880/ch08.html#ranking-recommender-systems-time-series-and-other-kinds-of-learning\">8.5.3. Ranking, Recommender Systems, and Other Kinds of Learning</a>,\n",
       " <a class=\"t-chapter js-chapter\" href=\"https://learning.oreilly.com/library/view/introduction-to-machine/9781449369880/ch08.html#probabilistic-modeling-inference-and-probabilistic-programming\">8.5.4. Probabilistic Modeling, Inference, and Probabilistic Programming</a>,\n",
       " <a class=\"t-chapter js-chapter\" href=\"https://learning.oreilly.com/library/view/introduction-to-machine/9781449369880/ch08.html#neural-networks\">8.5.5. Neural Networks</a>,\n",
       " <a class=\"t-chapter js-chapter\" href=\"https://learning.oreilly.com/library/view/introduction-to-machine/9781449369880/ch08.html#scaling-to-larger-datasets\">8.5.6. Scaling to Larger Datasets</a>,\n",
       " <a class=\"t-chapter js-chapter\" href=\"https://learning.oreilly.com/library/view/introduction-to-machine/9781449369880/ch08.html#honing-your-skills\">8.5.7. Honing Your Skills</a>,\n",
       " <a class=\"t-chapter js-chapter\" href=\"https://learning.oreilly.com/library/view/introduction-to-machine/9781449369880/ch08.html#conclusion\">8.6. Conclusion</a>,\n",
       " <a class=\"t-chapter js-chapter\" href=\"https://learning.oreilly.com/library/view/introduction-to-machine/9781449369880/ix01.html#idm140338219325856\">Index</a>]"
      ]
     },
     "execution_count": 20,
     "metadata": {},
     "output_type": "execute_result"
    }
   ],
   "source": [
    "links = data.find_all(\"a\", class_='t-chapter')\n",
    "links"
   ]
  },
  {
   "cell_type": "code",
   "execution_count": 21,
   "metadata": {},
   "outputs": [
    {
     "name": "stdout",
     "output_type": "stream",
     "text": [
      "12 1. Introduction\n",
      "36 2. Supervised Learning\n",
      "54 3. Unsupervised Learning and Preprocessing\n",
      "73 4. Representing Data and Engineering Features\n",
      "88 5. Model Evaluation and Improvement\n",
      "104 6. Algorithm Chains and Pipelines\n",
      "116 7. Working with Text Data\n",
      "130 8. Wrapping Up\n"
     ]
    }
   ],
   "source": [
    "# find the regex experession to grab the page links\n",
    "# there is a link for each section on each page - which creates repetition of materials. grabbing only the first link gets the entire page exactly once.\n",
    "\n",
    "regex = \"^[\\d].[+ ]\"\n",
    "\n",
    "for num in range(len(links)):\n",
    "    x = re.search(regex,links[num].string)\n",
    "    if x:\n",
    "        print(num,links[num].string)"
   ]
  },
  {
   "cell_type": "code",
   "execution_count": 22,
   "metadata": {},
   "outputs": [
    {
     "data": {
      "text/plain": [
       "['https://learning.oreilly.com/library/view/introduction-to-machine/9781449369880/ch01.html#introduction',\n",
       " 'https://learning.oreilly.com/library/view/introduction-to-machine/9781449369880/ch02.html#supervised-learning',\n",
       " 'https://learning.oreilly.com/library/view/introduction-to-machine/9781449369880/ch03.html#unsupervised-learning-and-preprocessing',\n",
       " 'https://learning.oreilly.com/library/view/introduction-to-machine/9781449369880/ch04.html#representing-data-and-engineering-features',\n",
       " 'https://learning.oreilly.com/library/view/introduction-to-machine/9781449369880/ch05.html#model-evaluation-and-improvement',\n",
       " 'https://learning.oreilly.com/library/view/introduction-to-machine/9781449369880/ch06.html#algorithm-chains-and-pipelines',\n",
       " 'https://learning.oreilly.com/library/view/introduction-to-machine/9781449369880/ch07.html#working-with-text-data',\n",
       " 'https://learning.oreilly.com/library/view/introduction-to-machine/9781449369880/ch08.html#outlook']"
      ]
     },
     "execution_count": 22,
     "metadata": {},
     "output_type": "execute_result"
    }
   ],
   "source": [
    "endpoints = []\n",
    "for link in links:\n",
    "    if re.search(regex,link.string): \n",
    "        endpoints.append(link['href'])\n",
    "\n",
    "# endpoints = endpoints[11:]\n",
    "endpoints"
   ]
  },
  {
   "cell_type": "code",
   "execution_count": 23,
   "metadata": {},
   "outputs": [],
   "source": [
    "def spider(url):\n",
    "    \"\"\"Perform web scraping for url\"\"\"\n",
    "    \n",
    "    headers = {'user-agent': 'access book text (wat6sv@virginia.edu)'}\n",
    "    r = requests.get(url, headers=headers)\n",
    "\n",
    "    if r.status_code == 200:\n",
    "        site_html = BeautifulSoup(r.text, \"html.parser\")\n",
    "        text = site_html.get_text()\n",
    "\n",
    "        f=open(\"./RAG-Docs/processed/IntroToMLwithPython-MullerGuido.txt\", \"a\")\n",
    "        f.write(text)\n",
    "        f.close()"
   ]
  },
  {
   "cell_type": "code",
   "execution_count": 24,
   "metadata": {},
   "outputs": [],
   "source": [
    "for endpoint in endpoints:\n",
    "    spider(endpoint)"
   ]
  },
  {
   "cell_type": "markdown",
   "metadata": {},
   "source": []
  },
  {
   "cell_type": "code",
   "execution_count": null,
   "metadata": {},
   "outputs": [],
   "source": []
  }
 ],
 "metadata": {
  "kernelspec": {
   "display_name": "base",
   "language": "python",
   "name": "python3"
  },
  "language_info": {
   "codemirror_mode": {
    "name": "ipython",
    "version": 3
   },
   "file_extension": ".py",
   "mimetype": "text/x-python",
   "name": "python",
   "nbconvert_exporter": "python",
   "pygments_lexer": "ipython3",
   "version": "3.11.4"
  }
 },
 "nbformat": 4,
 "nbformat_minor": 2
}
