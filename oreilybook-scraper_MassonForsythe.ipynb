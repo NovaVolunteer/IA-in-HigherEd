{
 "cells": [
  {
   "cell_type": "markdown",
   "metadata": {},
   "source": [
    "This notebook contains the code to crawl through the \"Active Machine Learning with Python\" book from https://learning.oreilly.com/library/view/active-machine-learning/9781835464946/ and save the text from each page into a text file."
   ]
  },
  {
   "cell_type": "code",
   "execution_count": 1,
   "metadata": {},
   "outputs": [],
   "source": [
    "import requests\n",
    "import numpy as np\n",
    "import pandas as pd\n",
    "\n",
    "from bs4 import BeautifulSoup\n",
    "\n",
    "import re"
   ]
  },
  {
   "cell_type": "code",
   "execution_count": 2,
   "metadata": {},
   "outputs": [
    {
     "data": {
      "text/plain": [
       "<Response [200]>"
      ]
     },
     "execution_count": 2,
     "metadata": {},
     "output_type": "execute_result"
    }
   ],
   "source": [
    "headers = {'user-agent': 'access book text (wat6sv@virginia.edu)'}\n",
    "link = \"https://learning.oreilly.com/library/view/active-machine-learning/9781835464946/\"\n",
    "r = requests.get(link, headers = headers)\n",
    "r"
   ]
  },
  {
   "cell_type": "code",
   "execution_count": 3,
   "metadata": {},
   "outputs": [],
   "source": [
    "data = BeautifulSoup(r.text, \"html.parser\")"
   ]
  },
  {
   "cell_type": "code",
   "execution_count": 4,
   "metadata": {},
   "outputs": [],
   "source": [
    "# print(data.get_text())"
   ]
  },
  {
   "cell_type": "code",
   "execution_count": 5,
   "metadata": {},
   "outputs": [
    {
     "data": {
      "text/plain": [
       "[<a class=\"t-chapter js-chapter\" href=\"https://learning.oreilly.com/library/view/active-machine-learning/9781835464946/B21789_FM.xhtml#_idParaDest-1\">Active Machine Learning with Python</a>,\n",
       " <a class=\"t-chapter js-chapter\" href=\"https://learning.oreilly.com/library/view/active-machine-learning/9781835464946/B21789_FM.xhtml#_idParaDest-2\">Contributors</a>,\n",
       " <a class=\"t-chapter js-chapter\" href=\"https://learning.oreilly.com/library/view/active-machine-learning/9781835464946/B21789_FM.xhtml#_idParaDest-3\">About the author</a>,\n",
       " <a class=\"t-chapter js-chapter\" href=\"https://learning.oreilly.com/library/view/active-machine-learning/9781835464946/B21789_FM.xhtml#_idParaDest-4\">About the reviewer</a>,\n",
       " <a class=\"t-chapter js-chapter\" href=\"https://learning.oreilly.com/library/view/active-machine-learning/9781835464946/B21789_Preface.xhtml#_idParaDest-5\">Preface</a>,\n",
       " <a class=\"t-chapter js-chapter\" href=\"https://learning.oreilly.com/library/view/active-machine-learning/9781835464946/B21789_Preface.xhtml#_idParaDest-6\">Who this book is for</a>,\n",
       " <a class=\"t-chapter js-chapter\" href=\"https://learning.oreilly.com/library/view/active-machine-learning/9781835464946/B21789_Preface.xhtml#_idParaDest-7\">What this book covers</a>,\n",
       " <a class=\"t-chapter js-chapter\" href=\"https://learning.oreilly.com/library/view/active-machine-learning/9781835464946/B21789_Preface.xhtml#_idParaDest-8\">To get the most out of this book</a>,\n",
       " <a class=\"t-chapter js-chapter\" href=\"https://learning.oreilly.com/library/view/active-machine-learning/9781835464946/B21789_Preface.xhtml#_idParaDest-9\">Download the example code files</a>,\n",
       " <a class=\"t-chapter js-chapter\" href=\"https://learning.oreilly.com/library/view/active-machine-learning/9781835464946/B21789_Preface.xhtml#_idParaDest-10\">Conventions used</a>,\n",
       " <a class=\"t-chapter js-chapter\" href=\"https://learning.oreilly.com/library/view/active-machine-learning/9781835464946/B21789_Preface.xhtml#_idParaDest-11\">Get in touch</a>,\n",
       " <a class=\"t-chapter js-chapter\" href=\"https://learning.oreilly.com/library/view/active-machine-learning/9781835464946/B21789_Preface.xhtml#_idParaDest-12\">Share Your Thoughts</a>,\n",
       " <a class=\"t-chapter js-chapter\" href=\"https://learning.oreilly.com/library/view/active-machine-learning/9781835464946/B21789_Preface.xhtml#_idParaDest-13\">Download a free PDF copy of this book</a>,\n",
       " <a class=\"t-chapter js-chapter\" href=\"https://learning.oreilly.com/library/view/active-machine-learning/9781835464946/B21789_Part_1.xhtml#_idParaDest-14\">Part 1: Fundamentals of Active Machine Learning</a>,\n",
       " <a class=\"t-chapter js-chapter\" href=\"https://learning.oreilly.com/library/view/active-machine-learning/9781835464946/B21789_01.xhtml#_idParaDest-16\">Chapter 1: Introducing Active Machine Learning</a>,\n",
       " <a class=\"t-chapter js-chapter\" href=\"https://learning.oreilly.com/library/view/active-machine-learning/9781835464946/B21789_01.xhtml#_idParaDest-17\">Understanding active machine learning systems</a>,\n",
       " <a class=\"t-chapter js-chapter\" href=\"https://learning.oreilly.com/library/view/active-machine-learning/9781835464946/B21789_01.xhtml#_idParaDest-18\">Definition</a>,\n",
       " <a class=\"t-chapter js-chapter\" href=\"https://learning.oreilly.com/library/view/active-machine-learning/9781835464946/B21789_01.xhtml#_idParaDest-19\">Potential range of applications</a>,\n",
       " <a class=\"t-chapter js-chapter\" href=\"https://learning.oreilly.com/library/view/active-machine-learning/9781835464946/B21789_01.xhtml#_idParaDest-20\">Key components of active machine learning systems</a>,\n",
       " <a class=\"t-chapter js-chapter\" href=\"https://learning.oreilly.com/library/view/active-machine-learning/9781835464946/B21789_01.xhtml#_idParaDest-21\">Exploring query strategies scenarios</a>,\n",
       " <a class=\"t-chapter js-chapter\" href=\"https://learning.oreilly.com/library/view/active-machine-learning/9781835464946/B21789_01.xhtml#_idParaDest-22\">Membership query synthesis</a>,\n",
       " <a class=\"t-chapter js-chapter\" href=\"https://learning.oreilly.com/library/view/active-machine-learning/9781835464946/B21789_01.xhtml#_idParaDest-23\">Stream-based selective sampling</a>,\n",
       " <a class=\"t-chapter js-chapter\" href=\"https://learning.oreilly.com/library/view/active-machine-learning/9781835464946/B21789_01.xhtml#_idParaDest-24\">Pool-based sampling</a>,\n",
       " <a class=\"t-chapter js-chapter\" href=\"https://learning.oreilly.com/library/view/active-machine-learning/9781835464946/B21789_01.xhtml#_idParaDest-25\">Comparing active and passive learning</a>,\n",
       " <a class=\"t-chapter js-chapter\" href=\"https://learning.oreilly.com/library/view/active-machine-learning/9781835464946/B21789_01.xhtml#_idParaDest-26\">Summary</a>,\n",
       " <a class=\"t-chapter js-chapter\" href=\"https://learning.oreilly.com/library/view/active-machine-learning/9781835464946/B21789_02.xhtml#_idParaDest-28\">Chapter 2: Designing Query Strategy Frameworks</a>,\n",
       " <a class=\"t-chapter js-chapter\" href=\"https://learning.oreilly.com/library/view/active-machine-learning/9781835464946/B21789_02.xhtml#_idParaDest-29\">Technical requirements</a>,\n",
       " <a class=\"t-chapter js-chapter\" href=\"https://learning.oreilly.com/library/view/active-machine-learning/9781835464946/B21789_02.xhtml#_idParaDest-30\">Exploring uncertainty sampling methods</a>,\n",
       " <a class=\"t-chapter js-chapter\" href=\"https://learning.oreilly.com/library/view/active-machine-learning/9781835464946/B21789_02.xhtml#_idParaDest-31\">Understanding query-by-committee approaches</a>,\n",
       " <a class=\"t-chapter js-chapter\" href=\"https://learning.oreilly.com/library/view/active-machine-learning/9781835464946/B21789_02.xhtml#_idParaDest-32\">Maximum disagreement</a>,\n",
       " <a class=\"t-chapter js-chapter\" href=\"https://learning.oreilly.com/library/view/active-machine-learning/9781835464946/B21789_02.xhtml#_idParaDest-33\">Vote entropy</a>,\n",
       " <a class=\"t-chapter js-chapter\" href=\"https://learning.oreilly.com/library/view/active-machine-learning/9781835464946/B21789_02.xhtml#_idParaDest-34\">Average KL divergence</a>,\n",
       " <a class=\"t-chapter js-chapter\" href=\"https://learning.oreilly.com/library/view/active-machine-learning/9781835464946/B21789_02.xhtml#_idParaDest-35\">Labeling with EMC sampling</a>,\n",
       " <a class=\"t-chapter js-chapter\" href=\"https://learning.oreilly.com/library/view/active-machine-learning/9781835464946/B21789_02.xhtml#_idParaDest-36\">Sampling with EER</a>,\n",
       " <a class=\"t-chapter js-chapter\" href=\"https://learning.oreilly.com/library/view/active-machine-learning/9781835464946/B21789_02.xhtml#_idParaDest-37\">Understanding density-weighted sampling methods</a>,\n",
       " <a class=\"t-chapter js-chapter\" href=\"https://learning.oreilly.com/library/view/active-machine-learning/9781835464946/B21789_02.xhtml#_idParaDest-38\">Summary</a>,\n",
       " <a class=\"t-chapter js-chapter\" href=\"https://learning.oreilly.com/library/view/active-machine-learning/9781835464946/B21789_03.xhtml#_idParaDest-40\">Chapter 3: Managing the Human in the Loop</a>,\n",
       " <a class=\"t-chapter js-chapter\" href=\"https://learning.oreilly.com/library/view/active-machine-learning/9781835464946/B21789_03.xhtml#_idParaDest-41\">Technical requirements</a>,\n",
       " <a class=\"t-chapter js-chapter\" href=\"https://learning.oreilly.com/library/view/active-machine-learning/9781835464946/B21789_03.xhtml#_idParaDest-42\">Designing interactive learning systems and workflows</a>,\n",
       " <a class=\"t-chapter js-chapter\" href=\"https://learning.oreilly.com/library/view/active-machine-learning/9781835464946/B21789_03.xhtml#_idParaDest-43\">Exploring human-in-the-loop labeling tools</a>,\n",
       " <a class=\"t-chapter js-chapter\" href=\"https://learning.oreilly.com/library/view/active-machine-learning/9781835464946/B21789_03.xhtml#_idParaDest-44\">Common labeling platforms</a>,\n",
       " <a class=\"t-chapter js-chapter\" href=\"https://learning.oreilly.com/library/view/active-machine-learning/9781835464946/B21789_03.xhtml#_idParaDest-45\">Handling model-label disagreements</a>,\n",
       " <a class=\"t-chapter js-chapter\" href=\"https://learning.oreilly.com/library/view/active-machine-learning/9781835464946/B21789_03.xhtml#_idParaDest-46\">Programmatically identifying mismatches</a>,\n",
       " <a class=\"t-chapter js-chapter\" href=\"https://learning.oreilly.com/library/view/active-machine-learning/9781835464946/B21789_03.xhtml#_idParaDest-47\">Manual review of conflicts</a>,\n",
       " <a class=\"t-chapter js-chapter\" href=\"https://learning.oreilly.com/library/view/active-machine-learning/9781835464946/B21789_03.xhtml#_idParaDest-48\">Effectively managing human-in-the-loop systems</a>,\n",
       " <a class=\"t-chapter js-chapter\" href=\"https://learning.oreilly.com/library/view/active-machine-learning/9781835464946/B21789_03.xhtml#_idParaDest-49\">Ensuring annotation quality and dataset balance</a>,\n",
       " <a class=\"t-chapter js-chapter\" href=\"https://learning.oreilly.com/library/view/active-machine-learning/9781835464946/B21789_03.xhtml#_idParaDest-50\">Assess annotator skills</a>,\n",
       " <a class=\"t-chapter js-chapter\" href=\"https://learning.oreilly.com/library/view/active-machine-learning/9781835464946/B21789_03.xhtml#_idParaDest-51\">Use multiple annotators</a>,\n",
       " <a class=\"t-chapter js-chapter\" href=\"https://learning.oreilly.com/library/view/active-machine-learning/9781835464946/B21789_03.xhtml#_idParaDest-52\">Balanced sampling</a>,\n",
       " <a class=\"t-chapter js-chapter\" href=\"https://learning.oreilly.com/library/view/active-machine-learning/9781835464946/B21789_03.xhtml#_idParaDest-53\">Summary</a>,\n",
       " <a class=\"t-chapter js-chapter\" href=\"https://learning.oreilly.com/library/view/active-machine-learning/9781835464946/B21789_Part_2.xhtml#_idParaDest-54\">Part 2: Active Machine Learning in Practice</a>,\n",
       " <a class=\"t-chapter js-chapter\" href=\"https://learning.oreilly.com/library/view/active-machine-learning/9781835464946/B21789_04.xhtml#_idParaDest-56\">Chapter 4: Applying Active Learning to Computer Vision</a>,\n",
       " <a class=\"t-chapter js-chapter\" href=\"https://learning.oreilly.com/library/view/active-machine-learning/9781835464946/B21789_04.xhtml#_idParaDest-57\">Technical requirements</a>,\n",
       " <a class=\"t-chapter js-chapter\" href=\"https://learning.oreilly.com/library/view/active-machine-learning/9781835464946/B21789_04.xhtml#_idParaDest-58\">Implementing active ML for an image classification project</a>,\n",
       " <a class=\"t-chapter js-chapter\" href=\"https://learning.oreilly.com/library/view/active-machine-learning/9781835464946/B21789_04.xhtml#_idParaDest-59\">Building a CNN for the CIFAR dataset</a>,\n",
       " <a class=\"t-chapter js-chapter\" href=\"https://learning.oreilly.com/library/view/active-machine-learning/9781835464946/B21789_04.xhtml#_idParaDest-60\">Applying uncertainty sampling to improve classification performance</a>,\n",
       " <a class=\"t-chapter js-chapter\" href=\"https://learning.oreilly.com/library/view/active-machine-learning/9781835464946/B21789_04.xhtml#_idParaDest-61\">Applying active ML to an object detection project</a>,\n",
       " <a class=\"t-chapter js-chapter\" href=\"https://learning.oreilly.com/library/view/active-machine-learning/9781835464946/B21789_04.xhtml#_idParaDest-62\">Preparing and training our model</a>,\n",
       " <a class=\"t-chapter js-chapter\" href=\"https://learning.oreilly.com/library/view/active-machine-learning/9781835464946/B21789_04.xhtml#_idParaDest-63\">Analyzing the evaluation metrics</a>,\n",
       " <a class=\"t-chapter js-chapter\" href=\"https://learning.oreilly.com/library/view/active-machine-learning/9781835464946/B21789_04.xhtml#_idParaDest-64\">Implementing an active ML strategy</a>,\n",
       " <a class=\"t-chapter js-chapter\" href=\"https://learning.oreilly.com/library/view/active-machine-learning/9781835464946/B21789_04.xhtml#_idParaDest-65\">Using active ML for a segmentation project</a>,\n",
       " <a class=\"t-chapter js-chapter\" href=\"https://learning.oreilly.com/library/view/active-machine-learning/9781835464946/B21789_04.xhtml#_idParaDest-66\">Summary</a>,\n",
       " <a class=\"t-chapter js-chapter\" href=\"https://learning.oreilly.com/library/view/active-machine-learning/9781835464946/B21789_05.xhtml#_idParaDest-68\">Chapter 5: Leveraging Active Learning for Big Data</a>,\n",
       " <a class=\"t-chapter js-chapter\" href=\"https://learning.oreilly.com/library/view/active-machine-learning/9781835464946/B21789_05.xhtml#_idParaDest-69\">Technical requirements</a>,\n",
       " <a class=\"t-chapter js-chapter\" href=\"https://learning.oreilly.com/library/view/active-machine-learning/9781835464946/B21789_05.xhtml#_idParaDest-70\">Implementing ML models for video analysis</a>,\n",
       " <a class=\"t-chapter js-chapter\" href=\"https://learning.oreilly.com/library/view/active-machine-learning/9781835464946/B21789_05.xhtml#_idParaDest-71\">Selecting the most informative frames with Lightly</a>,\n",
       " <a class=\"t-chapter js-chapter\" href=\"https://learning.oreilly.com/library/view/active-machine-learning/9781835464946/B21789_05.xhtml#_idParaDest-72\">Using Lightly to select the best frames to label for object detection</a>,\n",
       " <a class=\"t-chapter js-chapter\" href=\"https://learning.oreilly.com/library/view/active-machine-learning/9781835464946/B21789_05.xhtml#_idParaDest-73\">SSL with active ML</a>,\n",
       " <a class=\"t-chapter js-chapter\" href=\"https://learning.oreilly.com/library/view/active-machine-learning/9781835464946/B21789_05.xhtml#_idParaDest-74\">Summary</a>,\n",
       " <a class=\"t-chapter js-chapter\" href=\"https://learning.oreilly.com/library/view/active-machine-learning/9781835464946/B21789_Part_3.xhtml#_idParaDest-75\">Part 3: Applying Active Machine Learning to Real-World Projects</a>,\n",
       " <a class=\"t-chapter js-chapter\" href=\"https://learning.oreilly.com/library/view/active-machine-learning/9781835464946/B21789_06.xhtml#_idParaDest-77\">Chapter 6: Evaluating and Enhancing Efficiency</a>,\n",
       " <a class=\"t-chapter js-chapter\" href=\"https://learning.oreilly.com/library/view/active-machine-learning/9781835464946/B21789_06.xhtml#_idParaDest-78\">Technical requirements</a>,\n",
       " <a class=\"t-chapter js-chapter\" href=\"https://learning.oreilly.com/library/view/active-machine-learning/9781835464946/B21789_06.xhtml#_idParaDest-79\">Creating efficient active ML pipelines</a>,\n",
       " <a class=\"t-chapter js-chapter\" href=\"https://learning.oreilly.com/library/view/active-machine-learning/9781835464946/B21789_06.xhtml#_idParaDest-80\">Monitoring active ML pipelines</a>,\n",
       " <a class=\"t-chapter js-chapter\" href=\"https://learning.oreilly.com/library/view/active-machine-learning/9781835464946/B21789_06.xhtml#_idParaDest-81\">Determining when to stop active ML runs</a>,\n",
       " <a class=\"t-chapter js-chapter\" href=\"https://learning.oreilly.com/library/view/active-machine-learning/9781835464946/B21789_06.xhtml#_idParaDest-82\">Enhancing production model monitoring with active ML</a>,\n",
       " <a class=\"t-chapter js-chapter\" href=\"https://learning.oreilly.com/library/view/active-machine-learning/9781835464946/B21789_06.xhtml#_idParaDest-83\">Challenges in monitoring production models</a>,\n",
       " <a class=\"t-chapter js-chapter\" href=\"https://learning.oreilly.com/library/view/active-machine-learning/9781835464946/B21789_06.xhtml#_idParaDest-84\">Active ML to monitor models in production</a>,\n",
       " <a class=\"t-chapter js-chapter\" href=\"https://learning.oreilly.com/library/view/active-machine-learning/9781835464946/B21789_06.xhtml#_idParaDest-85\">Early detection for data drift and model decay</a>,\n",
       " <a class=\"t-chapter js-chapter\" href=\"https://learning.oreilly.com/library/view/active-machine-learning/9781835464946/B21789_06.xhtml#_idParaDest-86\">Summary</a>,\n",
       " <a class=\"t-chapter js-chapter\" href=\"https://learning.oreilly.com/library/view/active-machine-learning/9781835464946/B21789_07.xhtml#_idParaDest-88\">Chapter 7: Utilizing Tools and Packages for Active ML</a>,\n",
       " <a class=\"t-chapter js-chapter\" href=\"https://learning.oreilly.com/library/view/active-machine-learning/9781835464946/B21789_07.xhtml#_idParaDest-89\">Technical requirements</a>,\n",
       " <a class=\"t-chapter js-chapter\" href=\"https://learning.oreilly.com/library/view/active-machine-learning/9781835464946/B21789_07.xhtml#_idParaDest-90\">Mastering Python packages for enhanced active ML</a>,\n",
       " <a class=\"t-chapter js-chapter\" href=\"https://learning.oreilly.com/library/view/active-machine-learning/9781835464946/B21789_07.xhtml#_idParaDest-91\">scikit-learn</a>,\n",
       " <a class=\"t-chapter js-chapter\" href=\"https://learning.oreilly.com/library/view/active-machine-learning/9781835464946/B21789_07.xhtml#_idParaDest-92\">modAL</a>,\n",
       " <a class=\"t-chapter js-chapter\" href=\"https://learning.oreilly.com/library/view/active-machine-learning/9781835464946/B21789_07.xhtml#_idParaDest-93\">Getting familiar with the active ML tools</a>,\n",
       " <a class=\"t-chapter js-chapter\" href=\"https://learning.oreilly.com/library/view/active-machine-learning/9781835464946/B21789_07.xhtml#_idParaDest-94\">Summary</a>,\n",
       " <a class=\"t-chapter js-chapter\" href=\"https://learning.oreilly.com/library/view/active-machine-learning/9781835464946/B21789_Index.xhtml#_idParaDest-95\">Index</a>,\n",
       " <a class=\"t-chapter js-chapter\" href=\"https://learning.oreilly.com/library/view/active-machine-learning/9781835464946/B21789_BM.xhtml#_idParaDest-96\">Why subscribe?</a>,\n",
       " <a class=\"t-chapter js-chapter\" href=\"https://learning.oreilly.com/library/view/active-machine-learning/9781835464946/B21789_BM.xhtml#_idParaDest-97\">Other Books You May Enjoy</a>,\n",
       " <a class=\"t-chapter js-chapter\" href=\"https://learning.oreilly.com/library/view/active-machine-learning/9781835464946/B21789_BM.xhtml#_idParaDest-98\">Packt is searching for authors like you</a>,\n",
       " <a class=\"t-chapter js-chapter\" href=\"https://learning.oreilly.com/library/view/active-machine-learning/9781835464946/B21789_BM.xhtml#_idParaDest-99\">Share Your Thoughts</a>,\n",
       " <a class=\"t-chapter js-chapter\" href=\"https://learning.oreilly.com/library/view/active-machine-learning/9781835464946/B21789_BM.xhtml#_idParaDest-100\">Download a free PDF copy of this book</a>]"
      ]
     },
     "execution_count": 5,
     "metadata": {},
     "output_type": "execute_result"
    }
   ],
   "source": [
    "links = data.find_all(\"a\", class_='t-chapter')\n",
    "links"
   ]
  },
  {
   "cell_type": "code",
   "execution_count": 6,
   "metadata": {},
   "outputs": [
    {
     "name": "stdout",
     "output_type": "stream",
     "text": [
      "14 Chapter 1: Introducing Active Machine Learning\n",
      "25 Chapter 2: Designing Query Strategy Frameworks\n",
      "36 Chapter 3: Managing the Human in the Loop\n",
      "51 Chapter 4: Applying Active Learning to Computer Vision\n",
      "62 Chapter 5: Leveraging Active Learning for Big Data\n",
      "70 Chapter 6: Evaluating and Enhancing Efficiency\n",
      "80 Chapter 7: Utilizing Tools and Packages for Active ML\n",
      "87 Index\n"
     ]
    }
   ],
   "source": [
    "# find the regex experession to grab the page links\n",
    "# there is a link for each section on each page - which creates repetition of materials. grabbing only the first link gets the entire page exactly once.\n",
    "\n",
    "regex = \"^Chapter|^Index\"\n",
    "\n",
    "for num in range(len(links)):\n",
    "    x = re.search(regex,links[num].string)\n",
    "    if x:\n",
    "        print(num,links[num].string)\n"
   ]
  },
  {
   "cell_type": "code",
   "execution_count": 7,
   "metadata": {},
   "outputs": [
    {
     "data": {
      "text/plain": [
       "['https://learning.oreilly.com/library/view/active-machine-learning/9781835464946/B21789_01.xhtml#_idParaDest-16',\n",
       " 'https://learning.oreilly.com/library/view/active-machine-learning/9781835464946/B21789_02.xhtml#_idParaDest-28',\n",
       " 'https://learning.oreilly.com/library/view/active-machine-learning/9781835464946/B21789_03.xhtml#_idParaDest-40',\n",
       " 'https://learning.oreilly.com/library/view/active-machine-learning/9781835464946/B21789_04.xhtml#_idParaDest-56',\n",
       " 'https://learning.oreilly.com/library/view/active-machine-learning/9781835464946/B21789_05.xhtml#_idParaDest-68',\n",
       " 'https://learning.oreilly.com/library/view/active-machine-learning/9781835464946/B21789_06.xhtml#_idParaDest-77',\n",
       " 'https://learning.oreilly.com/library/view/active-machine-learning/9781835464946/B21789_07.xhtml#_idParaDest-88',\n",
       " 'https://learning.oreilly.com/library/view/active-machine-learning/9781835464946/B21789_Index.xhtml#_idParaDest-95']"
      ]
     },
     "execution_count": 7,
     "metadata": {},
     "output_type": "execute_result"
    }
   ],
   "source": [
    "endpoints = []\n",
    "for link in links:\n",
    "    if re.search(regex,link.string): \n",
    "        endpoints.append(link['href'])\n",
    "\n",
    "# endpoints = endpoints[11:]\n",
    "endpoints"
   ]
  },
  {
   "cell_type": "code",
   "execution_count": 9,
   "metadata": {},
   "outputs": [],
   "source": [
    "def spider(url):\n",
    "    \"\"\"Perform web scraping for url\"\"\"\n",
    "    \n",
    "    headers = {'user-agent': 'access book text (wat6sv@virginia.edu)'}\n",
    "    r = requests.get(url, headers=headers)\n",
    "\n",
    "    if r.status_code == 200:\n",
    "        site_html = BeautifulSoup(r.text, \"html.parser\")\n",
    "        text = site_html.get_text()\n",
    "\n",
    "        f=open(\"./RAG-Docs/processed/ActiveMLwithPython-Masson-Forsythe.txt\", \"a\")\n",
    "        f.write(text)\n",
    "        f.close()"
   ]
  },
  {
   "cell_type": "code",
   "execution_count": 10,
   "metadata": {},
   "outputs": [],
   "source": [
    "for endpoint in endpoints:\n",
    "    spider(endpoint)"
   ]
  },
  {
   "cell_type": "markdown",
   "metadata": {},
   "source": []
  },
  {
   "cell_type": "code",
   "execution_count": null,
   "metadata": {},
   "outputs": [],
   "source": []
  }
 ],
 "metadata": {
  "kernelspec": {
   "display_name": "base",
   "language": "python",
   "name": "python3"
  },
  "language_info": {
   "codemirror_mode": {
    "name": "ipython",
    "version": 3
   },
   "file_extension": ".py",
   "mimetype": "text/x-python",
   "name": "python",
   "nbconvert_exporter": "python",
   "pygments_lexer": "ipython3",
   "version": "3.11.4"
  }
 },
 "nbformat": 4,
 "nbformat_minor": 2
}
