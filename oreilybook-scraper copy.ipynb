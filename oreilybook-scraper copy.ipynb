{
 "cells": [
  {
   "cell_type": "markdown",
   "metadata": {},
   "source": [
    "This notebook contains the code to crawl through the \"Python Data Science Handbook\" book from https://jakevdp.github.io/PythonDataScienceHandbook/ and save the text from each page into a text file."
   ]
  },
  {
   "cell_type": "code",
   "execution_count": 30,
   "metadata": {},
   "outputs": [],
   "source": [
    "import requests\n",
    "import numpy as np\n",
    "import pandas as pd"
   ]
  },
  {
   "cell_type": "code",
   "execution_count": 32,
   "metadata": {},
   "outputs": [
    {
     "data": {
      "text/plain": [
       "<Response [200]>"
      ]
     },
     "execution_count": 32,
     "metadata": {},
     "output_type": "execute_result"
    }
   ],
   "source": [
    "headers = {'user-agent': 'access book text (wat6sv@virginia.edu)'}\n",
    "r = requests.get(\"https://jakevdp.github.io/PythonDataScienceHandbook/\", headers = headers)\n",
    "r"
   ]
  },
  {
   "cell_type": "code",
   "execution_count": 36,
   "metadata": {},
   "outputs": [],
   "source": [
    "from bs4 import BeautifulSoup"
   ]
  },
  {
   "cell_type": "code",
   "execution_count": 83,
   "metadata": {},
   "outputs": [],
   "source": [
    "rch1 = requests.get(\"https://jakevdp.github.io/PythonDataScienceHandbook/01.01-help-and-documentation.html\", headers = headers)\n",
    "datach1 = BeautifulSoup(rch1.text, \"html.parser\")"
   ]
  },
  {
   "cell_type": "code",
   "execution_count": 139,
   "metadata": {},
   "outputs": [],
   "source": [
    "# datach1.get_text()"
   ]
  },
  {
   "cell_type": "code",
   "execution_count": 82,
   "metadata": {},
   "outputs": [],
   "source": [
    "f=open(\"newfile.txt\", \"a\")\n",
    "f.write(datach1.get_text())\n",
    "f.close()"
   ]
  },
  {
   "cell_type": "code",
   "execution_count": 84,
   "metadata": {},
   "outputs": [],
   "source": [
    "rtoc = requests.get(\"https://jakevdp.github.io/PythonDataScienceHandbook/\", headers=headers)\n",
    "toc = BeautifulSoup(rtoc.text, 'html')"
   ]
  },
  {
   "cell_type": "code",
   "execution_count": 146,
   "metadata": {},
   "outputs": [
    {
     "data": {
      "text/plain": [
       "[<a class=\"title\" href=\"/PythonDataScienceHandbook/\" title=\"Home\">Python Data Science Handbook</a>,\n",
       " <a href=\"/pages/about.html\" title=\"About\">About</a>,\n",
       " <a href=\"/archives.html\" title=\"Archive\">Archive</a>,\n",
       " <a href=\"http://shop.oreilly.com/product/0636920034919.do\">Python Data Science Handbook</a>,\n",
       " <a href=\"https://github.com/jakevdp/PythonDataScienceHandbook\">on GitHub</a>,\n",
       " <a href=\"https://creativecommons.org/licenses/by-nc-nd/3.0/us/legalcode\">CC-BY-NC-ND license</a>,\n",
       " <a href=\"https://opensource.org/licenses/MIT\">MIT license</a>,\n",
       " <a href=\"http://shop.oreilly.com/product/0636920034919.do\">buying the book</a>,\n",
       " <a class=\"anchor-link\" href=\"#Table-of-Contents\">¶</a>,\n",
       " <a href=\"00.00-preface.html\">Preface</a>,\n",
       " <a class=\"anchor-link\" href=\"#Preface\">¶</a>,\n",
       " <a href=\"01.00-ipython-beyond-normal-python.html\">1. IPython: Beyond Normal Python</a>,\n",
       " <a class=\"anchor-link\" href=\"#1.-IPython:-Beyond-Normal-Python\">¶</a>,\n",
       " <a href=\"01.01-help-and-documentation.html\">Help and Documentation in IPython</a>,\n",
       " <a href=\"01.02-shell-keyboard-shortcuts.html\">Keyboard Shortcuts in the IPython Shell</a>,\n",
       " <a href=\"01.03-magic-commands.html\">IPython Magic Commands</a>,\n",
       " <a href=\"01.04-input-output-history.html\">Input and Output History</a>,\n",
       " <a href=\"01.05-ipython-and-shell-commands.html\">IPython and Shell Commands</a>,\n",
       " <a href=\"01.06-errors-and-debugging.html\">Errors and Debugging</a>,\n",
       " <a href=\"01.07-timing-and-profiling.html\">Profiling and Timing Code</a>,\n",
       " <a href=\"01.08-more-ipython-resources.html\">More IPython Resources</a>,\n",
       " <a href=\"02.00-introduction-to-numpy.html\">2. Introduction to NumPy</a>,\n",
       " <a class=\"anchor-link\" href=\"#2.-Introduction-to-NumPy\">¶</a>,\n",
       " <a href=\"02.01-understanding-data-types.html\">Understanding Data Types in Python</a>,\n",
       " <a href=\"02.02-the-basics-of-numpy-arrays.html\">The Basics of NumPy Arrays</a>,\n",
       " <a href=\"02.03-computation-on-arrays-ufuncs.html\">Computation on NumPy Arrays: Universal Functions</a>,\n",
       " <a href=\"02.04-computation-on-arrays-aggregates.html\">Aggregations: Min, Max, and Everything In Between</a>,\n",
       " <a href=\"02.05-computation-on-arrays-broadcasting.html\">Computation on Arrays: Broadcasting</a>,\n",
       " <a href=\"02.06-boolean-arrays-and-masks.html\">Comparisons, Masks, and Boolean Logic</a>,\n",
       " <a href=\"02.07-fancy-indexing.html\">Fancy Indexing</a>,\n",
       " <a href=\"02.08-sorting.html\">Sorting Arrays</a>,\n",
       " <a href=\"02.09-structured-data-numpy.html\">Structured Data: NumPy's Structured Arrays</a>,\n",
       " <a href=\"03.00-introduction-to-pandas.html\">3. Data Manipulation with Pandas</a>,\n",
       " <a class=\"anchor-link\" href=\"#3.-Data-Manipulation-with-Pandas\">¶</a>,\n",
       " <a href=\"03.01-introducing-pandas-objects.html\">Introducing Pandas Objects</a>,\n",
       " <a href=\"03.02-data-indexing-and-selection.html\">Data Indexing and Selection</a>,\n",
       " <a href=\"03.03-operations-in-pandas.html\">Operating on Data in Pandas</a>,\n",
       " <a href=\"03.04-missing-values.html\">Handling Missing Data</a>,\n",
       " <a href=\"03.05-hierarchical-indexing.html\">Hierarchical Indexing</a>,\n",
       " <a href=\"03.06-concat-and-append.html\">Combining Datasets: Concat and Append</a>,\n",
       " <a href=\"03.07-merge-and-join.html\">Combining Datasets: Merge and Join</a>,\n",
       " <a href=\"03.08-aggregation-and-grouping.html\">Aggregation and Grouping</a>,\n",
       " <a href=\"03.09-pivot-tables.html\">Pivot Tables</a>,\n",
       " <a href=\"03.10-working-with-strings.html\">Vectorized String Operations</a>,\n",
       " <a href=\"03.11-working-with-time-series.html\">Working with Time Series</a>,\n",
       " <a href=\"03.12-performance-eval-and-query.html\">High-Performance Pandas: eval() and query()</a>,\n",
       " <a href=\"03.13-further-resources.html\">Further Resources</a>,\n",
       " <a href=\"04.00-introduction-to-matplotlib.html\">4. Visualization with Matplotlib</a>,\n",
       " <a class=\"anchor-link\" href=\"#4.-Visualization-with-Matplotlib\">¶</a>,\n",
       " <a href=\"04.01-simple-line-plots.html\">Simple Line Plots</a>,\n",
       " <a href=\"04.02-simple-scatter-plots.html\">Simple Scatter Plots</a>,\n",
       " <a href=\"04.03-errorbars.html\">Visualizing Errors</a>,\n",
       " <a href=\"04.04-density-and-contour-plots.html\">Density and Contour Plots</a>,\n",
       " <a href=\"04.05-histograms-and-binnings.html\">Histograms, Binnings, and Density</a>,\n",
       " <a href=\"04.06-customizing-legends.html\">Customizing Plot Legends</a>,\n",
       " <a href=\"04.07-customizing-colorbars.html\">Customizing Colorbars</a>,\n",
       " <a href=\"04.08-multiple-subplots.html\">Multiple Subplots</a>,\n",
       " <a href=\"04.09-text-and-annotation.html\">Text and Annotation</a>,\n",
       " <a href=\"04.10-customizing-ticks.html\">Customizing Ticks</a>,\n",
       " <a href=\"04.11-settings-and-stylesheets.html\">Customizing Matplotlib: Configurations and Stylesheets</a>,\n",
       " <a href=\"04.12-three-dimensional-plotting.html\">Three-Dimensional Plotting in Matplotlib</a>,\n",
       " <a href=\"04.13-geographic-data-with-basemap.html\">Geographic Data with Basemap</a>,\n",
       " <a href=\"04.14-visualization-with-seaborn.html\">Visualization with Seaborn</a>,\n",
       " <a href=\"04.15-further-resources.html\">Further Resources</a>,\n",
       " <a href=\"05.00-machine-learning.html\">5. Machine Learning</a>,\n",
       " <a class=\"anchor-link\" href=\"#5.-Machine-Learning\">¶</a>,\n",
       " <a href=\"05.01-what-is-machine-learning.html\">What Is Machine Learning?</a>,\n",
       " <a href=\"05.02-introducing-scikit-learn.html\">Introducing Scikit-Learn</a>,\n",
       " <a href=\"05.03-hyperparameters-and-model-validation.html\">Hyperparameters and Model Validation</a>,\n",
       " <a href=\"05.04-feature-engineering.html\">Feature Engineering</a>,\n",
       " <a href=\"05.05-naive-bayes.html\">In Depth: Naive Bayes Classification</a>,\n",
       " <a href=\"05.06-linear-regression.html\">In Depth: Linear Regression</a>,\n",
       " <a href=\"05.07-support-vector-machines.html\">In-Depth: Support Vector Machines</a>,\n",
       " <a href=\"05.08-random-forests.html\">In-Depth: Decision Trees and Random Forests</a>,\n",
       " <a href=\"05.09-principal-component-analysis.html\">In Depth: Principal Component Analysis</a>,\n",
       " <a href=\"05.10-manifold-learning.html\">In-Depth: Manifold Learning</a>,\n",
       " <a href=\"05.11-k-means.html\">In Depth: k-Means Clustering</a>,\n",
       " <a href=\"05.12-gaussian-mixtures.html\">In Depth: Gaussian Mixture Models</a>,\n",
       " <a href=\"05.13-kernel-density-estimation.html\">In-Depth: Kernel Density Estimation</a>,\n",
       " <a href=\"05.14-image-features.html\">Application: A Face Detection Pipeline</a>,\n",
       " <a href=\"05.15-learning-more.html\">Further Machine Learning Resources</a>,\n",
       " <a href=\"06.00-figure-code.html\">Appendix: Figure Code</a>,\n",
       " <a class=\"anchor-link\" href=\"#Appendix:-Figure-Code\">¶</a>]"
      ]
     },
     "execution_count": 146,
     "metadata": {},
     "output_type": "execute_result"
    }
   ],
   "source": [
    "links = toc.find_all(\"a\")\n",
    "links"
   ]
  },
  {
   "cell_type": "code",
   "execution_count": 150,
   "metadata": {},
   "outputs": [
    {
     "data": {
      "text/plain": [
       "'00.00-preface.html'"
      ]
     },
     "execution_count": 150,
     "metadata": {},
     "output_type": "execute_result"
    }
   ],
   "source": [
    "links[9]['href']"
   ]
  },
  {
   "cell_type": "code",
   "execution_count": 153,
   "metadata": {},
   "outputs": [
    {
     "data": {
      "text/plain": [
       "['/PythonDataScienceHandbook/',\n",
       " '/pages/about.html',\n",
       " '/archives.html',\n",
       " 'http://shop.oreilly.com/product/0636920034919.do',\n",
       " 'https://github.com/jakevdp/PythonDataScienceHandbook',\n",
       " 'https://creativecommons.org/licenses/by-nc-nd/3.0/us/legalcode',\n",
       " 'https://opensource.org/licenses/MIT',\n",
       " 'http://shop.oreilly.com/product/0636920034919.do',\n",
       " '#Table-of-Contents',\n",
       " '00.00-preface.html',\n",
       " '#Preface',\n",
       " '01.00-ipython-beyond-normal-python.html',\n",
       " '#1.-IPython:-Beyond-Normal-Python',\n",
       " '01.01-help-and-documentation.html',\n",
       " '01.02-shell-keyboard-shortcuts.html',\n",
       " '01.03-magic-commands.html',\n",
       " '01.04-input-output-history.html',\n",
       " '01.05-ipython-and-shell-commands.html',\n",
       " '01.06-errors-and-debugging.html',\n",
       " '01.07-timing-and-profiling.html',\n",
       " '01.08-more-ipython-resources.html',\n",
       " '02.00-introduction-to-numpy.html',\n",
       " '#2.-Introduction-to-NumPy',\n",
       " '02.01-understanding-data-types.html',\n",
       " '02.02-the-basics-of-numpy-arrays.html',\n",
       " '02.03-computation-on-arrays-ufuncs.html',\n",
       " '02.04-computation-on-arrays-aggregates.html',\n",
       " '02.05-computation-on-arrays-broadcasting.html',\n",
       " '02.06-boolean-arrays-and-masks.html',\n",
       " '02.07-fancy-indexing.html',\n",
       " '02.08-sorting.html',\n",
       " '02.09-structured-data-numpy.html',\n",
       " '03.00-introduction-to-pandas.html',\n",
       " '#3.-Data-Manipulation-with-Pandas',\n",
       " '03.01-introducing-pandas-objects.html',\n",
       " '03.02-data-indexing-and-selection.html',\n",
       " '03.03-operations-in-pandas.html',\n",
       " '03.04-missing-values.html',\n",
       " '03.05-hierarchical-indexing.html',\n",
       " '03.06-concat-and-append.html',\n",
       " '03.07-merge-and-join.html',\n",
       " '03.08-aggregation-and-grouping.html',\n",
       " '03.09-pivot-tables.html',\n",
       " '03.10-working-with-strings.html',\n",
       " '03.11-working-with-time-series.html',\n",
       " '03.12-performance-eval-and-query.html',\n",
       " '03.13-further-resources.html',\n",
       " '04.00-introduction-to-matplotlib.html',\n",
       " '#4.-Visualization-with-Matplotlib',\n",
       " '04.01-simple-line-plots.html',\n",
       " '04.02-simple-scatter-plots.html',\n",
       " '04.03-errorbars.html',\n",
       " '04.04-density-and-contour-plots.html',\n",
       " '04.05-histograms-and-binnings.html',\n",
       " '04.06-customizing-legends.html',\n",
       " '04.07-customizing-colorbars.html',\n",
       " '04.08-multiple-subplots.html',\n",
       " '04.09-text-and-annotation.html',\n",
       " '04.10-customizing-ticks.html',\n",
       " '04.11-settings-and-stylesheets.html',\n",
       " '04.12-three-dimensional-plotting.html',\n",
       " '04.13-geographic-data-with-basemap.html',\n",
       " '04.14-visualization-with-seaborn.html',\n",
       " '04.15-further-resources.html',\n",
       " '05.00-machine-learning.html',\n",
       " '#5.-Machine-Learning',\n",
       " '05.01-what-is-machine-learning.html',\n",
       " '05.02-introducing-scikit-learn.html',\n",
       " '05.03-hyperparameters-and-model-validation.html',\n",
       " '05.04-feature-engineering.html',\n",
       " '05.05-naive-bayes.html',\n",
       " '05.06-linear-regression.html',\n",
       " '05.07-support-vector-machines.html',\n",
       " '05.08-random-forests.html',\n",
       " '05.09-principal-component-analysis.html',\n",
       " '05.10-manifold-learning.html',\n",
       " '05.11-k-means.html',\n",
       " '05.12-gaussian-mixtures.html',\n",
       " '05.13-kernel-density-estimation.html',\n",
       " '05.14-image-features.html',\n",
       " '05.15-learning-more.html',\n",
       " '06.00-figure-code.html',\n",
       " '#Appendix:-Figure-Code']"
      ]
     },
     "execution_count": 153,
     "metadata": {},
     "output_type": "execute_result"
    }
   ],
   "source": [
    "endpoints = []\n",
    "for link in links:\n",
    "    # print(link['href'])\n",
    "    endpoints.append(link['href'])\n",
    "\n",
    "endpoints"
   ]
  },
  {
   "cell_type": "code",
   "execution_count": 180,
   "metadata": {},
   "outputs": [],
   "source": [
    "def spider(url):\n",
    "    \"\"\"Perform web scraping for any WNRN playlist given the available link\"\"\"\n",
    "    \n",
    "    headers = {'user-agent': 'access book text (wat6sv@virginia.edu)'}\n",
    "    r = requests.get(url, headers=headers)\n",
    "\n",
    "    if r.status_code == 200:\n",
    "        site_html = BeautifulSoup(r.text, \"html.parser\")\n",
    "        text = site_html.get_text()\n",
    "\n",
    "        f=open(\"PythonDSHandbook-VanderPlas.txt\", \"a\")\n",
    "        f.write(text)\n",
    "        f.close()"
   ]
  },
  {
   "cell_type": "code",
   "execution_count": 181,
   "metadata": {},
   "outputs": [],
   "source": [
    "for endpoint in endpoints:\n",
    "    spider(\"https://jakevdp.github.io/PythonDataScienceHandbook/\"+endpoint)"
   ]
  },
  {
   "cell_type": "markdown",
   "metadata": {},
   "source": []
  },
  {
   "cell_type": "code",
   "execution_count": null,
   "metadata": {},
   "outputs": [],
   "source": []
  }
 ],
 "metadata": {
  "kernelspec": {
   "display_name": "base",
   "language": "python",
   "name": "python3"
  },
  "language_info": {
   "codemirror_mode": {
    "name": "ipython",
    "version": 3
   },
   "file_extension": ".py",
   "mimetype": "text/x-python",
   "name": "python",
   "nbconvert_exporter": "python",
   "pygments_lexer": "ipython3",
   "version": "3.11.4"
  }
 },
 "nbformat": 4,
 "nbformat_minor": 2
}
