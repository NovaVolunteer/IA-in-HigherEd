{
 "cells": [
  {
   "cell_type": "markdown",
   "metadata": {},
   "source": [
    "This notebook contains the code to crawl through the \"Python Machine Learning\" book from https://learning.oreilly.com/library/view/python-machine-learning/9781119545637/ and save the text from each page into a text file."
   ]
  },
  {
   "cell_type": "code",
   "execution_count": 1,
   "metadata": {},
   "outputs": [],
   "source": [
    "import requests\n",
    "import numpy as np\n",
    "import pandas as pd\n",
    "\n",
    "from bs4 import BeautifulSoup\n",
    "\n",
    "import re"
   ]
  },
  {
   "cell_type": "code",
   "execution_count": 2,
   "metadata": {},
   "outputs": [
    {
     "data": {
      "text/plain": [
       "<Response [200]>"
      ]
     },
     "execution_count": 2,
     "metadata": {},
     "output_type": "execute_result"
    }
   ],
   "source": [
    "headers = {'user-agent': 'access book text (wat6sv@virginia.edu)'}\n",
    "link = \"https://learning.oreilly.com/library/view/python-machine-learning/9781119545637/\"\n",
    "r = requests.get(link, headers = headers)\n",
    "r"
   ]
  },
  {
   "cell_type": "code",
   "execution_count": 4,
   "metadata": {},
   "outputs": [],
   "source": [
    "data = BeautifulSoup(r.text, \"html.parser\")"
   ]
  },
  {
   "cell_type": "code",
   "execution_count": 17,
   "metadata": {},
   "outputs": [],
   "source": [
    "# print(data.get_text())"
   ]
  },
  {
   "cell_type": "code",
   "execution_count": 6,
   "metadata": {},
   "outputs": [
    {
     "data": {
      "text/plain": [
       "[<a class=\"t-chapter js-chapter\" href=\"https://learning.oreilly.com/library/view/python-machine-learning/9781119545637/cover.xhtml\">Cover</a>,\n",
       " <a class=\"t-chapter js-chapter\" href=\"https://learning.oreilly.com/library/view/python-machine-learning/9781119545637/f08.xhtml\">Introduction</a>,\n",
       " <a class=\"t-chapter js-chapter\" href=\"https://learning.oreilly.com/library/view/python-machine-learning/9781119545637/c01.xhtml\">CHAPTER 1: Introduction to Machine Learning</a>,\n",
       " <a class=\"t-chapter js-chapter\" href=\"https://learning.oreilly.com/library/view/python-machine-learning/9781119545637/c01.xhtml#head-2-1\">What Is Machine Learning?</a>,\n",
       " <a class=\"t-chapter js-chapter\" href=\"https://learning.oreilly.com/library/view/python-machine-learning/9781119545637/c01.xhtml#head-2-2\">Getting the Tools</a>,\n",
       " <a class=\"t-chapter js-chapter\" href=\"https://learning.oreilly.com/library/view/python-machine-learning/9781119545637/c01.xhtml#head-2-3\">Summary</a>,\n",
       " <a class=\"t-chapter js-chapter\" href=\"https://learning.oreilly.com/library/view/python-machine-learning/9781119545637/c02.xhtml\">CHAPTER 2: Extending Python Using NumPy</a>,\n",
       " <a class=\"t-chapter js-chapter\" href=\"https://learning.oreilly.com/library/view/python-machine-learning/9781119545637/c02.xhtml#head-2-4\">What Is NumPy?</a>,\n",
       " <a class=\"t-chapter js-chapter\" href=\"https://learning.oreilly.com/library/view/python-machine-learning/9781119545637/c02.xhtml#head-2-5\">Creating NumPy Arrays</a>,\n",
       " <a class=\"t-chapter js-chapter\" href=\"https://learning.oreilly.com/library/view/python-machine-learning/9781119545637/c02.xhtml#head-2-6\">Array Indexing</a>,\n",
       " <a class=\"t-chapter js-chapter\" href=\"https://learning.oreilly.com/library/view/python-machine-learning/9781119545637/c02.xhtml#head-2-7\">Reshaping Arrays</a>,\n",
       " <a class=\"t-chapter js-chapter\" href=\"https://learning.oreilly.com/library/view/python-machine-learning/9781119545637/c02.xhtml#head-2-8\">Array Math</a>,\n",
       " <a class=\"t-chapter js-chapter\" href=\"https://learning.oreilly.com/library/view/python-machine-learning/9781119545637/c02.xhtml#head-2-9\">Array Assignment</a>,\n",
       " <a class=\"t-chapter js-chapter\" href=\"https://learning.oreilly.com/library/view/python-machine-learning/9781119545637/c02.xhtml#head-2-10\">Summary</a>,\n",
       " <a class=\"t-chapter js-chapter\" href=\"https://learning.oreilly.com/library/view/python-machine-learning/9781119545637/c03.xhtml\">CHAPTER 3: Manipulating Tabular Data Using Pandas</a>,\n",
       " <a class=\"t-chapter js-chapter\" href=\"https://learning.oreilly.com/library/view/python-machine-learning/9781119545637/c03.xhtml#head-2-11\">What Is Pandas?</a>,\n",
       " <a class=\"t-chapter js-chapter\" href=\"https://learning.oreilly.com/library/view/python-machine-learning/9781119545637/c03.xhtml#head-2-12\">Pandas Series</a>,\n",
       " <a class=\"t-chapter js-chapter\" href=\"https://learning.oreilly.com/library/view/python-machine-learning/9781119545637/c03.xhtml#head-2-13\">Pandas DataFrame</a>,\n",
       " <a class=\"t-chapter js-chapter\" href=\"https://learning.oreilly.com/library/view/python-machine-learning/9781119545637/c03.xhtml#head-2-14\">Summary</a>,\n",
       " <a class=\"t-chapter js-chapter\" href=\"https://learning.oreilly.com/library/view/python-machine-learning/9781119545637/c04.xhtml\">CHAPTER 4: Data Visualization Using matplotlib</a>,\n",
       " <a class=\"t-chapter js-chapter\" href=\"https://learning.oreilly.com/library/view/python-machine-learning/9781119545637/c04.xhtml#head-2-15\">What Is matplotlib?</a>,\n",
       " <a class=\"t-chapter js-chapter\" href=\"https://learning.oreilly.com/library/view/python-machine-learning/9781119545637/c04.xhtml#head-2-16\">Plotting Line Charts</a>,\n",
       " <a class=\"t-chapter js-chapter\" href=\"https://learning.oreilly.com/library/view/python-machine-learning/9781119545637/c04.xhtml#head-2-17\">Plotting Bar Charts</a>,\n",
       " <a class=\"t-chapter js-chapter\" href=\"https://learning.oreilly.com/library/view/python-machine-learning/9781119545637/c04.xhtml#head-2-18\">Plotting Pie Charts</a>,\n",
       " <a class=\"t-chapter js-chapter\" href=\"https://learning.oreilly.com/library/view/python-machine-learning/9781119545637/c04.xhtml#head-2-19\">Plotting Scatter Plots</a>,\n",
       " <a class=\"t-chapter js-chapter\" href=\"https://learning.oreilly.com/library/view/python-machine-learning/9781119545637/c04.xhtml#head-2-20\">Plotting Using Seaborn</a>,\n",
       " <a class=\"t-chapter js-chapter\" href=\"https://learning.oreilly.com/library/view/python-machine-learning/9781119545637/c04.xhtml#head-2-21\">Summary</a>,\n",
       " <a class=\"t-chapter js-chapter\" href=\"https://learning.oreilly.com/library/view/python-machine-learning/9781119545637/c05.xhtml\">CHAPTER 5: Getting Started with Scikit‐learn for Machine Learning</a>,\n",
       " <a class=\"t-chapter js-chapter\" href=\"https://learning.oreilly.com/library/view/python-machine-learning/9781119545637/c05.xhtml#head-2-22\">Introduction to Scikit‐learn</a>,\n",
       " <a class=\"t-chapter js-chapter\" href=\"https://learning.oreilly.com/library/view/python-machine-learning/9781119545637/c05.xhtml#head-2-23\">Getting Datasets</a>,\n",
       " <a class=\"t-chapter js-chapter\" href=\"https://learning.oreilly.com/library/view/python-machine-learning/9781119545637/c05.xhtml#head-2-24\">Getting Started with Scikit‐learn</a>,\n",
       " <a class=\"t-chapter js-chapter\" href=\"https://learning.oreilly.com/library/view/python-machine-learning/9781119545637/c05.xhtml#head-2-25\">Data Cleansing</a>,\n",
       " <a class=\"t-chapter js-chapter\" href=\"https://learning.oreilly.com/library/view/python-machine-learning/9781119545637/c05.xhtml#head-2-26\">Summary</a>,\n",
       " <a class=\"t-chapter js-chapter\" href=\"https://learning.oreilly.com/library/view/python-machine-learning/9781119545637/c06.xhtml\">CHAPTER 6: Supervised Learning—Linear Regression</a>,\n",
       " <a class=\"t-chapter js-chapter\" href=\"https://learning.oreilly.com/library/view/python-machine-learning/9781119545637/c06.xhtml#head-2-27\">Types of Linear Regression</a>,\n",
       " <a class=\"t-chapter js-chapter\" href=\"https://learning.oreilly.com/library/view/python-machine-learning/9781119545637/c06.xhtml#head-2-28\">Linear Regression</a>,\n",
       " <a class=\"t-chapter js-chapter\" href=\"https://learning.oreilly.com/library/view/python-machine-learning/9781119545637/c06.xhtml#head-2-29\">Polynomial Regression</a>,\n",
       " <a class=\"t-chapter js-chapter\" href=\"https://learning.oreilly.com/library/view/python-machine-learning/9781119545637/c06.xhtml#head-2-30\">Summary</a>,\n",
       " <a class=\"t-chapter js-chapter\" href=\"https://learning.oreilly.com/library/view/python-machine-learning/9781119545637/c07.xhtml\">CHAPTER 7: Supervised Learning—Classification Using Logistic Regression</a>,\n",
       " <a class=\"t-chapter js-chapter\" href=\"https://learning.oreilly.com/library/view/python-machine-learning/9781119545637/c07.xhtml#head-2-31\">What Is Logistic Regression?</a>,\n",
       " <a class=\"t-chapter js-chapter\" href=\"https://learning.oreilly.com/library/view/python-machine-learning/9781119545637/c07.xhtml#head-2-32\">Using the Breast Cancer Wisconsin (Diagnostic) Data Set</a>,\n",
       " <a class=\"t-chapter js-chapter\" href=\"https://learning.oreilly.com/library/view/python-machine-learning/9781119545637/c07.xhtml#head-2-33\">Summary</a>,\n",
       " <a class=\"t-chapter js-chapter\" href=\"https://learning.oreilly.com/library/view/python-machine-learning/9781119545637/c08.xhtml\">CHAPTER 8: Supervised Learning—Classification Using Support Vector Machines</a>,\n",
       " <a class=\"t-chapter js-chapter\" href=\"https://learning.oreilly.com/library/view/python-machine-learning/9781119545637/c08.xhtml#head-2-34\">What Is a Support Vector Machine?</a>,\n",
       " <a class=\"t-chapter js-chapter\" href=\"https://learning.oreilly.com/library/view/python-machine-learning/9781119545637/c08.xhtml#head-2-35\">Kernel Trick</a>,\n",
       " <a class=\"t-chapter js-chapter\" href=\"https://learning.oreilly.com/library/view/python-machine-learning/9781119545637/c08.xhtml#head-2-36\">Types of Kernels</a>,\n",
       " <a class=\"t-chapter js-chapter\" href=\"https://learning.oreilly.com/library/view/python-machine-learning/9781119545637/c08.xhtml#head-2-37\">Using SVM for Real‐Life Problems</a>,\n",
       " <a class=\"t-chapter js-chapter\" href=\"https://learning.oreilly.com/library/view/python-machine-learning/9781119545637/c08.xhtml#head-2-38\">Summary</a>,\n",
       " <a class=\"t-chapter js-chapter\" href=\"https://learning.oreilly.com/library/view/python-machine-learning/9781119545637/c09.xhtml\">CHAPTER 9: Supervised Learning—Classification Using K‐Nearest Neighbors (KNN)</a>,\n",
       " <a class=\"t-chapter js-chapter\" href=\"https://learning.oreilly.com/library/view/python-machine-learning/9781119545637/c09.xhtml#head-2-39\">What Is K‐Nearest Neighbors?</a>,\n",
       " <a class=\"t-chapter js-chapter\" href=\"https://learning.oreilly.com/library/view/python-machine-learning/9781119545637/c09.xhtml#head-2-40\">Summary</a>,\n",
       " <a class=\"t-chapter js-chapter\" href=\"https://learning.oreilly.com/library/view/python-machine-learning/9781119545637/c10.xhtml\">CHAPTER 10: Unsupervised Learning—Clustering Using K‐Means</a>,\n",
       " <a class=\"t-chapter js-chapter\" href=\"https://learning.oreilly.com/library/view/python-machine-learning/9781119545637/c10.xhtml#head-2-41\">What Is Unsupervised Learning?</a>,\n",
       " <a class=\"t-chapter js-chapter\" href=\"https://learning.oreilly.com/library/view/python-machine-learning/9781119545637/c10.xhtml#head-2-42\">Using K‐Means to Solve Real‐Life Problems</a>,\n",
       " <a class=\"t-chapter js-chapter\" href=\"https://learning.oreilly.com/library/view/python-machine-learning/9781119545637/c10.xhtml#head-2-43\">Summary</a>,\n",
       " <a class=\"t-chapter js-chapter\" href=\"https://learning.oreilly.com/library/view/python-machine-learning/9781119545637/c11.xhtml\">CHAPTER 11: Using Azure Machine Learning Studio</a>,\n",
       " <a class=\"t-chapter js-chapter\" href=\"https://learning.oreilly.com/library/view/python-machine-learning/9781119545637/c11.xhtml#head-2-44\">What Is Microsoft Azure Machine Learning Studio?</a>,\n",
       " <a class=\"t-chapter js-chapter\" href=\"https://learning.oreilly.com/library/view/python-machine-learning/9781119545637/c11.xhtml#head-2-45\">Summary</a>,\n",
       " <a class=\"t-chapter js-chapter\" href=\"https://learning.oreilly.com/library/view/python-machine-learning/9781119545637/c12.xhtml\">CHAPTER 12: Deploying Machine Learning Models</a>,\n",
       " <a class=\"t-chapter js-chapter\" href=\"https://learning.oreilly.com/library/view/python-machine-learning/9781119545637/c12.xhtml#head-2-46\">Deploying ML</a>,\n",
       " <a class=\"t-chapter js-chapter\" href=\"https://learning.oreilly.com/library/view/python-machine-learning/9781119545637/c12.xhtml#head-2-47\">Case Study</a>,\n",
       " <a class=\"t-chapter js-chapter\" href=\"https://learning.oreilly.com/library/view/python-machine-learning/9781119545637/c12.xhtml#head-2-48\">Deploying the Model</a>,\n",
       " <a class=\"t-chapter js-chapter\" href=\"https://learning.oreilly.com/library/view/python-machine-learning/9781119545637/c12.xhtml#head-2-49\">Creating the Client Application to Use the Model</a>,\n",
       " <a class=\"t-chapter js-chapter\" href=\"https://learning.oreilly.com/library/view/python-machine-learning/9781119545637/c12.xhtml#head-2-50\">Summary</a>,\n",
       " <a class=\"t-chapter js-chapter\" href=\"https://learning.oreilly.com/library/view/python-machine-learning/9781119545637/b01.xhtml\">Index</a>,\n",
       " <a class=\"t-chapter js-chapter\" href=\"https://learning.oreilly.com/library/view/python-machine-learning/9781119545637/eula.xhtml\">End User License Agreement</a>]"
      ]
     },
     "execution_count": 6,
     "metadata": {},
     "output_type": "execute_result"
    }
   ],
   "source": [
    "links = data.find_all(\"a\", class_='t-chapter')\n",
    "links"
   ]
  },
  {
   "cell_type": "code",
   "execution_count": 11,
   "metadata": {},
   "outputs": [
    {
     "name": "stdout",
     "output_type": "stream",
     "text": [
      "2 CHAPTER 1: Introduction to Machine Learning\n",
      "6 CHAPTER 2: Extending Python Using NumPy\n",
      "14 CHAPTER 3: Manipulating Tabular Data Using Pandas\n",
      "19 CHAPTER 4: Data Visualization Using matplotlib\n",
      "27 CHAPTER 5: Getting Started with Scikit‐learn for Machine Learning\n",
      "33 CHAPTER 6: Supervised Learning—Linear Regression\n",
      "38 CHAPTER 7: Supervised Learning—Classification Using Logistic Regression\n",
      "42 CHAPTER 8: Supervised Learning—Classification Using Support Vector Machines\n",
      "48 CHAPTER 9: Supervised Learning—Classification Using K‐Nearest Neighbors (KNN)\n",
      "51 CHAPTER 10: Unsupervised Learning—Clustering Using K‐Means\n",
      "55 CHAPTER 11: Using Azure Machine Learning Studio\n",
      "58 CHAPTER 12: Deploying Machine Learning Models\n",
      "64 Index\n"
     ]
    }
   ],
   "source": [
    "# find the regex experession to grab the page links\n",
    "# there is a link for each section on each page - which creates repetition of materials. grabbing only the first link gets the entire page exactly once.\n",
    "\n",
    "regex = \"^CHAPTER|^Index\"\n",
    "\n",
    "for num in range(len(links)):\n",
    "    x = re.search(regex,links[num].string)\n",
    "    if x:\n",
    "        print(num,links[num].string)\n"
   ]
  },
  {
   "cell_type": "code",
   "execution_count": 12,
   "metadata": {},
   "outputs": [
    {
     "data": {
      "text/plain": [
       "['https://learning.oreilly.com/library/view/python-machine-learning/9781119545637/c01.xhtml',\n",
       " 'https://learning.oreilly.com/library/view/python-machine-learning/9781119545637/c02.xhtml',\n",
       " 'https://learning.oreilly.com/library/view/python-machine-learning/9781119545637/c03.xhtml',\n",
       " 'https://learning.oreilly.com/library/view/python-machine-learning/9781119545637/c04.xhtml',\n",
       " 'https://learning.oreilly.com/library/view/python-machine-learning/9781119545637/c05.xhtml',\n",
       " 'https://learning.oreilly.com/library/view/python-machine-learning/9781119545637/c06.xhtml',\n",
       " 'https://learning.oreilly.com/library/view/python-machine-learning/9781119545637/c07.xhtml',\n",
       " 'https://learning.oreilly.com/library/view/python-machine-learning/9781119545637/c08.xhtml',\n",
       " 'https://learning.oreilly.com/library/view/python-machine-learning/9781119545637/c09.xhtml',\n",
       " 'https://learning.oreilly.com/library/view/python-machine-learning/9781119545637/c10.xhtml',\n",
       " 'https://learning.oreilly.com/library/view/python-machine-learning/9781119545637/c11.xhtml',\n",
       " 'https://learning.oreilly.com/library/view/python-machine-learning/9781119545637/c12.xhtml',\n",
       " 'https://learning.oreilly.com/library/view/python-machine-learning/9781119545637/b01.xhtml']"
      ]
     },
     "execution_count": 12,
     "metadata": {},
     "output_type": "execute_result"
    }
   ],
   "source": [
    "endpoints = []\n",
    "for link in links:\n",
    "    if re.search(regex,link.string): \n",
    "        endpoints.append(link['href'])\n",
    "\n",
    "# endpoints = endpoints[11:]\n",
    "endpoints"
   ]
  },
  {
   "cell_type": "code",
   "execution_count": 14,
   "metadata": {},
   "outputs": [],
   "source": [
    "def spider(url):\n",
    "    \"\"\"Perform web scraping for url\"\"\"\n",
    "    \n",
    "    headers = {'user-agent': 'access book text (wat6sv@virginia.edu)'}\n",
    "    r = requests.get(url, headers=headers)\n",
    "\n",
    "    if r.status_code == 200:\n",
    "        site_html = BeautifulSoup(r.text, \"html.parser\")\n",
    "        text = site_html.get_text()\n",
    "\n",
    "        f=open(\"./RAG-Docs/processed/PythonML-Lee.txt\", \"a\")\n",
    "        f.write(text)\n",
    "        f.close()"
   ]
  },
  {
   "cell_type": "code",
   "execution_count": 15,
   "metadata": {},
   "outputs": [],
   "source": [
    "for endpoint in endpoints:\n",
    "    spider(endpoint)"
   ]
  },
  {
   "cell_type": "markdown",
   "metadata": {},
   "source": []
  },
  {
   "cell_type": "code",
   "execution_count": null,
   "metadata": {},
   "outputs": [],
   "source": []
  }
 ],
 "metadata": {
  "kernelspec": {
   "display_name": "base",
   "language": "python",
   "name": "python3"
  },
  "language_info": {
   "codemirror_mode": {
    "name": "ipython",
    "version": 3
   },
   "file_extension": ".py",
   "mimetype": "text/x-python",
   "name": "python",
   "nbconvert_exporter": "python",
   "pygments_lexer": "ipython3",
   "version": "3.11.4"
  }
 },
 "nbformat": 4,
 "nbformat_minor": 2
}
