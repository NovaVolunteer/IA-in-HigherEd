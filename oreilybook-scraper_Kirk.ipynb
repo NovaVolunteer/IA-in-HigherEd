{
 "cells": [
  {
   "cell_type": "markdown",
   "metadata": {},
   "source": [
    "This notebook contains the code to crawl through the \"Thoughtful Machine Learning with Python\" book from https://learning.oreilly.com/library/view/thoughtful-machine-learning/9781491924129/ and save the text from each page into a text file."
   ]
  },
  {
   "cell_type": "code",
   "execution_count": 1,
   "metadata": {},
   "outputs": [],
   "source": [
    "import requests\n",
    "import numpy as np\n",
    "import pandas as pd\n",
    "\n",
    "from bs4 import BeautifulSoup\n",
    "\n",
    "import re"
   ]
  },
  {
   "cell_type": "code",
   "execution_count": 2,
   "metadata": {},
   "outputs": [
    {
     "data": {
      "text/plain": [
       "<Response [200]>"
      ]
     },
     "execution_count": 2,
     "metadata": {},
     "output_type": "execute_result"
    }
   ],
   "source": [
    "headers = {'user-agent': 'access book text (wat6sv@virginia.edu)'}\n",
    "link = \"https://learning.oreilly.com/library/view/thoughtful-machine-learning/9781491924129/\"\n",
    "r = requests.get(link, headers = headers)\n",
    "r"
   ]
  },
  {
   "cell_type": "code",
   "execution_count": 3,
   "metadata": {},
   "outputs": [],
   "source": [
    "data = BeautifulSoup(r.text, \"html.parser\")"
   ]
  },
  {
   "cell_type": "code",
   "execution_count": 4,
   "metadata": {},
   "outputs": [],
   "source": [
    "# print(data.get_text())"
   ]
  },
  {
   "cell_type": "code",
   "execution_count": 5,
   "metadata": {},
   "outputs": [
    {
     "data": {
      "text/plain": [
       "[<a class=\"t-chapter js-chapter\" href=\"https://learning.oreilly.com/library/view/thoughtful-machine-learning/9781491924129/preface01.html#_preface\">Preface</a>,\n",
       " <a class=\"t-chapter js-chapter\" href=\"https://learning.oreilly.com/library/view/thoughtful-machine-learning/9781491924129/preface01.html#_conventions_used_in_this_book\">Conventions Used in This Book</a>,\n",
       " <a class=\"t-chapter js-chapter\" href=\"https://learning.oreilly.com/library/view/thoughtful-machine-learning/9781491924129/preface01.html#_using_code_examples\">Using Code Examples</a>,\n",
       " <a class=\"t-chapter js-chapter\" href=\"https://learning.oreilly.com/library/view/thoughtful-machine-learning/9781491924129/preface01.html#_safari_books_online\">O’Reilly Safari</a>,\n",
       " <a class=\"t-chapter js-chapter\" href=\"https://learning.oreilly.com/library/view/thoughtful-machine-learning/9781491924129/preface01.html#_how_to_contact_us\">How to Contact Us</a>,\n",
       " <a class=\"t-chapter js-chapter\" href=\"https://learning.oreilly.com/library/view/thoughtful-machine-learning/9781491924129/preface01.html#_acknowledgments\">Acknowledgments</a>,\n",
       " <a class=\"t-chapter js-chapter\" href=\"https://learning.oreilly.com/library/view/thoughtful-machine-learning/9781491924129/ch01.html#chapter_one\">1. Probably Approximately Correct Software</a>,\n",
       " <a class=\"t-chapter js-chapter\" href=\"https://learning.oreilly.com/library/view/thoughtful-machine-learning/9781491924129/ch01.html#idm45501086368632\">Writing Software Right</a>,\n",
       " <a class=\"t-chapter js-chapter\" href=\"https://learning.oreilly.com/library/view/thoughtful-machine-learning/9781491924129/ch01.html#idm45501097563464\">SOLID</a>,\n",
       " <a class=\"t-chapter js-chapter\" href=\"https://learning.oreilly.com/library/view/thoughtful-machine-learning/9781491924129/ch01.html#idm45501097563224\">Testing or TDD</a>,\n",
       " <a class=\"t-chapter js-chapter\" href=\"https://learning.oreilly.com/library/view/thoughtful-machine-learning/9781491924129/ch01.html#idm45501097545080\">Refactoring</a>,\n",
       " <a class=\"t-chapter js-chapter\" href=\"https://learning.oreilly.com/library/view/thoughtful-machine-learning/9781491924129/ch01.html#idm45501097628120\">Writing the Right Software</a>,\n",
       " <a class=\"t-chapter js-chapter\" href=\"https://learning.oreilly.com/library/view/thoughtful-machine-learning/9781491924129/ch01.html#idm45501097619976\">Writing the Right Software with Machine Learning</a>,\n",
       " <a class=\"t-chapter js-chapter\" href=\"https://learning.oreilly.com/library/view/thoughtful-machine-learning/9781491924129/ch01.html#idm45501097617256\">What Exactly Is Machine Learning?</a>,\n",
       " <a class=\"t-chapter js-chapter\" href=\"https://learning.oreilly.com/library/view/thoughtful-machine-learning/9781491924129/ch01.html#idm45501097601368\">The High Interest Credit Card Debt of Machine Learning</a>,\n",
       " <a class=\"t-chapter js-chapter\" href=\"https://learning.oreilly.com/library/view/thoughtful-machine-learning/9781491924129/ch01.html#idm45501097699352\">SOLID Applied to Machine Learning</a>,\n",
       " <a class=\"t-chapter js-chapter\" href=\"https://learning.oreilly.com/library/view/thoughtful-machine-learning/9781491924129/ch01.html#idm45501097652104\">Machine Learning Code Is Complex but Not Impossible</a>,\n",
       " <a class=\"t-chapter js-chapter\" href=\"https://learning.oreilly.com/library/view/thoughtful-machine-learning/9781491924129/ch01.html#idm45501097649144\">TDD: Scientific Method 2.0</a>,\n",
       " <a class=\"t-chapter js-chapter\" href=\"https://learning.oreilly.com/library/view/thoughtful-machine-learning/9781491924129/ch01.html#idm45501097644392\">Refactoring Our Way to Knowledge</a>,\n",
       " <a class=\"t-chapter js-chapter\" href=\"https://learning.oreilly.com/library/view/thoughtful-machine-learning/9781491924129/ch01.html#idm45501097627496\">The Plan for the Book</a>,\n",
       " <a class=\"t-chapter js-chapter\" href=\"https://learning.oreilly.com/library/view/thoughtful-machine-learning/9781491924129/ch02.html#a_quick_introduction_to_machine_learning\">2. A Quick Introduction to Machine Learning</a>,\n",
       " <a class=\"t-chapter js-chapter\" href=\"https://learning.oreilly.com/library/view/thoughtful-machine-learning/9781491924129/ch02.html#idm45501097884120\">What Is Machine Learning?</a>,\n",
       " <a class=\"t-chapter js-chapter\" href=\"https://learning.oreilly.com/library/view/thoughtful-machine-learning/9781491924129/ch02.html#idm45501097871272\">Supervised Learning</a>,\n",
       " <a class=\"t-chapter js-chapter\" href=\"https://learning.oreilly.com/library/view/thoughtful-machine-learning/9781491924129/ch02.html#idm45501097864184\">Unsupervised Learning</a>,\n",
       " <a class=\"t-chapter js-chapter\" href=\"https://learning.oreilly.com/library/view/thoughtful-machine-learning/9781491924129/ch02.html#idm45501097857784\">Reinforcement Learning</a>,\n",
       " <a class=\"t-chapter js-chapter\" href=\"https://learning.oreilly.com/library/view/thoughtful-machine-learning/9781491924129/ch02.html#idm45501097853432\">What Can Machine Learning Accomplish?</a>,\n",
       " <a class=\"t-chapter js-chapter\" href=\"https://learning.oreilly.com/library/view/thoughtful-machine-learning/9781491924129/ch02.html#idm45501097802152\">Mathematical Notation Used Throughout the Book</a>,\n",
       " <a class=\"t-chapter js-chapter\" href=\"https://learning.oreilly.com/library/view/thoughtful-machine-learning/9781491924129/ch02.html#idm45501097742216\">Conclusion</a>,\n",
       " <a class=\"t-chapter js-chapter\" href=\"https://learning.oreilly.com/library/view/thoughtful-machine-learning/9781491924129/ch03.html#k_nearest_neighbors\">3. K-Nearest Neighbors</a>,\n",
       " <a class=\"t-chapter js-chapter\" href=\"https://learning.oreilly.com/library/view/thoughtful-machine-learning/9781491924129/ch03.html#idm45501097732568\">How Do You Determine Whether You Want to Buy a House?</a>,\n",
       " <a class=\"t-chapter js-chapter\" href=\"https://learning.oreilly.com/library/view/thoughtful-machine-learning/9781491924129/ch03.html#idm45501097729016\">How Valuable Is That House?</a>,\n",
       " <a class=\"t-chapter js-chapter\" href=\"https://learning.oreilly.com/library/view/thoughtful-machine-learning/9781491924129/ch03.html#idm45501100578744\">Hedonic Regression</a>,\n",
       " <a class=\"t-chapter js-chapter\" href=\"https://learning.oreilly.com/library/view/thoughtful-machine-learning/9781491924129/ch03.html#idm45501100558424\">What Is a Neighborhood?</a>,\n",
       " <a class=\"t-chapter js-chapter\" href=\"https://learning.oreilly.com/library/view/thoughtful-machine-learning/9781491924129/ch03.html#idm45501100554296\">K-Nearest Neighbors</a>,\n",
       " <a class=\"t-chapter js-chapter\" href=\"https://learning.oreilly.com/library/view/thoughtful-machine-learning/9781491924129/ch03.html#idm45501100540632\">Mr. K’s Nearest Neighborhood</a>,\n",
       " <a class=\"t-chapter js-chapter\" href=\"https://learning.oreilly.com/library/view/thoughtful-machine-learning/9781491924129/ch03.html#idm45501100537528\">Distances</a>,\n",
       " <a class=\"t-chapter js-chapter\" href=\"https://learning.oreilly.com/library/view/thoughtful-machine-learning/9781491924129/ch03.html#idm45501100527832\">Triangle Inequality</a>,\n",
       " <a class=\"t-chapter js-chapter\" href=\"https://learning.oreilly.com/library/view/thoughtful-machine-learning/9781491924129/ch03.html#idm45501100519048\">Geometrical Distance</a>,\n",
       " <a class=\"t-chapter js-chapter\" href=\"https://learning.oreilly.com/library/view/thoughtful-machine-learning/9781491924129/ch03.html#idm45501098143864\">Computational Distances</a>,\n",
       " <a class=\"t-chapter js-chapter\" href=\"https://learning.oreilly.com/library/view/thoughtful-machine-learning/9781491924129/ch03.html#idm45501098143240\">Statistical Distances</a>,\n",
       " <a class=\"t-chapter js-chapter\" href=\"https://learning.oreilly.com/library/view/thoughtful-machine-learning/9781491924129/ch03.html#idm45501099861304\">Curse of Dimensionality</a>,\n",
       " <a class=\"t-chapter js-chapter\" href=\"https://learning.oreilly.com/library/view/thoughtful-machine-learning/9781491924129/ch03.html#idm45501099852600\">How Do We Pick K?</a>,\n",
       " <a class=\"t-chapter js-chapter\" href=\"https://learning.oreilly.com/library/view/thoughtful-machine-learning/9781491924129/ch03.html#idm45501099846088\">Guessing K</a>,\n",
       " <a class=\"t-chapter js-chapter\" href=\"https://learning.oreilly.com/library/view/thoughtful-machine-learning/9781491924129/ch03.html#idm45501099842664\">Heuristics for Picking K</a>,\n",
       " <a class=\"t-chapter js-chapter\" href=\"https://learning.oreilly.com/library/view/thoughtful-machine-learning/9781491924129/ch03.html#idm45501099793528\">Valuing Houses in Seattle</a>,\n",
       " <a class=\"t-chapter js-chapter\" href=\"https://learning.oreilly.com/library/view/thoughtful-machine-learning/9781491924129/ch03.html#idm45501099789080\">About the Data</a>,\n",
       " <a class=\"t-chapter js-chapter\" href=\"https://learning.oreilly.com/library/view/thoughtful-machine-learning/9781491924129/ch03.html#idm45501099786968\">General Strategy</a>,\n",
       " <a class=\"t-chapter js-chapter\" href=\"https://learning.oreilly.com/library/view/thoughtful-machine-learning/9781491924129/ch03.html#idm45501099781880\">Coding and Testing Design</a>,\n",
       " <a class=\"t-chapter js-chapter\" href=\"https://learning.oreilly.com/library/view/thoughtful-machine-learning/9781491924129/ch03.html#idm45501099775224\">KNN Regressor Construction</a>,\n",
       " <a class=\"t-chapter js-chapter\" href=\"https://learning.oreilly.com/library/view/thoughtful-machine-learning/9781491924129/ch03.html#idm45501099774600\">KNN Testing</a>,\n",
       " <a class=\"t-chapter js-chapter\" href=\"https://learning.oreilly.com/library/view/thoughtful-machine-learning/9781491924129/ch03.html#idm45501099587864\">Conclusion</a>,\n",
       " <a class=\"t-chapter js-chapter\" href=\"https://learning.oreilly.com/library/view/thoughtful-machine-learning/9781491924129/ch04.html#naive_bayesian_classification\">4. Naive Bayesian Classification</a>,\n",
       " <a class=\"t-chapter js-chapter\" href=\"https://learning.oreilly.com/library/view/thoughtful-machine-learning/9781491924129/ch04.html#idm45501099010280\">Using Bayes’ Theorem to Find Fraudulent Orders</a>,\n",
       " <a class=\"t-chapter js-chapter\" href=\"https://learning.oreilly.com/library/view/thoughtful-machine-learning/9781491924129/ch04.html#idm45501099005416\">Conditional Probabilities</a>,\n",
       " <a class=\"t-chapter js-chapter\" href=\"https://learning.oreilly.com/library/view/thoughtful-machine-learning/9781491924129/ch04.html#idm45501098958232\">Probability Symbols</a>,\n",
       " <a class=\"t-chapter js-chapter\" href=\"https://learning.oreilly.com/library/view/thoughtful-machine-learning/9781491924129/ch04.html#idm45501098957640\">Inverse Conditional Probability (aka Bayes’ Theorem)</a>,\n",
       " <a class=\"t-chapter js-chapter\" href=\"https://learning.oreilly.com/library/view/thoughtful-machine-learning/9781491924129/ch04.html#idm45501098638424\">Naive Bayesian Classifier</a>,\n",
       " <a class=\"t-chapter js-chapter\" href=\"https://learning.oreilly.com/library/view/thoughtful-machine-learning/9781491924129/ch04.html#idm45501098521160\">The Chain Rule</a>,\n",
       " <a class=\"t-chapter js-chapter\" href=\"https://learning.oreilly.com/library/view/thoughtful-machine-learning/9781491924129/ch04.html#idm45501098469464\">Naiveté in Bayesian Reasoning</a>,\n",
       " <a class=\"t-chapter js-chapter\" href=\"https://learning.oreilly.com/library/view/thoughtful-machine-learning/9781491924129/ch04.html#idm45501098468840\">Pseudocount</a>,\n",
       " <a class=\"t-chapter js-chapter\" href=\"https://learning.oreilly.com/library/view/thoughtful-machine-learning/9781491924129/ch04.html#idm45501098300376\">Spam Filter</a>,\n",
       " <a class=\"t-chapter js-chapter\" href=\"https://learning.oreilly.com/library/view/thoughtful-machine-learning/9781491924129/ch04.html#idm45501098289992\">Setup Notes</a>,\n",
       " <a class=\"t-chapter js-chapter\" href=\"https://learning.oreilly.com/library/view/thoughtful-machine-learning/9781491924129/ch04.html#idm45501098286424\">Coding and Testing Design</a>,\n",
       " <a class=\"t-chapter js-chapter\" href=\"https://learning.oreilly.com/library/view/thoughtful-machine-learning/9781491924129/ch04.html#idm45501098278856\">Data Source</a>,\n",
       " <a class=\"t-chapter js-chapter\" href=\"https://learning.oreilly.com/library/view/thoughtful-machine-learning/9781491924129/ch04.html#idm45501098274456\">EmailObject</a>,\n",
       " <a class=\"t-chapter js-chapter\" href=\"https://learning.oreilly.com/library/view/thoughtful-machine-learning/9781491924129/ch04.html#idm45501098273832\">Tokenization and Context</a>,\n",
       " <a class=\"t-chapter js-chapter\" href=\"https://learning.oreilly.com/library/view/thoughtful-machine-learning/9781491924129/ch04.html#idm45501085379144\">SpamTrainer</a>,\n",
       " <a class=\"t-chapter js-chapter\" href=\"https://learning.oreilly.com/library/view/thoughtful-machine-learning/9781491924129/ch04.html#idm45501084431592\">Error Minimization Through Cross-Validation</a>,\n",
       " <a class=\"t-chapter js-chapter\" href=\"https://learning.oreilly.com/library/view/thoughtful-machine-learning/9781491924129/ch04.html#idm45501098299784\">Conclusion</a>,\n",
       " <a class=\"t-chapter js-chapter\" href=\"https://learning.oreilly.com/library/view/thoughtful-machine-learning/9781491924129/ch05.html#decision_trees_and_random_forests\">5. Decision Trees and Random Forests</a>,\n",
       " <a class=\"t-chapter js-chapter\" href=\"https://learning.oreilly.com/library/view/thoughtful-machine-learning/9781491924129/ch05.html#idm45501083236968\">The Nuances of Mushrooms</a>,\n",
       " <a class=\"t-chapter js-chapter\" href=\"https://learning.oreilly.com/library/view/thoughtful-machine-learning/9781491924129/ch05.html#idm45501083227000\">Classifying Mushrooms Using a Folk Theorem</a>,\n",
       " <a class=\"t-chapter js-chapter\" href=\"https://learning.oreilly.com/library/view/thoughtful-machine-learning/9781491924129/ch05.html#idm45501083211656\">Finding an Optimal Switch Point</a>,\n",
       " <a class=\"t-chapter js-chapter\" href=\"https://learning.oreilly.com/library/view/thoughtful-machine-learning/9781491924129/ch05.html#idm45501083153816\">Information Gain</a>,\n",
       " <a class=\"t-chapter js-chapter\" href=\"https://learning.oreilly.com/library/view/thoughtful-machine-learning/9781491924129/ch05.html#idm45501083142504\">GINI Impurity</a>,\n",
       " <a class=\"t-chapter js-chapter\" href=\"https://learning.oreilly.com/library/view/thoughtful-machine-learning/9781491924129/ch05.html#idm45501083141880\">Variance Reduction</a>,\n",
       " <a class=\"t-chapter js-chapter\" href=\"https://learning.oreilly.com/library/view/thoughtful-machine-learning/9781491924129/ch05.html#idm45501083211000\">Pruning Trees</a>,\n",
       " <a class=\"t-chapter js-chapter\" href=\"https://learning.oreilly.com/library/view/thoughtful-machine-learning/9781491924129/ch05.html#idm45501083010232\">Ensemble Learning</a>,\n",
       " <a class=\"t-chapter js-chapter\" href=\"https://learning.oreilly.com/library/view/thoughtful-machine-learning/9781491924129/ch05.html#idm45501082975992\">Writing a Mushroom Classifier</a>,\n",
       " <a class=\"t-chapter js-chapter\" href=\"https://learning.oreilly.com/library/view/thoughtful-machine-learning/9781491924129/ch05.html#idm45501082473928\">Conclusion</a>,\n",
       " <a class=\"t-chapter js-chapter\" href=\"https://learning.oreilly.com/library/view/thoughtful-machine-learning/9781491924129/ch06.html#idm45501083253032\">6. Hidden Markov Models</a>,\n",
       " <a class=\"t-chapter js-chapter\" href=\"https://learning.oreilly.com/library/view/thoughtful-machine-learning/9781491924129/ch06.html#idm45501082090392\">Tracking User Behavior Using State Machines</a>,\n",
       " <a class=\"t-chapter js-chapter\" href=\"https://learning.oreilly.com/library/view/thoughtful-machine-learning/9781491924129/ch06.html#idm45501082089768\">Emissions/Observations of Underlying States</a>,\n",
       " <a class=\"t-chapter js-chapter\" href=\"https://learning.oreilly.com/library/view/thoughtful-machine-learning/9781491924129/ch06.html#idm45501082053800\">Simplification Through the Markov Assumption</a>,\n",
       " <a class=\"t-chapter js-chapter\" href=\"https://learning.oreilly.com/library/view/thoughtful-machine-learning/9781491924129/ch06.html#idm45501081896648\">Using Markov Chains Instead of a Finite State Machine</a>,\n",
       " <a class=\"t-chapter js-chapter\" href=\"https://learning.oreilly.com/library/view/thoughtful-machine-learning/9781491924129/ch06.html#idm45501081891336\">Hidden Markov Model</a>,\n",
       " <a class=\"t-chapter js-chapter\" href=\"https://learning.oreilly.com/library/view/thoughtful-machine-learning/9781491924129/ch06.html#idm45501081881448\">Evaluation: Forward-Backward Algorithm</a>,\n",
       " <a class=\"t-chapter js-chapter\" href=\"https://learning.oreilly.com/library/view/thoughtful-machine-learning/9781491924129/ch06.html#idm45501081875736\">Mathematical Representation of the Forward-Backward Algorithm</a>,\n",
       " <a class=\"t-chapter js-chapter\" href=\"https://learning.oreilly.com/library/view/thoughtful-machine-learning/9781491924129/ch06.html#idm45501081875144\">Using User Behavior</a>,\n",
       " <a class=\"t-chapter js-chapter\" href=\"https://learning.oreilly.com/library/view/thoughtful-machine-learning/9781491924129/ch06.html#idm45501081124424\">The Decoding Problem Through the Viterbi Algorithm</a>,\n",
       " <a class=\"t-chapter js-chapter\" href=\"https://learning.oreilly.com/library/view/thoughtful-machine-learning/9781491924129/ch06.html#idm45501081113240\">The Learning Problem</a>,\n",
       " <a class=\"t-chapter js-chapter\" href=\"https://learning.oreilly.com/library/view/thoughtful-machine-learning/9781491924129/ch06.html#idm45501081108808\">Part-of-Speech Tagging with the Brown Corpus</a>,\n",
       " <a class=\"t-chapter js-chapter\" href=\"https://learning.oreilly.com/library/view/thoughtful-machine-learning/9781491924129/ch06.html#idm45501081096536\">Setup Notes</a>,\n",
       " <a class=\"t-chapter js-chapter\" href=\"https://learning.oreilly.com/library/view/thoughtful-machine-learning/9781491924129/ch06.html#idm45501081092136\">Coding and Testing Design</a>,\n",
       " <a class=\"t-chapter js-chapter\" href=\"https://learning.oreilly.com/library/view/thoughtful-machine-learning/9781491924129/ch06.html#idm45501081083624\">The Seam of Our Part-of-Speech Tagger: CorpusParser</a>,\n",
       " <a class=\"t-chapter js-chapter\" href=\"https://learning.oreilly.com/library/view/thoughtful-machine-learning/9781491924129/ch06.html#idm45501080737752\">Writing the Part-of-Speech Tagger</a>,\n",
       " <a class=\"t-chapter js-chapter\" href=\"https://learning.oreilly.com/library/view/thoughtful-machine-learning/9781491924129/ch06.html#idm45501080736808\">Cross-Validating to Get Confidence in the Model</a>,\n",
       " <a class=\"t-chapter js-chapter\" href=\"https://learning.oreilly.com/library/view/thoughtful-machine-learning/9781491924129/ch06.html#idm45501078327960\">How to Make This Model Better</a>,\n",
       " <a class=\"t-chapter js-chapter\" href=\"https://learning.oreilly.com/library/view/thoughtful-machine-learning/9781491924129/ch06.html#idm45501081108184\">Conclusion</a>,\n",
       " <a class=\"t-chapter js-chapter\" href=\"https://learning.oreilly.com/library/view/thoughtful-machine-learning/9781491924129/ch07.html#support_vector_machines\">7. Support Vector Machines</a>,\n",
       " <a class=\"t-chapter js-chapter\" href=\"https://learning.oreilly.com/library/view/thoughtful-machine-learning/9781491924129/ch07.html#idm45501097422136\">Customer Happiness as a Function of What They Say</a>,\n",
       " <a class=\"t-chapter js-chapter\" href=\"https://learning.oreilly.com/library/view/thoughtful-machine-learning/9781491924129/ch07.html#idm45501097413544\">Sentiment Classification Using SVMs</a>,\n",
       " <a class=\"t-chapter js-chapter\" href=\"https://learning.oreilly.com/library/view/thoughtful-machine-learning/9781491924129/ch07.html#idm45501097393304\">The Theory Behind SVMs</a>,\n",
       " <a class=\"t-chapter js-chapter\" href=\"https://learning.oreilly.com/library/view/thoughtful-machine-learning/9781491924129/ch07.html#idm45501097383160\">Decision Boundary</a>,\n",
       " <a class=\"t-chapter js-chapter\" href=\"https://learning.oreilly.com/library/view/thoughtful-machine-learning/9781491924129/ch07.html#idm45501097376584\">Maximizing Boundaries</a>,\n",
       " <a class=\"t-chapter js-chapter\" href=\"https://learning.oreilly.com/library/view/thoughtful-machine-learning/9781491924129/ch07.html#idm45501097368344\">Kernel Trick: Feature Transformation</a>,\n",
       " <a class=\"t-chapter js-chapter\" href=\"https://learning.oreilly.com/library/view/thoughtful-machine-learning/9781491924129/ch07.html#idm45501097367720\">Optimizing with Slack</a>,\n",
       " <a class=\"t-chapter js-chapter\" href=\"https://learning.oreilly.com/library/view/thoughtful-machine-learning/9781491924129/ch07.html#idm45501097392712\">Sentiment Analyzer</a>,\n",
       " <a class=\"t-chapter js-chapter\" href=\"https://learning.oreilly.com/library/view/thoughtful-machine-learning/9781491924129/ch07.html#idm45501097324040\">Setup Notes</a>,\n",
       " <a class=\"t-chapter js-chapter\" href=\"https://learning.oreilly.com/library/view/thoughtful-machine-learning/9781491924129/ch07.html#idm45501097319112\">Coding and Testing Design</a>,\n",
       " <a class=\"t-chapter js-chapter\" href=\"https://learning.oreilly.com/library/view/thoughtful-machine-learning/9781491924129/ch07.html#idm45501097303048\">SVM Testing Strategies</a>,\n",
       " <a class=\"t-chapter js-chapter\" href=\"https://learning.oreilly.com/library/view/thoughtful-machine-learning/9781491924129/ch07.html#idm45501097296296\">Corpus Class</a>,\n",
       " <a class=\"t-chapter js-chapter\" href=\"https://learning.oreilly.com/library/view/thoughtful-machine-learning/9781491924129/ch07.html#idm45501097295672\">CorpusSet Class</a>,\n",
       " <a class=\"t-chapter js-chapter\" href=\"https://learning.oreilly.com/library/view/thoughtful-machine-learning/9781491924129/ch07.html#idm45501096232856\">Model Validation and the Sentiment Classifier</a>,\n",
       " <a class=\"t-chapter js-chapter\" href=\"https://learning.oreilly.com/library/view/thoughtful-machine-learning/9781491924129/ch07.html#idm45501096232264\">Aggregating Sentiment</a>,\n",
       " <a class=\"t-chapter js-chapter\" href=\"https://learning.oreilly.com/library/view/thoughtful-machine-learning/9781491924129/ch07.html#idm45501094760200\">Exponentially Weighted Moving Average</a>,\n",
       " <a class=\"t-chapter js-chapter\" href=\"https://learning.oreilly.com/library/view/thoughtful-machine-learning/9781491924129/ch07.html#idm45501094759576\">Mapping Sentiment to Bottom Line</a>,\n",
       " <a class=\"t-chapter js-chapter\" href=\"https://learning.oreilly.com/library/view/thoughtful-machine-learning/9781491924129/ch07.html#idm45501094683928\">Conclusion</a>,\n",
       " <a class=\"t-chapter js-chapter\" href=\"https://learning.oreilly.com/library/view/thoughtful-machine-learning/9781491924129/ch08.html#idm45501097435272\">8. Neural Networks</a>,\n",
       " <a class=\"t-chapter js-chapter\" href=\"https://learning.oreilly.com/library/view/thoughtful-machine-learning/9781491924129/ch08.html#idm45501094670040\">What Is a Neural Network?</a>,\n",
       " <a class=\"t-chapter js-chapter\" href=\"https://learning.oreilly.com/library/view/thoughtful-machine-learning/9781491924129/ch08.html#idm45501094663704\">History of Neural Nets</a>,\n",
       " <a class=\"t-chapter js-chapter\" href=\"https://learning.oreilly.com/library/view/thoughtful-machine-learning/9781491924129/ch08.html#idm45501094654120\">Boolean Logic</a>,\n",
       " <a class=\"t-chapter js-chapter\" href=\"https://learning.oreilly.com/library/view/thoughtful-machine-learning/9781491924129/ch08.html#idm45501094637000\">Perceptrons</a>,\n",
       " <a class=\"t-chapter js-chapter\" href=\"https://learning.oreilly.com/library/view/thoughtful-machine-learning/9781491924129/ch08.html#idm45501094619224\">How to Construct Feed-Forward Neural Nets</a>,\n",
       " <a class=\"t-chapter js-chapter\" href=\"https://learning.oreilly.com/library/view/thoughtful-machine-learning/9781491924129/ch08.html#idm45501094601272\">Input Layer</a>,\n",
       " <a class=\"t-chapter js-chapter\" href=\"https://learning.oreilly.com/library/view/thoughtful-machine-learning/9781491924129/ch08.html#idm45501094600648\">Hidden Layers</a>,\n",
       " <a class=\"t-chapter js-chapter\" href=\"https://learning.oreilly.com/library/view/thoughtful-machine-learning/9781491924129/ch08.html#idm45501094416072\">Neurons</a>,\n",
       " <a class=\"t-chapter js-chapter\" href=\"https://learning.oreilly.com/library/view/thoughtful-machine-learning/9781491924129/ch08.html#idm45501094404296\">Activation Functions</a>,\n",
       " <a class=\"t-chapter js-chapter\" href=\"https://learning.oreilly.com/library/view/thoughtful-machine-learning/9781491924129/ch08.html#idm45501094295512\">Output Layer</a>,\n",
       " <a class=\"t-chapter js-chapter\" href=\"https://learning.oreilly.com/library/view/thoughtful-machine-learning/9781491924129/ch08.html#idm45501094289544\">Training Algorithms</a>,\n",
       " <a class=\"t-chapter js-chapter\" href=\"https://learning.oreilly.com/library/view/thoughtful-machine-learning/9781491924129/ch08.html#idm45501094269752\">The Delta Rule</a>,\n",
       " <a class=\"t-chapter js-chapter\" href=\"https://learning.oreilly.com/library/view/thoughtful-machine-learning/9781491924129/ch08.html#idm45501094236392\">Back Propagation</a>,\n",
       " <a class=\"t-chapter js-chapter\" href=\"https://learning.oreilly.com/library/view/thoughtful-machine-learning/9781491924129/ch08.html#idm45501094188344\">QuickProp</a>,\n",
       " <a class=\"t-chapter js-chapter\" href=\"https://learning.oreilly.com/library/view/thoughtful-machine-learning/9781491924129/ch08.html#idm45501094166744\">RProp</a>,\n",
       " <a class=\"t-chapter js-chapter\" href=\"https://learning.oreilly.com/library/view/thoughtful-machine-learning/9781491924129/ch08.html#idm45501094613064\">Building Neural Networks</a>,\n",
       " <a class=\"t-chapter js-chapter\" href=\"https://learning.oreilly.com/library/view/thoughtful-machine-learning/9781491924129/ch08.html#idm45501093906840\">How Many Hidden Layers?</a>,\n",
       " <a class=\"t-chapter js-chapter\" href=\"https://learning.oreilly.com/library/view/thoughtful-machine-learning/9781491924129/ch08.html#idm45501093898808\">How Many Neurons for Each Layer?</a>,\n",
       " <a class=\"t-chapter js-chapter\" href=\"https://learning.oreilly.com/library/view/thoughtful-machine-learning/9781491924129/ch08.html#idm45501093889288\">Tolerance for Error and Max Epochs</a>,\n",
       " <a class=\"t-chapter js-chapter\" href=\"https://learning.oreilly.com/library/view/thoughtful-machine-learning/9781491924129/ch08.html#idm45501093882232\">Using a Neural Network to Classify a Language</a>,\n",
       " <a class=\"t-chapter js-chapter\" href=\"https://learning.oreilly.com/library/view/thoughtful-machine-learning/9781491924129/ch08.html#idm45501093810088\">Setup Notes</a>,\n",
       " <a class=\"t-chapter js-chapter\" href=\"https://learning.oreilly.com/library/view/thoughtful-machine-learning/9781491924129/ch08.html#idm45501093807160\">Coding and Testing Design</a>,\n",
       " <a class=\"t-chapter js-chapter\" href=\"https://learning.oreilly.com/library/view/thoughtful-machine-learning/9781491924129/ch08.html#idm45501093797752\">The Data</a>,\n",
       " <a class=\"t-chapter js-chapter\" href=\"https://learning.oreilly.com/library/view/thoughtful-machine-learning/9781491924129/ch08.html#idm45501093794472\">Writing the Seam Test for Language</a>,\n",
       " <a class=\"t-chapter js-chapter\" href=\"https://learning.oreilly.com/library/view/thoughtful-machine-learning/9781491924129/ch08.html#idm45501093793880\">Cross-Validating Our Way to a Network Class</a>,\n",
       " <a class=\"t-chapter js-chapter\" href=\"https://learning.oreilly.com/library/view/thoughtful-machine-learning/9781491924129/ch08.html#idm45501092961688\">Tuning the Neural Network</a>,\n",
       " <a class=\"t-chapter js-chapter\" href=\"https://learning.oreilly.com/library/view/thoughtful-machine-learning/9781491924129/ch08.html#idm45501092071144\">Precision and Recall for Neural Networks</a>,\n",
       " <a class=\"t-chapter js-chapter\" href=\"https://learning.oreilly.com/library/view/thoughtful-machine-learning/9781491924129/ch08.html#idm45501092064184\">Wrap-Up of Example</a>,\n",
       " <a class=\"t-chapter js-chapter\" href=\"https://learning.oreilly.com/library/view/thoughtful-machine-learning/9781491924129/ch08.html#idm45501092060984\">Conclusion</a>,\n",
       " <a class=\"t-chapter js-chapter\" href=\"https://learning.oreilly.com/library/view/thoughtful-machine-learning/9781491924129/ch09.html#clustering\">9. Clustering</a>,\n",
       " <a class=\"t-chapter js-chapter\" href=\"https://learning.oreilly.com/library/view/thoughtful-machine-learning/9781491924129/ch09.html#idm45501092047896\">Studying Data Without Any Bias</a>,\n",
       " <a class=\"t-chapter js-chapter\" href=\"https://learning.oreilly.com/library/view/thoughtful-machine-learning/9781491924129/ch09.html#idm45501092040504\">User Cohorts</a>,\n",
       " <a class=\"t-chapter js-chapter\" href=\"https://learning.oreilly.com/library/view/thoughtful-machine-learning/9781491924129/ch09.html#idm45501092039880\">Testing Cluster Mappings</a>,\n",
       " <a class=\"t-chapter js-chapter\" href=\"https://learning.oreilly.com/library/view/thoughtful-machine-learning/9781491924129/ch09.html#idm45501091872248\">Fitness of a Cluster</a>,\n",
       " <a class=\"t-chapter js-chapter\" href=\"https://learning.oreilly.com/library/view/thoughtful-machine-learning/9781491924129/ch09.html#idm45501091864232\">Silhouette Coefficient</a>,\n",
       " <a class=\"t-chapter js-chapter\" href=\"https://learning.oreilly.com/library/view/thoughtful-machine-learning/9781491924129/ch09.html#idm45501091846776\">Comparing Results to Ground Truth</a>,\n",
       " <a class=\"t-chapter js-chapter\" href=\"https://learning.oreilly.com/library/view/thoughtful-machine-learning/9781491924129/ch09.html#idm45501091836120\">K-Means Clustering</a>,\n",
       " <a class=\"t-chapter js-chapter\" href=\"https://learning.oreilly.com/library/view/thoughtful-machine-learning/9781491924129/ch09.html#idm45501091831432\">The K-Means Algorithm</a>,\n",
       " <a class=\"t-chapter js-chapter\" href=\"https://learning.oreilly.com/library/view/thoughtful-machine-learning/9781491924129/ch09.html#idm45501091758056\">Downside of K-Means Clustering</a>,\n",
       " <a class=\"t-chapter js-chapter\" href=\"https://learning.oreilly.com/library/view/thoughtful-machine-learning/9781491924129/ch09.html#idm45501091752840\">EM Clustering</a>,\n",
       " <a class=\"t-chapter js-chapter\" href=\"https://learning.oreilly.com/library/view/thoughtful-machine-learning/9781491924129/ch09.html#idm45501091742424\">Algorithm</a>,\n",
       " <a class=\"t-chapter js-chapter\" href=\"https://learning.oreilly.com/library/view/thoughtful-machine-learning/9781491924129/ch09.html#idm45501091702152\">The Impossibility Theorem</a>,\n",
       " <a class=\"t-chapter js-chapter\" href=\"https://learning.oreilly.com/library/view/thoughtful-machine-learning/9781491924129/ch09.html#example_categorizing_music\">Example: Categorizing Music</a>,\n",
       " <a class=\"t-chapter js-chapter\" href=\"https://learning.oreilly.com/library/view/thoughtful-machine-learning/9781491924129/ch09.html#idm45501091678840\">Setup Notes</a>,\n",
       " <a class=\"t-chapter js-chapter\" href=\"https://learning.oreilly.com/library/view/thoughtful-machine-learning/9781491924129/ch09.html#idm45501091676024\">Gathering the Data</a>,\n",
       " <a class=\"t-chapter js-chapter\" href=\"https://learning.oreilly.com/library/view/thoughtful-machine-learning/9781491924129/ch09.html#idm45501091668888\">Coding Design</a>,\n",
       " <a class=\"t-chapter js-chapter\" href=\"https://learning.oreilly.com/library/view/thoughtful-machine-learning/9781491924129/ch09.html#idm45501091664104\">Analyzing the Data with K-Means</a>,\n",
       " <a class=\"t-chapter js-chapter\" href=\"https://learning.oreilly.com/library/view/thoughtful-machine-learning/9781491924129/ch09.html#idm45501091505752\">EM Clustering Our Data</a>,\n",
       " <a class=\"t-chapter js-chapter\" href=\"https://learning.oreilly.com/library/view/thoughtful-machine-learning/9781491924129/ch09.html#idm45501090312904\">The Results from the EM Jazz Clustering</a>,\n",
       " <a class=\"t-chapter js-chapter\" href=\"https://learning.oreilly.com/library/view/thoughtful-machine-learning/9781491924129/ch09.html#idm45501091684200\">Conclusion</a>,\n",
       " <a class=\"t-chapter js-chapter\" href=\"https://learning.oreilly.com/library/view/thoughtful-machine-learning/9781491924129/ch10.html#improving_models_and_data_extraction\">10. Improving Models and Data Extraction</a>,\n",
       " <a class=\"t-chapter js-chapter\" href=\"https://learning.oreilly.com/library/view/thoughtful-machine-learning/9781491924129/ch10.html#idm45501089920680\">Debate Club</a>,\n",
       " <a class=\"t-chapter js-chapter\" href=\"https://learning.oreilly.com/library/view/thoughtful-machine-learning/9781491924129/ch10.html#idm45501089912392\">Picking Better Data</a>,\n",
       " <a class=\"t-chapter js-chapter\" href=\"https://learning.oreilly.com/library/view/thoughtful-machine-learning/9781491924129/ch10.html#idm45501089905864\">Feature Selection</a>,\n",
       " <a class=\"t-chapter js-chapter\" href=\"https://learning.oreilly.com/library/view/thoughtful-machine-learning/9781491924129/ch10.html#idm45501089905240\">Exhaustive Search</a>,\n",
       " <a class=\"t-chapter js-chapter\" href=\"https://learning.oreilly.com/library/view/thoughtful-machine-learning/9781491924129/ch10.html#idm45501089824472\">Random Feature Selection</a>,\n",
       " <a class=\"t-chapter js-chapter\" href=\"https://learning.oreilly.com/library/view/thoughtful-machine-learning/9781491924129/ch10.html#idm45501089820360\">A Better Feature Selection Algorithm</a>,\n",
       " <a class=\"t-chapter js-chapter\" href=\"https://learning.oreilly.com/library/view/thoughtful-machine-learning/9781491924129/ch10.html#idm45501089678936\">Minimum Redundancy Maximum Relevance Feature Selection</a>,\n",
       " <a class=\"t-chapter js-chapter\" href=\"https://learning.oreilly.com/library/view/thoughtful-machine-learning/9781491924129/ch10.html#idm45501089364600\">Feature Transformation and Matrix Factorization</a>,\n",
       " <a class=\"t-chapter js-chapter\" href=\"https://learning.oreilly.com/library/view/thoughtful-machine-learning/9781491924129/ch10.html#idm45501089360328\">Principal Component Analysis</a>,\n",
       " <a class=\"t-chapter js-chapter\" href=\"https://learning.oreilly.com/library/view/thoughtful-machine-learning/9781491924129/ch10.html#idm45501089345224\">Independent Component Analysis</a>,\n",
       " <a class=\"t-chapter js-chapter\" href=\"https://learning.oreilly.com/library/view/thoughtful-machine-learning/9781491924129/ch10.html#idm45501089344600\">Ensemble Learning</a>,\n",
       " <a class=\"t-chapter js-chapter\" href=\"https://learning.oreilly.com/library/view/thoughtful-machine-learning/9781491924129/ch10.html#idm45501089319832\">Bagging</a>,\n",
       " <a class=\"t-chapter js-chapter\" href=\"https://learning.oreilly.com/library/view/thoughtful-machine-learning/9781491924129/ch10.html#idm45501089313560\">Boosting</a>,\n",
       " <a class=\"t-chapter js-chapter\" href=\"https://learning.oreilly.com/library/view/thoughtful-machine-learning/9781491924129/ch10.html#idm45501089312936\">Conclusion</a>,\n",
       " <a class=\"t-chapter js-chapter\" href=\"https://learning.oreilly.com/library/view/thoughtful-machine-learning/9781491924129/ch11.html#idm45501089929832\">11. Putting It Together: Conclusion</a>,\n",
       " <a class=\"t-chapter js-chapter\" href=\"https://learning.oreilly.com/library/view/thoughtful-machine-learning/9781491924129/ch11.html#idm45501089207848\">Machine Learning Algorithms Revisited</a>,\n",
       " <a class=\"t-chapter js-chapter\" href=\"https://learning.oreilly.com/library/view/thoughtful-machine-learning/9781491924129/ch11.html#idm45501089150264\">How to Use This Information to Solve Problems</a>,\n",
       " <a class=\"t-chapter js-chapter\" href=\"https://learning.oreilly.com/library/view/thoughtful-machine-learning/9781491924129/ch11.html#idm45501089139800\">What’s Next for You?</a>,\n",
       " <a class=\"t-chapter js-chapter\" href=\"https://learning.oreilly.com/library/view/thoughtful-machine-learning/9781491924129/ix01.html#idm45501089125784\">Index</a>]"
      ]
     },
     "execution_count": 5,
     "metadata": {},
     "output_type": "execute_result"
    }
   ],
   "source": [
    "links = data.find_all(\"a\", class_='t-chapter')\n",
    "links"
   ]
  },
  {
   "cell_type": "code",
   "execution_count": 6,
   "metadata": {},
   "outputs": [
    {
     "name": "stdout",
     "output_type": "stream",
     "text": [
      "6 1. Probably Approximately Correct Software\n",
      "20 2. A Quick Introduction to Machine Learning\n",
      "28 3. K-Nearest Neighbors\n",
      "51 4. Naive Bayesian Classification\n",
      "69 5. Decision Trees and Random Forests\n",
      "80 6. Hidden Markov Models\n",
      "99 7. Support Vector Machines\n",
      "118 8. Neural Networks\n",
      "148 9. Clustering\n",
      "169 10. Improving Models and Data Extraction\n",
      "184 11. Putting It Together: Conclusion\n",
      "188 Index\n"
     ]
    }
   ],
   "source": [
    "# find the regex experession to grab the page links\n",
    "# there is a link for each section on each page - which creates repetition of materials. grabbing only the first link gets the entire page exactly once.\n",
    "\n",
    "regex = \"^[\\d].|^Index\"\n",
    "\n",
    "for num in range(len(links)):\n",
    "    x = re.search(regex,links[num].string)\n",
    "    if x:\n",
    "        print(num,links[num].string)\n"
   ]
  },
  {
   "cell_type": "code",
   "execution_count": 7,
   "metadata": {},
   "outputs": [
    {
     "data": {
      "text/plain": [
       "['https://learning.oreilly.com/library/view/thoughtful-machine-learning/9781491924129/ch01.html#chapter_one',\n",
       " 'https://learning.oreilly.com/library/view/thoughtful-machine-learning/9781491924129/ch02.html#a_quick_introduction_to_machine_learning',\n",
       " 'https://learning.oreilly.com/library/view/thoughtful-machine-learning/9781491924129/ch03.html#k_nearest_neighbors',\n",
       " 'https://learning.oreilly.com/library/view/thoughtful-machine-learning/9781491924129/ch04.html#naive_bayesian_classification',\n",
       " 'https://learning.oreilly.com/library/view/thoughtful-machine-learning/9781491924129/ch05.html#decision_trees_and_random_forests',\n",
       " 'https://learning.oreilly.com/library/view/thoughtful-machine-learning/9781491924129/ch06.html#idm45501083253032',\n",
       " 'https://learning.oreilly.com/library/view/thoughtful-machine-learning/9781491924129/ch07.html#support_vector_machines',\n",
       " 'https://learning.oreilly.com/library/view/thoughtful-machine-learning/9781491924129/ch08.html#idm45501097435272',\n",
       " 'https://learning.oreilly.com/library/view/thoughtful-machine-learning/9781491924129/ch09.html#clustering',\n",
       " 'https://learning.oreilly.com/library/view/thoughtful-machine-learning/9781491924129/ch10.html#improving_models_and_data_extraction',\n",
       " 'https://learning.oreilly.com/library/view/thoughtful-machine-learning/9781491924129/ch11.html#idm45501089929832',\n",
       " 'https://learning.oreilly.com/library/view/thoughtful-machine-learning/9781491924129/ix01.html#idm45501089125784']"
      ]
     },
     "execution_count": 7,
     "metadata": {},
     "output_type": "execute_result"
    }
   ],
   "source": [
    "endpoints = []\n",
    "for link in links:\n",
    "    if re.search(regex,link.string): \n",
    "        endpoints.append(link['href'])\n",
    "\n",
    "# endpoints = endpoints[11:]\n",
    "endpoints"
   ]
  },
  {
   "cell_type": "code",
   "execution_count": 9,
   "metadata": {},
   "outputs": [],
   "source": [
    "def spider(url):\n",
    "    \"\"\"Perform web scraping for url\"\"\"\n",
    "    \n",
    "    headers = {'user-agent': 'access book text (wat6sv@virginia.edu)'}\n",
    "    r = requests.get(url, headers=headers)\n",
    "\n",
    "    if r.status_code == 200:\n",
    "        site_html = BeautifulSoup(r.text, \"html.parser\")\n",
    "        text = site_html.get_text()\n",
    "\n",
    "        f=open(\"./RAG-Docs/processed/ThoughtfulML-Kirk.txt\", \"a\")\n",
    "        f.write(text)\n",
    "        f.close()"
   ]
  },
  {
   "cell_type": "code",
   "execution_count": 10,
   "metadata": {},
   "outputs": [],
   "source": [
    "for endpoint in endpoints:\n",
    "    spider(endpoint)"
   ]
  },
  {
   "cell_type": "markdown",
   "metadata": {},
   "source": []
  },
  {
   "cell_type": "code",
   "execution_count": null,
   "metadata": {},
   "outputs": [],
   "source": []
  }
 ],
 "metadata": {
  "kernelspec": {
   "display_name": "base",
   "language": "python",
   "name": "python3"
  },
  "language_info": {
   "codemirror_mode": {
    "name": "ipython",
    "version": 3
   },
   "file_extension": ".py",
   "mimetype": "text/x-python",
   "name": "python",
   "nbconvert_exporter": "python",
   "pygments_lexer": "ipython3",
   "version": "3.11.4"
  }
 },
 "nbformat": 4,
 "nbformat_minor": 2
}
