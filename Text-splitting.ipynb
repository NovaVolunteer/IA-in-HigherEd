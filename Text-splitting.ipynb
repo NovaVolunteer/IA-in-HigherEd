{
 "cells": [
  {
   "cell_type": "markdown",
   "metadata": {},
   "source": [
    "Playing with chunking/embedding code from https://huggingface.co/learn/cookbook/advanced_rag on PythonDSHandbook.txt, Week7-lecture.txt, Week9-lecture.txt"
   ]
  },
  {
   "cell_type": "code",
   "execution_count": 1,
   "metadata": {},
   "outputs": [],
   "source": [
    "# import packages\n",
    "\n",
    "from tqdm.notebook import tqdm #progress bar\n",
    "import pandas as pd\n",
    "from typing import Optional, List, Tuple #type hinting\n",
    "# from datasets import Dataset #to load in premade example datasets\n",
    "import matplotlib.pyplot as plt\n",
    "\n",
    "pd.set_option(\"display.max_colwidth\", None)  # This will be helpful when visualizing retriever outputs\n",
    "\n",
    "from langchain_text_splitters import RecursiveCharacterTextSplitter #splitter\n",
    "\n",
    "#load in Documents\n",
    "from langchain.docstore.document import Document as LangchainDocument\n",
    "# from langchain.text_splitter import RecursiveCharacterTextSplitter #alt import\n",
    "from langchain_community.document_loaders import DirectoryLoader\n",
    "\n",
    "from transformers import AutoTokenizer\n",
    "\n",
    "# embedding and searching\n",
    "from langchain.vectorstores import FAISS\n",
    "from langchain_community.embeddings import HuggingFaceEmbeddings\n",
    "from langchain_community.vectorstores.utils import DistanceStrategy\n",
    "\n",
    "#plotting\n",
    "import pacmap\n",
    "import numpy as np\n",
    "import plotly.express as px"
   ]
  },
  {
   "cell_type": "code",
   "execution_count": 2,
   "metadata": {},
   "outputs": [],
   "source": [
    "MARKDOWN_SEPARATORS = [\n",
    "    \"\\n#{1,6} \",\n",
    "    \"```\\n\",\n",
    "    \"\\n\\\\*\\\\*\\\\*+\\n\",\n",
    "    \"\\n---+\\n\",\n",
    "    \"\\n___+\\n\",\n",
    "    \"\\n\\n\",\n",
    "    \"\\n\",\n",
    "    \" \",\n",
    "    \"\",\n",
    "]"
   ]
  },
  {
   "cell_type": "code",
   "execution_count": 3,
   "metadata": {},
   "outputs": [
    {
     "name": "stderr",
     "output_type": "stream",
     "text": [
      "100%|██████████| 3/3 [00:17<00:00,  5.85s/it]\n"
     ]
    },
    {
     "data": {
      "application/vnd.jupyter.widget-view+json": {
       "model_id": "3db176ec5d2e491f800f981ffe114106",
       "version_major": 2,
       "version_minor": 0
      },
      "text/plain": [
       "  0%|          | 0/3 [00:00<?, ?it/s]"
      ]
     },
     "metadata": {},
     "output_type": "display_data"
    }
   ],
   "source": [
    "## load in docs (must be in IA-in-HigherEd dir)\n",
    "loader = DirectoryLoader('./RAG-docs/processed/', glob=\"**/*.txt\", show_progress = True) #all .txt files in processed folder\n",
    "docs = loader.load()\n",
    "docs\n",
    "\n",
    "# save as LC docs\n",
    "RAW_KNOWLEDGE_BASE = [\n",
    "    LangchainDocument(page_content=doc.page_content, metadata={\"source\": doc.metadata}) for doc in tqdm(docs)]"
   ]
  },
  {
   "cell_type": "code",
   "execution_count": 5,
   "metadata": {},
   "outputs": [
    {
     "data": {
      "application/vnd.jupyter.widget-view+json": {
       "model_id": "dc5c57c8eb204810a16065f8101a081d",
       "version_major": 2,
       "version_minor": 0
      },
      "text/plain": [
       "  0%|          | 0/694 [00:00<?, ?it/s]"
      ]
     },
     "metadata": {},
     "output_type": "display_data"
    },
    {
     "data": {
      "image/png": "[encoded data removed]",
      "text/plain": [
       "<Figure size 640x480 with 1 Axes>"
      ]
     },
     "metadata": {},
     "output_type": "display_data"
    }
   ],
   "source": [
    "# split (chunk) docs with chunk size <512\n",
    "\n",
    "EMBEDDING_MODEL_NAME = \"thenlper/gte-small\"\n",
    "\n",
    "\n",
    "def split_documents(\n",
    "    chunk_size: int,\n",
    "    knowledge_base: List[LangchainDocument],\n",
    "    tokenizer_name: Optional[str] = EMBEDDING_MODEL_NAME,\n",
    ") -> List[LangchainDocument]:\n",
    "    \"\"\"\n",
    "    Split documents into chunks of maximum size `chunk_size` tokens and return a list of documents.\n",
    "    \"\"\"\n",
    "    text_splitter = RecursiveCharacterTextSplitter.from_huggingface_tokenizer(\n",
    "        AutoTokenizer.from_pretrained(tokenizer_name),\n",
    "        chunk_size=chunk_size,\n",
    "        chunk_overlap=int(chunk_size / 10),\n",
    "        add_start_index=True,\n",
    "        strip_whitespace=True,\n",
    "        separators=MARKDOWN_SEPARATORS,\n",
    "    )\n",
    "\n",
    "    docs_processed = []\n",
    "    for doc in knowledge_base:\n",
    "        docs_processed += text_splitter.split_documents([doc])\n",
    "\n",
    "    # Remove duplicates\n",
    "    unique_texts = {}\n",
    "    docs_processed_unique = []\n",
    "    for doc in docs_processed:\n",
    "        if doc.page_content not in unique_texts:\n",
    "            unique_texts[doc.page_content] = True\n",
    "            docs_processed_unique.append(doc)\n",
    "\n",
    "    return docs_processed_unique\n",
    "\n",
    "\n",
    "docs_processed = split_documents(\n",
    "    512,  # We choose a chunk size adapted to our model\n",
    "    RAW_KNOWLEDGE_BASE,\n",
    "    tokenizer_name=EMBEDDING_MODEL_NAME,\n",
    ")\n",
    "\n",
    "# Let's visualize the chunk sizes we would have in tokens from a common model\n",
    "\n",
    "tokenizer = AutoTokenizer.from_pretrained(EMBEDDING_MODEL_NAME)\n",
    "lengths = [len(tokenizer.encode(doc.page_content)) for doc in tqdm(docs_processed)]\n",
    "fig = pd.Series(lengths).hist()\n",
    "plt.title(\"Distribution of document lengths in the knowledge base (in count of tokens)\")\n",
    "plt.show()"
   ]
  },
  {
   "cell_type": "code",
   "execution_count": 6,
   "metadata": {},
   "outputs": [
    {
     "name": "stderr",
     "output_type": "stream",
     "text": [
      "c:\\Users\\wat6sv\\AppData\\Local\\miniconda3\\Lib\\site-packages\\huggingface_hub\\file_download.py:1132: FutureWarning: `resume_download` is deprecated and will be removed in version 1.0.0. Downloads always resume when possible. If you want to force a new download, use `force_download=True`.\n",
      "  warnings.warn(\n"
     ]
    }
   ],
   "source": [
    "# create embeddings for docs \n",
    "## Takes a while to run loacally (~6 min w/ PythonDS, Week7, Week9)\n",
    "\n",
    "\n",
    "embedding_model = HuggingFaceEmbeddings(\n",
    "    model_name=EMBEDDING_MODEL_NAME,\n",
    "    multi_process=True,\n",
    "    # model_kwargs={\"device\": \"cuda\"},\n",
    "    encode_kwargs={\"normalize_embeddings\": True},  # Set `True` for cosine similarity\n",
    ")\n",
    "\n",
    "#edit distance strategy for use case\n",
    "KNOWLEDGE_VECTOR_DATABASE = FAISS.from_documents(\n",
    "    docs_processed, embedding_model, distance_strategy=DistanceStrategy.COSINE\n",
    ")"
   ]
  },
  {
   "cell_type": "code",
   "execution_count": 7,
   "metadata": {},
   "outputs": [],
   "source": [
    "# Embed a user query in the same space\n",
    "user_query = \"What is a decision tree?\"\n",
    "query_vector = embedding_model.embed_query(user_query)"
   ]
  },
  {
   "cell_type": "code",
   "execution_count": 8,
   "metadata": {},
   "outputs": [
    {
     "name": "stderr",
     "output_type": "stream",
     "text": [
      "c:\\Users\\wat6sv\\AppData\\Local\\miniconda3\\Lib\\site-packages\\pacmap\\pacmap.py:822: UserWarning: Warning: random state is set to 1\n",
      "  warnings.warn(f'Warning: random state is set to {_RANDOM_STATE}')\n"
     ]
    }
   ],
   "source": [
    "# create pca projection of embeddings for visualization\n",
    "\n",
    "embedding_projector = pacmap.PaCMAP(n_components=2, n_neighbors=None, MN_ratio=0.5, FP_ratio=2.0, random_state=1)\n",
    "\n",
    "embeddings_2d = [\n",
    "    list(KNOWLEDGE_VECTOR_DATABASE.index.reconstruct_n(idx, 1)[0]) for idx in range(len(docs_processed))\n",
    "] + [query_vector]\n",
    "\n",
    "# Fit the data (the index of transformed data corresponds to the index of the original data)\n",
    "documents_projected = embedding_projector.fit_transform(np.array(embeddings_2d), init=\"pca\")"
   ]
  },
  {
   "cell_type": "code",
   "execution_count": 9,
   "metadata": {},
   "outputs": [
    {
     "data": {
      "application/vnd.plotly.v1+json": {
       "config": {
        "plotlyServerURL": "https://plot.ly"
       },
       "data": [
        {
         "customdata": [
          [
           "Archives | Python Data Science Handbook\n\nPython Data Science Handbook\n\nAbout\n\nArchive\n\nArchives and ..."
          ],
          [
           "5. Machine Learning¶ What Is Machine Learning? Introducing Scikit-Learn Hyperparameters and Model Va..."
          ],
          [
           "data\n\nscience\n\nvenn\n\ndiagram). Used by permission.)\n\nWhile some of the intersection labels are a bit..."
          ],
          [
           "Who Is This Book For?¶In my teaching both at the University of Washington and at various tech-focuse..."
          ],
          [
           "Python 2 vs Python 3¶This book uses the syntax of Python 3, which contains language enhancements tha..."
          ],
          [
           "Using Code Examples¶Supplemental material (code examples, figures, etc.) is available for download a..."
          ],
          [
           "Anaconda includes both Python and conda, and additionally bundles a suite of other pre-installed pac..."
          ],
          [
           "3. Data Manipulation with Pandas¶ Introducing Pandas Objects Data Indexing and Selection Operating o..."
          ],
          [
           "IPython: Beyond Normal Python\n\n< Preface | Contents | Help and Documentation in IPython >\n\nThere are..."
          ],
          [
           "Shell or Notebook?¶There are two primary means of using IPython that we'll discuss in this chapter: ..."
          ],
          [
           "Launching the Jupyter Notebook¶The Jupyter notebook is a browser-based graphical interface to the IP..."
          ],
          [
           "Table of Contents¶Preface¶1. IPython: Beyond Normal Python¶ Help and Documentation in IPython Keyboa..."
          ],
          [
           "Python Data Science Handbook\n\nAbout\n\nArchive\n\nThis is an excerpt from the Python Data Science Handbo..."
          ],
          [
           "Here we'll discuss IPython's tools to quickly access this information, namely the ? character to exp..."
          ],
          [
           "Importantly, this will even work for functions or other objects you create yourself! Here we'll defi..."
          ],
          [
           "Return the number of items of a sequence or mapping.\n\nUsing ? and/or ? ? gives a powerful and quick ..."
          ],
          [
           "For brevity, we've only shown the first couple lines of the output. Most of these are Python's speci..."
          ],
          [
           "I find this type of flexible wildcard search can be very useful for finding a particular command whe..."
          ],
          [
           "Keyboard Shortcuts in the IPython Shell\n\n< Help and Documentation in IPython | Contents | IPython Ma..."
          ],
          [
           "Ctrl-b or the left arrow key Move cursor back one character\n\nCtrl-f or the right arrow key Move curs..."
          ],
          [
           "Ctrl-n (or the down arrow key) Access next command in history\n\nCtrl\n\nr\n\nReverse\n\nsearch through comm..."
          ],
          [
           "Keystroke\n\nAction\n\nCtrl\n\nl\n\nClear terminal screen\n\nCtrl\n\nc\n\nInterrupt current Python command\n\nCtrl\n\n..."
          ],
          [
           "Pasting Code Blocks: %paste and %cpaste¶When working in the IPython interpreter, one common gotcha i..."
          ],
          [
           "These magic commands, like others we'll see, make available functionality that would be difficult or..."
          ],
          [
           "The benefit of %timeit is that for short commands it will automatically perform multiple runs in ord..."
          ],
          [
           "Input and Output History\n\n< IPython Magic Commands | Contents | IPython and Shell Commands >\n\nPrevio..."
          ],
          [
           "Out[5]: {2: 0.9092974268256817, 3:\n\n0.4161468365471424}\n\nThe In object is a list, which keeps track ..."
          ],
          [
           "In [11]: print(___)\n\n0.9092974268256817\n\nIPython stops there: more than three underscores starts to ..."
          ],
          [
           "< IPython Magic Commands | Contents | IPython and Shell Commands >\n\nIPython and Shell Commands | Pyt..."
          ],
          [
           "Quick Introduction to the Shell¶A full intro to using the shell/terminal/command-line is well beyond..."
          ],
          [
           "osx:projects $ pwd\n\n/home/jake/projects\n\nosx:projects $ ls datasci_book   mpld3   myproject.txt\n\nosx..."
          ],
          [
           "['myproject.txt']\n\nIn [6]: directory = !pwd\n\nIn [7]: print(directory)\n\n['/Users/jakevdp/notebooks/tm..."
          ],
          [
           "In fact, by default you can even use this without the % sign: In [15]: cd myproject /home/jake/proje..."
          ],
          [
           "Controlling Exceptions: %xmode¶Most of the time when a Python script fails, it will raise an Excepti..."
          ],
          [
           "ZeroDivisionError: division by zero\n\nCalling func2 results in an error, and reading the printed trac..."
          ],
          [
           "In [5]:\n\n%xmode Verbose\n\nException reporting mode: Verbose\n\nIn [6]:\n\nfunc2(1)\n\n---------------------..."
          ],
          [
           "Debugging: When Reading Tracebacks Is Not Enough¶The standard Python tool for interactive debugging ..."
          ],
          [
           "ipdb> print(x)\n\n1\n\nipdb> up\n\n> <ipython\n\ninput\n\n6\n\nb2e110f6fc8f>(1)<module>()\n\n---\n\n> 1 func2(1)\n\nip..."
          ],
          [
           "ipdb> print(b)\n\n0\n\nipdb> quit\n\nFinally, if you have a script that you'd like to run from the beginni..."
          ],
          [
           "Profiling and Timing Code\n\n< Errors and Debugging | Contents | More IPython Resources >\n\nIn the proc..."
          ],
          [
           "In [2]:\n\n%%timeit\n\ntotal = 0\n\nfor i in range(1000):\n\nfor j in range(1000):\n\ntotal += i\n\n(\n\n1) *\n\nj\n\n..."
          ],
          [
           "sorting an already sorted list: CPU times: user 8.18 ms, sys: 10 µs, total: 8.19 ms Wall time: 8.24 ..."
          ],
          [
           "Now we can call %prun with a function call to see the profiled results:\n\nIn [8]:\n\n%prun sum_of_lists..."
          ],
          [
           "In [9]:\n\n%load_ext line_profiler\n\nNow the %lprun command will do a line-by-line profiling of any fun..."
          ],
          [
           "Profiling Memory Use: %memit and %mprun¶Another aspect of profiling is the amount of memory an opera..."
          ],
          [
           "In [15]:\n\nfrom mprun_demo import sum_of_lists\n\n%mprun\n\nf sum_of_lists sum_of_lists(1000000)\n\nThe res..."
          ],
          [
           "< Errors and Debugging | Contents | More IPython Resources >\n\nMore IPython Resources | Python Data S..."
          ],
          [
           "Books¶ Python for Data Analysis: Wes McKinney's book includes a chapter that covers using IPython as..."
          ],
          [
           "Introduction to NumPy\n\n< More IPython Resources | Contents | Understanding Data Types in Python >\n\nT..."
          ],
          [
           "In [1]:\n\nimport numpy\n\nnumpy.__version__\n\nOut[1]:\n\n'1.11.1'\n\nFor the pieces of the package discussed..."
          ],
          [
           "Table of Contents¶Preface¶1. IPython: Beyond Normal Python¶ Help and Documentation in IPython Keyboa..."
          ],
          [
           "Python Data Science Handbook\n\nAbout\n\nArchive\n\nThis is an excerpt from the Python Data Science Handbo..."
          ],
          [
           "This sort of flexibility is one piece that makes Python and other dynamically-typed languages conven..."
          ],
          [
           "This means that there is some overhead in storing an integer in Python as compared to an integer in ..."
          ],
          [
           "In [5]:\n\nL3 = [True, \"2\", 3.0, 4] [type(item) for item in L3]\n\nOut[5]:\n\n[bool, str, float, int]\n\nBut..."
          ],
          [
           "A\n\nOut[6]:\n\narray('i', [0, 1, 2, 3, 4, 5, 6, 7, 8, 9])\n\nHere 'i' is a type code indicating the conte..."
          ],
          [
           "Finally, unlike Python lists, NumPy arrays can explicitly be multi-dimensional; here's one way of in..."
          ],
          [
           "In [15]:\n\n# Create an array filled with a linear sequence # Starting at 0, ending at 20, stepping by..."
          ],
          [
           "# Create a 3x3 array of random integers in the interval [0, 10) np.random.randint(0, 10, (3, 3))\n\nOu..."
          ],
          [
           "int8\n\nByte (\n\n128 to 127)\n\nint16\n\nInteger (\n\n32768 to 32767)\n\nint32\n\nInteger (\n\n2147483648 to 214748..."
          ],
          [
           "The text is released under the CC-BY-NC-ND license, and code is released under the MIT license. If y..."
          ],
          [
           "Each array has attributes ndim (the number of dimensions), shape (the size of each dimension), and s..."
          ],
          [
           "In [6]:\n\nx1[0]\n\nOut[6]:\n\n5\n\nIn [7]:\n\nx1[4]\n\nOut[7]:\n\n7\n\nTo index from the end of the array, you can ..."
          ],
          [
           "In [15]:\n\nx1[0] = 3.14159  # this will be truncated! x1\n\nOut[15]:\n\narray([3, 0, 3, 3, 7, 9])\n\nArray ..."
          ],
          [
           "In [21]:\n\nx[1::2]  # every other element, starting at index 1\n\nOut[21]:\n\narray([1, 3, 5, 7, 9])\n\nA p..."
          ],
          [
           "In [27]:\n\nx2[::\n\n1, ::\n\n1]\n\nOut[27]:\n\narray([[ 7,  7,  6,  1], [ 8,  8,  6,  7], [ 4,  2,  5, 12]])\n..."
          ],
          [
           "Now if we modify this subarray, we'll see that the original array is changed! Observe:\n\nIn [33]:\n\nx2..."
          ],
          [
           "In [38]:\n\ngrid = np.arange(1, 10).reshape((3, 3)) print(grid)\n\n[[1 2 3]\n\n[4 5 6]\n\n[7 8 9]]\n\nNote tha..."
          ],
          [
           "array([[1],\n\n[2],\n\n[3]])\n\nWe will see this type of transformation often throughout the remainder of ..."
          ],
          [
           "[4, 5, 6],\n\n[1, 2, 3],\n\n[4, 5, 6]])\n\nIn [47]:\n\n# concatenate along the second axis (zero-indexed) np..."
          ],
          [
           "[1 2 3] [99 99] [3 2 1]\n\nNotice that N split-points, leads to N + 1 subarrays. The related functions..."
          ],
          [
           "Computation on NumPy Arrays: Universal Functions\n\n< The Basics of NumPy Arrays | Contents | Aggregat..."
          ],
          [
           "In [1]:\n\nimport numpy as np\n\nnp.random.seed(0)\n\ndef compute_reciprocals(values): output = np.empty(l..."
          ],
          [
           "Introducing UFuncs¶For many types of operations, NumPy provides a convenient interface into just thi..."
          ],
          [
           "2 *\n\nx\n\nOut[6]:\n\narray([[  1,   2,   4], [  8,  16,  32], [ 64, 128, 256]])\n\nComputations using vect..."
          ],
          [
           "x     =  [ 0\n\n1\n\n2\n\n3] x\n\n** 2 =  [0 1 4 9] x % 2  =  [0 1 0 1]\n\nIn addition, these can be strung to..."
          ],
          [
           "% np.mod Modulus/remainder (e.g., 9 % 4 = 1)\n\nAdditionally there are Boolean/bitwise operators; we w..."
          ],
          [
           "theta = np.linspace(0, np.pi, 3)\n\nNow we can compute some trigonometric functions on these values:\n\n..."
          ],
          [
           "Exponents and logarithms¶Another common type of operation available in a NumPy ufunc are the exponen..."
          ],
          [
           "exp(x) - 1 = [ 0. 0.0010005   0.01005017  0.10517092] log(1 + x) = [ 0. 0.0009995   0.00995033  0.09..."
          ],
          [
           "In [23]:\n\n# Error function (integral of Gaussian) # its complement, and its inverse x = np.array([0,..."
          ],
          [
           "In [25]:\n\ny = np.zeros(10)\n\nnp.power(2, x, out=y[::2])\n\nprint(y)\n\n[  1. 0. 2. 0. 4. 0. 8. 0. 16. 0.]..."
          ],
          [
           "In [29]:\n\nnp.multiply.accumulate(x)\n\nOut[29]:\n\narray([  1,   2,   6,  24, 120])\n\nNote that for these..."
          ],
          [
           "Aggregations: Min, Max, and Everything In Between | Python Data Science Handbook\n\nPython Data Scienc..."
          ],
          [
           "In [4]:\n\nbig_array = np.random.rand(1000000)\n\n%timeit sum(big_array)\n\n%timeit np.sum(big_array)\n\n10 ..."
          ],
          [
           "In [8]:\n\nprint(big_array.min(), big_array.max(), big_array.sum())\n\n1.17171281366e\n\n06 0.999997678497..."
          ],
          [
           "In [12]:\n\nM.max(axis=1)\n\nOut[12]:\n\narray([ 0.8967576 ,  0.99196818,  0.6687194 ])\n\nThe way the axis ..."
          ],
          [
           "np.argmax np.nanargmax Find index of maximum value\n\nnp.median\n\nnp.nanmedian\n\nCompute median of eleme..."
          ],
          [
           "Now that we have this data array, we can compute a variety of summary statistics:\n\nIn [15]:\n\nprint(\"..."
          ],
          [
           "< Computation on NumPy Arrays: Universal Functions | Contents | Computation on Arrays: Broadcasting ..."
          ],
          [
           "In [3]:\n\na + 5\n\nOut[3]:\n\narray([5, 6, 7])\n\nWe can think of this as an operation that stretches or du..."
          ],
          [
           "Out[7]:\n\narray([[0, 1, 2],\n\n[1, 2, 3],\n\n[2, 3, 4]])\n\nJust as before we stretched or broadcasted one ..."
          ],
          [
           "M.shape\n\n> (2, 3)\n\na.shape\n\n> (1, 3)\n\nBy rule 2, we now see that the first dimension disagrees, so w..."
          ],
          [
           "[1, 2, 3],\n\n[2, 3, 4]])\n\nBroadcasting example 3¶Now let's take a look at an example in which the two..."
          ],
          [
           "ValueError: operands could not be broadcast together with shapes (3,2) (3,)\n\nNote the potential conf..."
          ],
          [
           "Broadcasting in Practice¶\n\nBroadcasting operations form the core of many examples we'll see througho..."
          ],
          [
           "17,\n\n1.66533454e\n\n17])\n\nTo within machine precision, the mean is now zero.\n\nPlotting a two\n\ndimensio..."
          ],
          [
           "Comparisons, Masks, and Boolean Logic\n\n< Computation on Arrays: Broadcasting | Contents | Fancy Inde..."
          ],
          [
           "In [3]:\n\nplt.hist(inches, 40);\n\nThis histogram gives us a general idea of what the data looks like: ..."
          ],
          [
           "x < 3  # less than\n\nOut[5]:\n\narray([ True,  True, False, False, False], dtype=bool)\n\nIn [6]:\n\nx > 3 ..."
          ],
          [
           "Operator\n\nEquivalent ufunc\n\nOperator\n\nEquivalent ufunc\n\n==\n\nnp.equal\n\n!=\n\nnp.not_equal\n\n<\n\nnp.less\n\n..."
          ],
          [
           "In [15]:\n\n# how many values less than 6? np.count_nonzero(x < 6)\n\nOut[15]:\n\n8\n\nWe see that there are..."
          ],
          [
           "In [22]:\n\n# are all values in each row less than 8? np.all(x < 8, axis=1)\n\nOut[22]:\n\narray([ True, F..."
          ],
          [
           "In [24]:\n\nnp.sum(~( (inches <= 0.5) | (inches >= 1) ))\n\nOut[24]:\n\n29\n\nCombining comparison operators..."
          ],
          [
           "x\n\nOut[26]:\n\narray([[5, 0, 3, 3],\n\n[7, 9, 3, 5],\n\n[2, 4, 7, 6]])\n\nWe can obtain a Boolean array for ..."
          ],
          [
           "Median precip on rainy days in 2014 (inches):    0.194881889764 Median precip on summer days in 2014..."
          ],
          [
           "'0b111011'\n\nIn [35]:\n\nbin(42 & 59)\n\nOut[35]:\n\n'0b101010'\n\nIn [36]:\n\nbin(42 | 59)\n\nOut[36]:\n\n'0b11101..."
          ],
          [
           "Similarly, when doing a Boolean expression on a given array, you should use | or & rather than or or..."
          ],
          [
           "The text is released under the CC-BY-NC-ND license, and code is released under the MIT license. If y..."
          ],
          [
           "When using fancy indexing, the shape of the result reflects the shape of the index arrays rather tha..."
          ],
          [
           "Here, each row value is matched with each column vector, exactly as we saw in broadcasting of arithm..."
          ],
          [
           "[ 4,  6],\n\n[ 8, 10]])\n\nAll of these indexing options combined lead to a very flexible set of operati..."
          ],
          [
           "(20, 2)\n\nNow to see which points were selected, let's over-plot large circles at the locations of th..."
          ],
          [
           "In [21]:\n\ni = [2, 3, 3, 4, 4, 4] x[i] += 1 x\n\nOut[21]:\n\narray([ 6.,  0.,  1.,  1.,  1.,  0.,  0.,  0..."
          ],
          [
           "In [23]:\n\nnp.random.seed(42)\n\nx = np.random.randn(100)\n\n# compute a histogram by hand bins = np.lins..."
          ],
          [
           "NumPy routine: 10000 loops, best of 3: 97.6 µs per loop Custom routine: 10000 loops, best of 3: 19.5..."
          ],
          [
           "Python Data Science Handbook\n\nAbout\n\nArchive\n\nThis is an excerpt from the Python Data Science Handbo..."
          ],
          [
           "Out[2]:\n\narray([1, 2, 3, 4, 5])\n\nAs any first-year computer science major will tell you, the selecti..."
          ],
          [
           "Fast Sorting in NumPy: np.sort and np.argsort¶Although Python has built-in sort and sorted functions..."
          ],
          [
           "A useful feature of NumPy's sorting algorithms is the ability to sort along specific rows or columns..."
          ],
          [
           "In [12]:\n\nx = np.array([7, 2, 3, 1, 6, 5, 4]) np.partition(x, 3)\n\nOut[12]:\n\narray([2, 1, 3, 4, 6, 5,..."
          ],
          [
           "Now we'll compute the distance between each pair of points. Recall that the squared-distance between..."
          ],
          [
           "Out[20]:\n\narray([ 0.,  0.,  0.,  0.,  0.,  0.,  0.,  0.,  0.,  0.])\n\nIt checks out! With the pairwis..."
          ],
          [
           "plt.scatter(X[:, 0], X[:, 1], s=100)\n\n# draw lines from each point to its two nearest neighbors K = ..."
          ],
          [
           "Aside: Big-O Notation¶Big-O notation is a means of describing how the number of operations required ..."
          ],
          [
           "When trying to analyze billions or trillions of samples, the difference between $\\mathcal{O}[N]$ and..."
          ],
          [
           "Structured Data: NumPy's Structured Arrays\n\n< Sorting Arrays | Contents | Data Manipulation with Pan..."
          ],
          [
           "[('name', '<U10'), ('age', '<i4'), ('weight', '<f8')]\n\nHere 'U10' translates to \"Unicode string of m..."
          ],
          [
           "Out[8]:\n\n'Doug'\n\nUsing Boolean masking, this even allows you to do some more sophisticated operation..."
          ],
          [
           "A compound type can also be specified as a list of tuples:\n\nIn [12]:\n\nnp.dtype([('name', 'S10'), ('a..."
          ],
          [
           "'c'\n\nComplex floating point\n\nnp.dtype('c16') == np.complex128\n\n'S', 'a'\n\nString\n\nnp.dtype('S5')\n\n'U'..."
          ],
          [
           "RecordArrays: Structured Arrays with a Twist¶NumPy also provides the np.recarray class, which is alm..."
          ],
          [
           "< Sorting Arrays | Contents | Data Manipulation with Pandas >\n\nData Manipulation with Pandas | Pytho..."
          ],
          [
           "In this chapter, we will focus on the mechanics of using Series, DataFrame, and related structures e..."
          ],
          [
           "Python Data Science Handbook | Python Data Science Handbook\n\nPython Data Science Handbook\n\nAbout\n\nAr..."
          ],
          [
           "5. Machine Learning¶ What Is Machine Learning? Introducing Scikit-Learn Hyperparameters and Model Va..."
          ],
          [
           "In [2]:\n\ndata = pd.Series([0.25, 0.5, 0.75, 1.0]) data\n\nOut[2]:\n\n0    0.25 1    0.50 2    0.75 3    ..."
          ],
          [
           "As we will see, though, the Pandas Series is much more general and flexible than the one-dimensional..."
          ],
          [
           "In [10]:\n\ndata[5]\n\nOut[10]:\n\n0.5\n\nSeries as specialized dictionary¶In this way, you can think of a P..."
          ],
          [
           "California    38332521 Florida       19552860 Illinois      12882135 dtype: int64\n\nWe'll discuss som..."
          ],
          [
           "Out[17]:\n\n3    c 2    a dtype: object\n\nNotice that in this case, the Series is populated only with t..."
          ],
          [
           "California\n\n423967\n\n38332521\n\nFlorida\n\n170312\n\n19552860\n\nIllinois\n\n149995\n\n12882135\n\nNew York\n\n14129..."
          ],
          [
           "Out[22]:\n\nCalifornia    423967 Florida       170312 Illinois      149995 New York      141297 Texas ..."
          ],
          [
           "2\n\n2\n\n4\n\nEven if some keys in the dictionary are missing, Pandas will fill them in with NaN (i.e., \"..."
          ],
          [
           "Out[27]:\n\nfoo\n\nbar\n\na\n\n0.865257\n\n0.213169\n\nb\n\n0.442759\n\n0.108267\n\nc\n\n0.047110\n\n0.905718\n\nFrom a NumP..."
          ],
          [
           "In [30]:\n\nind = pd.Index([2, 3, 5, 7, 11]) ind\n\nOut[30]:\n\nInt64Index([2, 3, 5, 7, 11], dtype='int64'..."
          ],
          [
           "/Users/jakevdp/anaconda/lib/python3.5/site-packages/pandas/indexes/base.py in __setitem__(self, key,..."
          ],
          [
           "These operations may also be accessed via object methods, for example indA.intersection(indB).\n\n< Da..."
          ],
          [
           "Series as dictionary¶Like a dictionary, the Series object provides a mapping from a collection of ke..."
          ],
          [
           "This easy mutability of the objects is a convenient feature: under the hood, Pandas is making decisi..."
          ],
          [
           "In [11]:\n\ndata = pd.Series(['a', 'b', 'c'], index=[1, 3, 5]) data\n\nOut[11]:\n\n1    a 3    b 5    c dt..."
          ],
          [
           "'b'\n\nIn [17]:\n\ndata.iloc[1:3]\n\nOut[17]:\n\n3    b 5    c dtype: object\n\nA third indexing attribute, ix..."
          ],
          [
           "38332521\n\nFlorida\n\n170312\n\n19552860\n\nIllinois\n\n149995\n\n12882135\n\nNew York\n\n141297\n\n19651127\n\nTexas\n\n..."
          ],
          [
           "In [22]:\n\ndata.pop is data['pop']\n\nOut[22]:\n\nFalse\n\nIn particular, you should avoid the temptation t..."
          ],
          [
           "In [24]:\n\ndata.values\n\nOut[24]:\n\narray([[  4.23967000e+05,   3.83325210e+07,   9.04139261e+01], [  1..."
          ],
          [
           "1.148061e+02\n\n8.588376e+01\n\n1.390767e+02\n\n3.801874e+01\n\nWhen it comes to indexing of DataFrame objec..."
          ],
          [
           "In [29]:\n\ndata.loc[:'Illinois', :'pop']\n\nOut[29]:\n\narea\n\npop\n\nCalifornia\n\n423967\n\n38332521\n\nFlorida\n..."
          ],
          [
           "data\n\nOut[32]:\n\narea\n\npop\n\ndensity\n\nCalifornia\n\n423967\n\n38332521\n\n90.000000\n\nFlorida\n\n170312\n\n195528..."
          ],
          [
           "19552860\n\n114.806121\n\nIllinois\n\n149995\n\n12882135\n\n85.883763\n\nSimilarly, direct masking operations ar..."
          ],
          [
           "Operating on Data in Pandas\n\n< Data Indexing and Selection | Contents | Handling Missing Data >\n\nOne..."
          ],
          [
           "Out[3]:\n\nA\n\nB\n\nC\n\nD\n\n0\n\n6\n\n9\n\n2\n\n6\n\n1\n\n7\n\n4\n\n3\n\n7\n\n2\n\n7\n\n2\n\n5\n\n4\n\nIf we apply a NumPy ufunc on eithe..."
          ],
          [
           "1.224647e\n\n16\n\nAny of the ufuncs discussed in Computation on NumPy Arrays: Universal Functions can b..."
          ],
          [
           "In [9]:\n\nA = pd.Series([2, 4, 6], index=[0, 1, 2]) B = pd.Series([1, 3, 5], index=[1, 2, 3]) A + B\n\n..."
          ],
          [
           "2\n\n9\n\n2\n\n6\n\nIn [13]:\n\nA + B\n\nOut[13]:\n\nA\n\nB\n\nC\n\n0\n\n1.0\n\n15.0\n\nNaN\n\n1\n\n13.0\n\n6.0\n\nNaN\n\n2\n\nNaN\n\nNaN\n\nN..."
          ],
          [
           "truediv(), div(), divide()\n\n//\n\nfloordiv()\n\n%\n\nmod()\n\npow()\n\nUfuncs: Operations Between DataFrame an..."
          ],
          [
           "1\n\n1\n\n2\n\n2\n\n4\n\n2\n\n3\n\n7\n\n1\n\n4\n\nIf you would instead like to operate column-wise, you can use the obje..."
          ],
          [
           "< Data Indexing and Selection | Contents | Handling Missing Data >\n\nHandling Missing Data | Python D..."
          ],
          [
           "Trade-Offs in Missing Data Conventions¶There are a number of schemes that have been developed to ind..."
          ],
          [
           "For example, the R language uses reserved bit patterns within each data type as sentinel values indi..."
          ],
          [
           "In [1]:\n\nimport numpy as np\n\nimport pandas as pd\n\nIn [2]:\n\nvals1 = np.array([1, None, 3, 4]) vals1\n\n..."
          ],
          [
           "/Users/jakevdp/anaconda/lib/python3.5/site-packages/numpy/core/_methods.py in _sum(a, axis, dtype, o..."
          ],
          [
           "In [8]:\n\nvals2.sum(), vals2.min(), vals2.max()\n\nOut[8]:\n\n(nan, nan, nan)\n\nNumPy does provide some sp..."
          ],
          [
           "In [12]:\n\nx[0] = None\n\nx\n\nOut[12]:\n\n0    NaN 1    1.0 dtype: float64\n\nNotice that in addition to cas..."
          ],
          [
           "In [13]:\n\ndata = pd.Series([1, np.nan, 'hello', None])\n\nIn [14]:\n\ndata.isnull()\n\nOut[14]:\n\n0    Fals..."
          ],
          [
           "In [18]:\n\ndf.dropna()\n\nOut[18]:\n\n0\n\n1\n\n2\n\n1\n\n2.0\n\n3.0\n\n5\n\nAlternatively, you can drop NA values alon..."
          ],
          [
           "0\n\n1\n\n2\n\n0\n\n1.0\n\nNaN\n\n2\n\n1\n\n2.0\n\n3.0\n\n5\n\n2\n\nNaN\n\n4.0\n\n6\n\nFor finer-grained control, the thresh param..."
          ],
          [
           "a    1.0 b    0.0 c    2.0 d    0.0 e    3.0 dtype: float64\n\nWe can specify a forward-fill to propag..."
          ],
          [
           "2.0\n\n1\n\n2.0\n\n3.0\n\n5.0\n\n5.0\n\n2\n\nNaN\n\n4.0\n\n6.0\n\n6.0\n\nNotice that if a previous value is not available ..."
          ],
          [
           "In [1]:\n\nimport pandas as pd\n\nimport numpy as np\n\nA Multiply Indexed Series¶Let's start by consideri..."
          ],
          [
           "In [4]:\n\npop[[i for i in pop.index if i[1] == 2010]]\n\nOut[4]:\n\n(California, 2010)    37253956 (New Y..."
          ],
          [
           "Now to access all data for which the second index is 2010, we can simply use the Pandas slicing nota..."
          ],
          [
           "Out[9]:\n\nCalifornia  2000    33871648 2010    37253956 New York    2000    18976457 2010    19378102..."
          ],
          [
           "In [11]:\n\nf_u18 = pop_df['under18'] / pop_df['total'] f_u18.unstack()\n\nOut[11]:\n\n2000\n\n2010\n\nCalifor..."
          ],
          [
           "In [13]:\n\ndata = {('California', 2000): 33871648, ('California', 2010): 37253956, ('Texas', 2000): 2..."
          ],
          [
           "MultiIndex(levels=[['a', 'b'], [1, 2]], labels=[[0, 0, 1, 1], [0, 1, 0, 1]])\n\nYou can even construct..."
          ],
          [
           "In [18]:\n\npop.index.names = ['state', 'year']\n\npop\n\nOut[18]:\n\nstate       year California  2000    3..."
          ],
          [
           "36.7\n\n35.0\n\n37.2\n\n2\n\n44.0\n\n37.7\n\n50.0\n\n35.0\n\n29.0\n\n36.7\n\n2014\n\n1\n\n30.0\n\n37.4\n\n39.0\n\n37.8\n\n61.0\n\n36.9..."
          ],
          [
           "Multiply indexed Series¶Consider the multiply indexed Series of state populations we saw earlier:\n\nI..."
          ],
          [
           "pop[pop > 22000000]\n\nOut[26]:\n\nstate       year California  2000    33871648 2010    37253956 Texas ..."
          ],
          [
           "In [29]:\n\nhealth_data['Guido', 'HR']\n\nOut[29]:\n\nyear  visit 2013  1        32.0 2        50.0 2014  ..."
          ],
          [
           "health_data.loc[(:, 1), (:, 'HR')]\n\n^\n\nSyntaxError: invalid syntax\n\nYou could get around this by bui..."
          ],
          [
           "In [34]:\n\nindex = pd.MultiIndex.from_product([['a', 'c', 'b'], [1, 2]]) data = pd.Series(np.random.r..."
          ],
          [
           "With the index sorted in this way, partial slicing will work as expected:\n\nIn [37]:\n\ndata['a':'b']\n\n..."
          ],
          [
           "Out[40]:\n\nstate       year California  2000    33871648 2010    37253956 New York    2000    1897645..."
          ],
          [
           "33871648\n\n2010\n\n37253956\n\nNew York\n\n2000\n\n18976457\n\n2010\n\n19378102\n\nTexas\n\n2000\n\n20851820\n\n2010\n\n251..."
          ],
          [
           "2\n\n47.0\n\n37.8\n\n48.0\n\n37.3\n\n51.0\n\n36.5\n\nPerhaps we'd like to average-out the measurements in the two ..."
          ],
          [
           "Aside: Panel Data¶Pandas has a few other fundamental data structures that we have not yet discussed,..."
          ],
          [
           "Combining Datasets: Concat and Append\n\n< Hierarchical Indexing | Contents | Combining Datasets: Merg..."
          ],
          [
           "In [3]:\n\nclass display(object): \"\"\"Display HTML representation of multiple objects\"\"\" template = \"\"\"..."
          ],
          [
           "In [5]:\n\nx = [[1, 2],\n\n[3, 4]]\n\nnp.concatenate([x, x], axis=1)\n\nOut[5]:\n\narray([[1, 2, 1, 2],\n\n[3, 4..."
          ],
          [
           "Out[7]:\n\ndf1\n\nA\n\nB\n\n1\n\nA1\n\nB1\n\n2\n\nA2\n\nB2\n\ndf2\n\nA\n\nB\n\n3\n\nA3\n\nB3\n\n4\n\nA4\n\nB4\n\npd.concat([df1, df2])\n\nA\n..."
          ],
          [
           "pd.concat([df3, df4], axis='col')\n\nA\n\nB\n\nC\n\nD\n\n0\n\nA0\n\nB0\n\nC0\n\nD0\n\n1\n\nA1\n\nB1\n\nC1\n\nD1\n\nWe could have e..."
          ],
          [
           "B3\n\nNotice the repeated indices in the result. While this is valid within DataFrames, the outcome is..."
          ],
          [
           "B0\n\n1\n\nA1\n\nB1\n\n2\n\nA2\n\nB2\n\n3\n\nA3\n\nB3\n\nAdding MultiIndex keys¶Another option is to use the keys option..."
          ],
          [
           "In [13]:\n\ndf5 = make_df('ABC', [1, 2]) df6 = make_df('BCD', [3, 4]) display('df5', 'df6', 'pd.concat..."
          ],
          [
           "display('df5', 'df6',\n\n\"pd.concat([df5, df6], join='inner')\")\n\nOut[14]:\n\ndf5\n\nA\n\nB\n\nC\n\n1\n\nA1\n\nB1\n\nC1..."
          ],
          [
           "B2\n\nC2\n\ndf6\n\nB\n\nC\n\nD\n\n3\n\nB3\n\nC3\n\nD3\n\n4\n\nB4\n\nC4\n\nD4\n\npd.concat([df5, df6], join_axes=[df5.columns])\n\n..."
          ],
          [
           "B3\n\n4\n\nA4\n\nB4\n\ndf1.append(df2)\n\nA\n\nB\n\n1\n\nA1\n\nB1\n\n2\n\nA2\n\nB2\n\n3\n\nA3\n\nB3\n\n4\n\nA4\n\nB4\n\nKeep in mind that ..."
          ],
          [
           "Combining Datasets: Merge and Join\n\n< Combining Datasets: Concat and Append | Contents | Aggregation..."
          ],
          [
           "def __repr__(self): return '\\n\\n'.join(a + '\\n' + repr(eval(a)) for a in self.args)\n\nRelational Alge..."
          ],
          [
           "Out[2]:\n\ndf1\n\nemployee\n\ngroup\n\n0\n\nBob\n\nAccounting\n\n1\n\nJake\n\nEngineering\n\n2\n\nLisa\n\nEngineering\n\n3\n\nSu..."
          ],
          [
           "Many\n\nto\n\none joins¶\n\nMany-to-one joins are joins in which one of the two key columns contains dupli..."
          ],
          [
           "HR\n\n2014\n\nSteve\n\nThe resulting DataFrame has an aditional column with the \"supervisor\" information, ..."
          ],
          [
           "HR\n\nspreadsheets\n\n5\n\nHR\n\norganization\n\npd.merge(df1, df5)\n\nemployee\n\ngroup\n\nskills\n\n0\n\nBob\n\nAccounti..."
          ],
          [
           "Out[6]:\n\ndf1\n\nemployee\n\ngroup\n\n0\n\nBob\n\nAccounting\n\n1\n\nJake\n\nEngineering\n\n2\n\nLisa\n\nEngineering\n\n3\n\nSu..."
          ],
          [
           "Out[7]:\n\ndf1\n\nemployee\n\ngroup\n\n0\n\nBob\n\nAccounting\n\n1\n\nJake\n\nEngineering\n\n2\n\nLisa\n\nEngineering\n\n3\n\nSu..."
          ],
          [
           "Jake\n\nEngineering\n\n80000\n\n2\n\nLisa\n\nEngineering\n\n120000\n\n3\n\nSue\n\nHR\n\n90000\n\nThe left_index and right_..."
          ],
          [
           "df2a\n\nhire_date\n\nemployee\n\nLisa\n\n2004\n\nBob\n\n2008\n\nJake\n\n2012\n\nSue\n\n2014\n\npd.merge(df1a, df2a, left_i..."
          ],
          [
           "2014\n\nIf you'd like to mix indices and columns, you can combine left_index with right_on or left_on ..."
          ],
          [
           "In [13]:\n\ndf6 = pd.DataFrame({'name': ['Peter', 'Paul', 'Mary'], 'food': ['fish', 'beans', 'bread']}..."
          ],
          [
           "wine\n\nOther options for the how keyword are 'outer', 'left', and 'right'. An outer join returns a jo..."
          ],
          [
           "beans\n\n2\n\nMary\n\nbread\n\ndf7\n\nname\n\ndrink\n\n0\n\nMary\n\nwine\n\n1\n\nJoseph\n\nbeer\n\npd.merge(df6, df7, how='lef..."
          ],
          [
           "3\n\n3\n\nSue\n\n4\n\ndf9\n\nname\n\nrank\n\n0\n\nBob\n\n3\n\n1\n\nJake\n\n1\n\n2\n\nLisa\n\n4\n\n3\n\nSue\n\n2\n\npd.merge(df8, df9, on=\"..."
          ],
          [
           "3\n\n1\n\nJake\n\n1\n\n2\n\nLisa\n\n4\n\n3\n\nSue\n\n2\n\npd.merge(df8, df9, on=\"name\", suffixes=[\"_L\", \"_R\"])\n\nname\n\nra..."
          ],
          [
           "Let's take a look at the three datasets, using the Pandas read_csv() function:\n\nIn [20]:\n\npop = pd.r..."
          ],
          [
           "state\n\nabbreviation\n\n0\n\nAlabama\n\nAL\n\n1\n\nAlaska\n\nAK\n\n2\n\nArizona\n\nAZ\n\n3\n\nArkansas\n\nAR\n\n4\n\nCalifornia\n\n..."
          ],
          [
           "4785570.0\n\nAlabama\n\n4\n\nAL\n\nunder18\n\n2011\n\n1125763.0\n\nAlabama\n\nLet's double-check whether there were ..."
          ],
          [
           "In [24]:\n\nmerged.loc[merged['state'].isnull(), 'state/region'].unique()\n\nOut[24]:\n\narray(['PR', 'USA..."
          ],
          [
           "2\n\nAL\n\nunder18\n\n2010\n\n1130966.0\n\nAlabama\n\n52423.0\n\n3\n\nAL\n\ntotal\n\n2010\n\n4785570.0\n\nAlabama\n\n52423.0\n\n..."
          ],
          [
           "0\n\nAL\n\nunder18\n\n2012\n\n1117489.0\n\nAlabama\n\n52423.0\n\n1\n\nAL\n\ntotal\n\n2012\n\n4817528.0\n\nAlabama\n\n52423.0\n\n..."
          ],
          [
           "Alaska\n\n656425.0\n\n101\n\nAZ\n\ntotal\n\n2010\n\n6408790.0\n\nArizona\n\n114006.0\n\n189\n\nAR\n\ntotal\n\n2010\n\n2922280...."
          ],
          [
           "state South Dakota    10.583512 North Dakota     9.537565 Montana          6.736171 Wyoming         ..."
          ],
          [
           "For convenience, we'll use the same display magic function that we've seen in previous sections:\n\nIn..."
          ],
          [
           "0\n\nRadial Velocity\n\n1\n\n269.300\n\n7.10\n\n77.40\n\n2006\n\n1\n\nRadial Velocity\n\n1\n\n874.774\n\n2.21\n\n56.95\n\n2008..."
          ],
          [
           "Out[6]:\n\n0.56238509834163142\n\nFor a DataFrame, by default the aggregates return results within each ..."
          ],
          [
           "In [10]:\n\nplanets.dropna().describe()\n\nOut[10]:\n\nnumber\n\norbital_period\n\nmass\n\ndistance\n\nyear\n\ncount..."
          ],
          [
           "max\n\n6.00000\n\n17337.500000\n\n25.000000\n\n354.000000\n\n2014.000000\n\nThis can be a useful way to begin un..."
          ],
          [
           "Split, apply, combine¶A canonical example of this split-apply-combine operation, where the \"apply\" i..."
          ],
          [
           "5\n\nThe most basic split-apply-combine operation can be computed with the groupby() method of DataFra..."
          ],
          [
           "Column indexing¶The GroupBy object supports column indexing in the same way as the DataFrame, and re..."
          ],
          [
           "for (method, group) in planets.groupby('method'): print(\"{0:30s} shape={1}\".format(method, group.sha..."
          ],
          [
           "2010.0\n\n2011.00\n\n2012.0\n\nImaging\n\n38.0\n\n2009.131579\n\n2.781901\n\n2004.0\n\n2008.00\n\n2009.0\n\n2011.00\n\n201..."
          ],
          [
           "2002.0\n\n2010.00\n\n2012.0\n\n2013.00\n\n2014.0\n\nTransit Timing Variations\n\n4.0\n\n2012.500000\n\n1.290994\n\n201..."
          ],
          [
           "data1\n\ndata2\n\n0\n\nA\n\n0\n\n5\n\n1\n\nB\n\n1\n\n0\n\n2\n\nC\n\n2\n\n3\n\n3\n\nA\n\n3\n\n3\n\n4\n\nB\n\n4\n\n7\n\n5\n\nC\n\n5\n\n9\n\nAggregation¶We..."
          ],
          [
           "'data2': 'max'})\n\nOut[21]:\n\ndata1\n\ndata2\n\nkey\n\nA\n\n0\n\n5\n\nB\n\n1\n\n7\n\nC\n\n2\n\n9\n\nFiltering¶A filtering oper..."
          ],
          [
           "4.242641\n\ndf.groupby('key').filter(filter_func)\n\nkey\n\ndata1\n\ndata2\n\n1\n\nB\n\n1\n\n0\n\n2\n\nC\n\n2\n\n3\n\n4\n\nB\n\n4\n..."
          ],
          [
           "In [24]:\n\ndef norm_by_data2(x): # x is a DataFrame of group values x['data1'] /= x['data2'].sum() re..."
          ],
          [
           "9\n\napply() within a GroupBy is quite flexible: the only criterion is that the function takes a DataF..."
          ],
          [
           "display('df', \"df.groupby(df['key']).sum()\")\n\nOut[26]:\n\ndf\n\nkey\n\ndata1\n\ndata2\n\n0\n\nA\n\n0\n\n5\n\n1\n\nB\n\n1\n\n..."
          ],
          [
           "3\n\nA\n\n3\n\n3\n\nB\n\n4\n\n7\n\nC\n\n5\n\n9\n\ndf2.groupby(mapping).sum()\n\ndata1\n\ndata2\n\nconsonant\n\n12\n\n19\n\nvowel\n\n3\n..."
          ],
          [
           "data1\n\ndata2\n\na\n\nvowel\n\n1.5\n\n4.0\n\nb\n\nconsonant\n\n2.5\n\n3.5\n\nc\n\nconsonant\n\n3.5\n\n6.0\n\nGrouping example¶A..."
          ],
          [
           "0.0\n\n1.0\n\n0.0\n\nRadial Velocity\n\n1.0\n\n52.0\n\n475.0\n\n424.0\n\nTransit\n\n0.0\n\n0.0\n\n64.0\n\n712.0\n\nTransit Tim..."
          ],
          [
           "Pivot Tables\n\n< Aggregation and Grouping | Contents | Vectorized String Operations >\n\nWe have seen h..."
          ],
          [
           "Southampton\n\nno\n\nFalse\n\n1\n\n1\n\n1\n\nfemale\n\n38.0\n\n1\n\n0\n\n71.2833\n\nC\n\nFirst\n\nwoman\n\nFalse\n\nC\n\nCherbourg\n\n..."
          ],
          [
           "titanic.groupby('sex')[['survived']].mean()\n\nOut[3]:\n\nsurvived\n\nsex\n\nfemale\n\n0.742038\n\nmale\n\n0.18890..."
          ],
          [
           "titanic.pivot_table('survived', index='sex', columns='class')\n\nOut[5]:\n\nclass\n\nFirst\n\nSecond\n\nThird\n..."
          ],
          [
           "0.800000\n\n0.600000\n\n0.215686\n\n(18, 80]\n\n0.375000\n\n0.071429\n\n0.133663\n\nWe can apply the same strategy..."
          ],
          [
           "0.098039\n\n0.125000\n\n0.391304\n\n0.030303\n\n0.192308\n\nThe result is a four-dimensional aggregation with ..."
          ],
          [
           "Third\n\nsex\n\nfemale\n\n106.125798\n\n21.970121\n\n16.118810\n\n91.0\n\n70.0\n\n72.0\n\nmale\n\n67.226127\n\n19.741782\n\n..."
          ],
          [
           "Example: Birthrate Data¶As a more interesting example, let's take a look at the freely available dat..."
          ],
          [
           "In [13]:\n\nbirths['decade'] = 10\n\n(births['year'] // 10)\n\nbirths.pivot_table('births', index='decade'..."
          ],
          [
           "With a simple pivot table and plot() method, we can immediately see the annual trend in births by ge..."
          ],
          [
           "In [17]:\n\n# set 'day' column to integer; it originally was a string due to nulls births['day'] = bir..."
          ],
          [
           "[births.index.month, births.index.day])\n\nbirths_by_date.head()\n\nOut[20]:\n\n1  1    4009.225 2    4247..."
          ],
          [
           "In [22]:\n\n# Plot the results fig, ax = plt.subplots(figsize=(12, 4)) births_by_date.plot(ax=ax);\n\nIn..."
          ],
          [
           "Introducing Pandas String Operations¶We saw in previous sections how tools like NumPy and Pandas gen..."
          ],
          [
           "<ipython-input-3-fc1d891ab539> in <listcomp>(.0) 1 data = ['peter', 'Paul', None, 'MARY', 'gUIDO'] -..."
          ],
          [
           "len()\n\nlower()\n\ntranslate()\n\nislower()\n\nljust()\n\nupper()\n\nstartswith()\n\nisupper()\n\nrjust()\n\nfind()\n\n..."
          ],
          [
           "Still others return lists or other compound values for each element:\n\nIn [10]:\n\nmonte.str.split()\n\nO..."
          ],
          [
           "In [12]:\n\nmonte.str.findall(r'^[^AEIOU].\n\n[^aeiou]$')\n\nOut[12]:\n\n0    [Graham Chapman] 1            ..."
          ],
          [
           "monte.str[0:3]\n\nOut[13]:\n\n0    Gra 1    Joh 2    Ter 3    Eri 4    Ter 5    Mic dtype: object\n\nIndex..."
          ],
          [
           "B|D\n\nEric Idle\n\n4\n\nB|C\n\nTerry Jones\n\n5\n\nB|C|D\n\nMichael Palin\n\nThe get_dummies() routine lets you qui..."
          ],
          [
           "Example: Recipe Database¶These vectorized string operations become most useful in the process of cle..."
          ],
          [
           "line = f.readline()\n\npd.read_json(line).shape\n\nOut[19]:\n\n(2, 12)\n\nYes, apparently each line is a val..."
          ],
          [
           "There is a lot of information there, but much of it is in a very messy form, as is typical of data s..."
          ],
          [
           "In [27]:\n\nrecipes.ingredients.str.contains('[Cc]inamon').sum()\n\nOut[27]:\n\n11\n\nThis is the type of es..."
          ],
          [
           "False\n\nFalse\n\nFalse\n\nTrue\n\nFalse\n\nFalse\n\nFalse\n\n1\n\nFalse\n\nFalse\n\nFalse\n\nFalse\n\nFalse\n\nFalse\n\nFalse\n\n..."
          ],
          [
           "In [31]:\n\nrecipes.name[selection.index]\n\nOut[31]:\n\n2069      All cremat with a Little Gem, dandelion..."
          ],
          [
           "Working with Time Series\n\n< Vectorized String Operations | Contents | High-Performance Pandas: eval(..."
          ],
          [
           "In [1]:\n\nfrom datetime import datetime\n\ndatetime(year=2015, month=7, day=4)\n\nOut[1]:\n\ndatetime.datet..."
          ],
          [
           "In [4]:\n\nimport numpy as np\n\ndate = np.array('2015\n\n07\n\n04', dtype=np.datetime64)\n\ndate\n\nOut[4]:\n\nar..."
          ],
          [
           "07\n\n13', '2015\n\n07\n\n14', '2015\n\n07\n\n15'], dtype='datetime64[D]')\n\nBecause of the uniform type in Num..."
          ],
          [
           "In [8]:\n\nnp.datetime64('2015\n\n07\n\n04 12:59:59.50', 'ns')\n\nOut[8]:\n\nnumpy.datetime64('2015\n\n07\n\n04T12..."
          ],
          [
           "us\n\nMicrosecond\n\n± 2.9e6 years\n\n[290301 BC, 294241 AD]\n\nns Nanosecond ± 292 years [ 1678 AD, 2262 AD..."
          ],
          [
           "04 00:00:00')\n\nIn [10]:\n\ndate.strftime('%A')\n\nOut[10]:\n\n'Saturday'\n\nAdditionally, we can do NumPy-st..."
          ],
          [
           "Out[12]:\n\n2014-07-04    0 2014-08-04    1 2015-07-04    2 2015-08-04    3 dtype: int64\n\nNow that we ..."
          ],
          [
           "The most fundamental of these date/time objects are the Timestamp and DatetimeIndex objects. While t..."
          ],
          [
           "In [17]:\n\ndates\n\ndates[0]\n\nOut[17]:\n\nTimedeltaIndex(['0 days', '1 days', '3 days', '4 days', '5 days..."
          ],
          [
           "In [19]:\n\npd.date_range('2015\n\n07\n\n03', periods=8)\n\nOut[19]:\n\nDatetimeIndex(['2015\n\n07\n\n03', '2015\n\n..."
          ],
          [
           "07\n\n03 07:00:00'],\n\ndtype='datetime64[ns]', freq='H')\n\nTo create regular sequences of Period or Time..."
          ],
          [
           "Code\n\nDescription\n\nCode\n\nDescription\n\nD\n\nCalendar day\n\nB\n\nBusiness day\n\nW\n\nWeekly\n\nM\n\nMonth end\n\nBM\n..."
          ],
          [
           "W\n\nSUN, W\n\nMON, W\n\nTUE, W\n\nWED, etc.\n\nOn top of this, codes can be combined with numbers to specify ..."
          ],
          [
           "For more discussion of the use of frequencies and offsets, see the \"DateOffset\" section of the Panda..."
          ],
          [
           "2004\n\n08\n\n24\n\n55.56\n\n55.74\n\n51.73\n\n52.38\n\nNaN\n\n2004\n\n08\n\n25\n\n52.43\n\n53.95\n\n51.89\n\n52.95\n\nNaN\n\nFor si..."
          ],
          [
           "');\n\nplt.legend(['input', 'resample', 'asfreq'],\n\nloc='upper left');\n\nNotice the difference: at each..."
          ],
          [
           "The top panel is the default: non-business days are left as NA values and do not appear on the plot...."
          ],
          [
           "ax[2].legend(['tshift(900)'], loc=2) ax[2].get_xticklabels()[1].set(weight='heavy', color='red') ax[..."
          ],
          [
           "'one\n\nyear rolling_std': rolling.std()})\n\nax = data.plot(style=['\n\n', '-\n\n', ':'])\n\nax.lines[0].set_..."
          ],
          [
           "Once this dataset is downloaded, we can use Pandas to read the CSV output into a DataFrame. We will ..."
          ],
          [
           "35752.000000\n\nmean\n\n61.470267\n\n54.410774\n\n115.881042\n\nstd\n\n82.588484\n\n77.659796\n\n145.392385\n\nmin\n\n0...."
          ],
          [
           "weekly.plot(style=[':', '-\n\n', '\n\n'])\n\nplt.ylabel('Weekly bicycle count');\n\nThis shows us some inter..."
          ],
          [
           "In [43]:\n\nby_time = data.groupby(data.index.time).mean()\n\nhourly_ticks = 4\n\n60\n\n60\n\nnp.arange(6)\n\nby..."
          ],
          [
           "Now we'll use some of the Matplotlib tools described in Multiple Subplots to plot two panels side by..."
          ],
          [
           "High-Performance Pandas: eval() and query()\n\n< Working with Time Series | Contents | Further Resourc..."
          ],
          [
           "1 loop, best of 3: 266 ms per loop\n\nBut this abstraction can become less efficient when computing co..."
          ],
          [
           "In [6]:\n\nimport pandas as pd nrows, ncols = 100000, 100 rng = np.random.RandomState(42) df1, df2, df..."
          ],
          [
           "Arithmetic operators¶pd.eval() supports all arithmetic operators. For example:\n\nIn [11]:\n\nresult1 = ..."
          ],
          [
           "Out[14]:\n\nTrue\n\nObject attributes and indices¶pd.eval() supports access to object attributes via the..."
          ],
          [
           "3\n\n0.264038\n\n0.808055\n\n0.347197\n\n4\n\n0.589161\n\n0.252418\n\n0.557789\n\nUsing pd.eval() as above, we can c..."
          ],
          [
           "0.069087\n\n0.235615\n\n0.154374\n\n2\n\n0.677945\n\n0.433839\n\n0.652324\n\n3\n\n0.264038\n\n0.808055\n\n0.347197\n\n4\n\n0..."
          ],
          [
           "In [21]:\n\ndf.eval('D = (A\n\nB) / C', inplace=True)\n\ndf.head()\n\nOut[21]:\n\nA\n\nB\n\nC\n\nD\n\n0\n\n0.375506\n\n0.4..."
          ],
          [
           "Out[22]:\n\nTrue\n\nThe @ character here marks a variable name rather than a column name, and lets you e..."
          ],
          [
           "Out[25]:\n\nTrue\n\nPerformance: When to Use These Functions¶When considering whether to use these funct..."
          ],
          [
           "< Working with Time Series | Contents | Further Resources >\n\nFurther Resources | Python Data Science..."
          ],
          [
           "Pandas on PyVideo: From PyCon to SciPy to PyData, many conferences have featured tutorials from Pand..."
          ],
          [
           "Visualization with Matplotlib\n\n< Further Resources | Contents | Simple Line Plots >\n\nWe'll now take ..."
          ],
          [
           "In recent years, however, the interface and style of Matplotlib have begun to show their age. Newer ..."
          ],
          [
           "In [2]:\n\nplt.style.use('classic')\n\nThroughout this section, we will adjust this style as needed. Not..."
          ],
          [
           "plt.plot(x, np.sin(x))\n\nplt.plot(x, np.cos(x))\n\nplt.show()\n\nYou can then run this script from the co..."
          ],
          [
           "Plotting from an IPython notebook¶The IPython notebook is a browser-based interactive data analysis ..."
          ],
          [
           "In [6]:\n\n!ls\n\nlh my_figure.png\n\nrw\n\nr\n\n--r\n\n--  1 jakevdp  staff    16K Aug 11 10:59 my_figure.png\n\n..."
          ],
          [
           "MATLAB-style Interface¶Matplotlib was originally written as a Python alternative for MATLAB users, a..."
          ],
          [
           "# Call plot() method on the appropriate object ax[0].plot(x, np.sin(x)) ax[1].plot(x, np.cos(x));\n\nF..."
          ],
          [
           "3. Data Manipulation with Pandas¶ Introducing Pandas Objects Data Indexing and Selection Operating o..."
          ],
          [
           "In [1]:\n\n%matplotlib inline\n\nimport matplotlib.pyplot as plt\n\nplt.style.use('seaborn\n\nwhitegrid')\n\ni..."
          ],
          [
           "In [5]:\n\nplt.plot(x, np.sin(x))\n\nplt.plot(x, np.cos(x));\n\nThat's all there is to plotting simple fun..."
          ],
          [
           "If no color is specified, Matplotlib will automatically cycle through a set of default colors for mu..."
          ],
          [
           "Adjusting the Plot: Axes Limits¶Matplotlib does a decent job of choosing default axes limits for you..."
          ],
          [
           "In [13]:\n\nplt.plot(x, np.sin(x))\n\nplt.axis('equal');\n\nFor more information on axis limits and the ot..."
          ],
          [
           "plt.axis('equal')\n\nplt.legend();\n\nAs you can see, the plt.legend() function keeps track of the line ..."
          ],
          [
           "< Visualization with Matplotlib | Contents | Simple Scatter Plots >\n\nSimple Scatter Plots | Python D..."
          ],
          [
           "In [3]:\n\nrng = np.random.RandomState(0) for marker in ['o', '. ', ',', 'x', '+', 'v', '^', '<', '>',..."
          ],
          [
           "In [6]:\n\nplt.scatter(x, y, marker='o');\n\nThe primary difference of plt.scatter from plt.plot is that..."
          ],
          [
           "s=100\n\nfeatures[3], c=iris.target, cmap='viridis')\n\nplt.xlabel(iris.feature_names[0])\n\nplt.ylabel(ir..."
          ],
          [
           "The text is released under the CC-BY-NC-ND license, and code is released under the MIT license. If y..."
          ],
          [
           "plt.errorbar(x, y, yerr=dy, fmt='.k');\n\nHere the fmt is a format code controlling the appearance of ..."
          ],
          [
           "# Compute the Gaussian process fit gp = GaussianProcess(corr='cubic', theta0=1e-2, thetaL=1e-4, thet..."
          ],
          [
           "dyfit, yfit + dyfit,\n\ncolor='gray', alpha=0.2)\n\nplt.xlim(0, 10);\n\nNote what we've done here with the..."
          ],
          [
           "Density and Contour Plots\n\n< Visualizing Errors | Contents | Histograms, Binnings, and Density >\n\nSo..."
          ],
          [
           "X, Y = np.meshgrid(x, y) Z = f(X, Y)\n\nNow let's look at this with a standard line-only contour plot:..."
          ],
          [
           "In [6]:\n\nplt.contourf(X, Y, Z, 20, cmap='RdGy') plt.colorbar();\n\nThe colorbar makes it clear that th..."
          ],
          [
           "In [8]:\n\ncontours = plt.contour(X, Y, Z, 3, colors='black') plt.clabel(contours, inline=True, fontsi..."
          ],
          [
           "%matplotlib inline\n\nimport numpy as np\n\nimport matplotlib.pyplot as plt\n\nplt.style.use('seaborn\n\nwhi..."
          ],
          [
           "In [5]:\n\ncounts, bin_edges = np.histogram(data, bins=5) print(counts)\n\n[ 12 190 468 301  29]\n\nTwo-Di..."
          ],
          [
           "For the generalization of this histogram binning in dimensions higher than two, see the np.histogram..."
          ],
          [
           "# Plot the result as an image plt.imshow(Z.reshape(Xgrid.shape), origin='lower', aspect='auto', exte..."
          ],
          [
           "In [1]:\n\nimport matplotlib.pyplot as plt\n\nplt.style.use('classic')\n\nIn [2]:\n\n%matplotlib inline\n\nimp..."
          ],
          [
           "fig\n\nOut[6]:\n\nFor more information on available legend options, see the plt.legend docstring.\n\nChoos..."
          ],
          [
           "In [9]:\n\nimport pandas as pd\n\ncities = pd.read_csv('data/california_cities.csv')\n\n# Extract the data..."
          ],
          [
           "plt.title('California Cities: Area and Population');\n\nThe legend will always reference some object t..."
          ],
          [
           "# specify the lines and labels of the first legend ax.legend(lines[:2], ['line A', 'line B'], loc='u..."
          ],
          [
           "In [1]:\n\nimport matplotlib.pyplot as plt\n\nplt.style.use('classic')\n\nIn [2]:\n\n%matplotlib inline\n\nimp..."
          ],
          [
           "Sequential colormaps: These are made up of one continuous sequence of colors (e.g., binary or viridi..."
          ],
          [
           "cmap = grayscale_cmap(cmap)\n\ngrayscale = cmap(np.arange(cmap.N))\n\nfig, ax = plt.subplots(2, figsize=..."
          ],
          [
           "In [9]:\n\nview_colormap('RdBu')\n\nWe'll see examples of using some of these color maps as we continue...."
          ],
          [
           "plt.colorbar(extend='both')\n\nplt.clim(\n\n1, 1);\n\nNotice that in the left panel, the default color lim..."
          ],
          [
           "Because each digit is defined by the hue of its 64 pixels, we can consider each digit to be a point ..."
          ],
          [
           "< Customizing Plot Legends | Contents | Multiple Subplots >\n\nMultiple Subplots | Python Data Science..."
          ],
          [
           "In [2]:\n\nax1 = plt.axes()  # standard axes ax2 = plt.axes([0.65, 0.65, 0.2, 0.2])\n\nThe equivalent of..."
          ],
          [
           "The command plt.subplots_adjust can be used to adjust the spacing between these plots. The following..."
          ],
          [
           "In [6]:\n\nfig, ax = plt.subplots(2, 3, sharex='col', sharey='row')\n\nNote that by specifying sharex an..."
          ],
          [
           "plt.subplot(grid[1, :2])\n\nplt.subplot(grid[1, 2]);\n\nThis type of flexible grid alignment has a wide ..."
          ],
          [
           "< Customizing Colorbars | Contents | Text and Annotation >\n\nText and Annotation | Python Data Scienc..."
          ],
          [
           "In [2]:\n\nbirths = pd.read_csv('data/births.csv')\n\nquartiles = np.percentile(births['births'], [25, 5..."
          ],
          [
           "# Add labels to the plot style = dict(size=10, color='gray')\n\nax.text('2012-1-1', 3950, \"New Year's ..."
          ],
          [
           "Transforms and Text Position¶In the previous example, we have anchored our text annotations to data ..."
          ],
          [
           "Note that by default, the text is aligned above and to the left of the specified coordinates: here t..."
          ],
          [
           "x = np.linspace(0, 20, 1000) ax.plot(x, np.cos(x)) ax.axis('equal')\n\nax.annotate('local maximum', xy..."
          ],
          [
           "bbox=dict(boxstyle=\"round\", fc=\"none\", ec=\"gray\"),\n\nxytext=(10,\n\n40), textcoords='offset points', ha..."
          ],
          [
           "25', 4500),  xycoords='data',\n\nxytext=(\n\n120,\n\n60), textcoords='offset points',\n\nbbox=dict(boxstyle=..."
          ],
          [
           "ax.set_ylim(3600, 5400);\n\nYou'll notice that the specifications of the arrows and text boxes are ver..."
          ],
          [
           "Customizing Ticks\n\n< Text and Annotation | Contents | Customizing Matplotlib: Configurations and Sty..."
          ],
          [
           "In [3]:\n\nprint(ax.xaxis.get_major_locator())\n\nprint(ax.xaxis.get_minor_locator())\n\n<matplotlib.ticke..."
          ],
          [
           "ax.xaxis.set_major_formatter(plt.NullFormatter())\n\nNotice that we've removed the labels (but kept th..."
          ],
          [
           "In [7]:\n\nfig, ax = plt.subplots(4, 4, sharex=True, sharey=True)\n\nParticularly for the x ticks, the n..."
          ],
          [
           "# Set up grid, legend, and limits ax.grid(True) ax.legend(frameon=False) ax.axis('equal') ax.set_xli..."
          ],
          [
           "ax.xaxis.set_major_formatter(plt.FuncFormatter(format_func))\n\nfig\n\nOut[11]:\n\nThis is much better! No..."
          ],
          [
           "IndexFormatter Set the strings from a list of labels\n\nFixedFormatter Set the strings manually for th..."
          ],
          [
           "In [1]:\n\nimport matplotlib.pyplot as plt\n\nplt.style.use('classic')\n\nimport numpy as np\n\n%matplotlib ..."
          ],
          [
           "Changing the Defaults: rcParams¶Each time Matplotlib loads, it defines a runtime configuration (rc) ..."
          ],
          [
           "plt.hist(x);\n\nLet's see what simple line plots look like with these rc parameters:\n\nIn [7]:\n\nfor i i..."
          ],
          [
           "Let's create a function that will make two basic types of plot:\n\nIn [9]:\n\ndef hist_and_lines(): np.r..."
          ],
          [
           "In [13]:\n\nwith plt.style.context('ggplot'):\n\nhist_and_lines()\n\nBayesian Methods for Hackers( style¶T..."
          ],
          [
           "< Customizing Ticks | Contents | Three-Dimensional Plotting in Matplotlib >\n\nThree-Dimensional Plott..."
          ],
          [
           "Three-dimensional Points and Lines¶The most basic three-dimensional plot is a line or collection of ..."
          ],
          [
           "In [5]:\n\ndef f(x, y):\n\nreturn np.sin(np.sqrt(x *\n\n2 + y *\n\n2))\n\nx = np.linspace(\n\n6, 6, 30)\n\ny = np...."
          ],
          [
           "fig = plt.figure()\n\nax = plt.axes(projection='3d')\n\nax.plot_wireframe(X, Y, Z, color='black')\n\nax.se..."
          ],
          [
           "In [11]:\n\ntheta = 2\n\nnp.pi\n\nnp.random.random(1000)\n\nr = 6\n\nnp.random.random(1000)\n\nx = np.ravel(r\n\nn..."
          ],
          [
           "Example: Visualizing a Möbius strip¶A Möbius strip is similar to a strip of paper glued into a loop ..."
          ],
          [
           "np.cos(theta))\n\ny = np.ravel(r\n\nnp.sin(theta))\n\nz = np.ravel(w\n\nnp.sin(phi))\n\nFinally, to plot the o..."
          ],
          [
           "Geographic Data with Basemap\n\n< Three-Dimensional Plotting in Matplotlib | Contents | Visualization ..."
          ],
          [
           "The meaning of the arguments to Basemap will be discussed momentarily. The useful thing is that the ..."
          ],
          [
           "Map Projections¶The first thing to decide when using maps is what projection to use. You're probably..."
          ],
          [
           "# cycle through these lines and set the desired style for line in all_lines: line.set(linestyle='-',..."
          ],
          [
           "In [6]:\n\nfig = plt.figure(figsize=(8, 6), edgecolor='w') m = Basemap(projection='moll', resolution=N..."
          ],
          [
           "m = Basemap(projection='ortho', resolution=None,\n\nlat_0=50, lon_0=0)\n\ndraw_map(m);\n\nConic projection..."
          ],
          [
           "Drawing a Map Background¶Earlier we saw the bluemarble() and shadedrelief() methods for projecting g..."
          ],
          [
           "For the boundary-based features, you must set the desired resolution when creating a Basemap image. ..."
          ],
          [
           "Plotting Data on Maps¶Perhaps the most useful piece of the Basemap toolkit is the ability to over-pl..."
          ],
          [
           "Next, we set up the map projection, scatter the data, and then create a colorbar and legend:\n\nIn [11..."
          ],
          [
           "Example: Surface Temperature Data¶As an example of visualizing some more continuous geographic data,..."
          ],
          [
           "Finally, we'll use the pcolormesh() method to draw a color mesh of the data. We'll look at North Ame..."
          ],
          [
           "The text is released under the CC-BY-NC-ND license, and code is released under the MIT license. If y..."
          ],
          [
           "In [1]:\n\nimport matplotlib.pyplot as plt\n\nplt.style.use('classic')\n\n%matplotlib inline\n\nimport numpy..."
          ],
          [
           "Ah, much better!\n\nExploring Seaborn Plots¶The main idea of Seaborn is that it provides high-level co..."
          ],
          [
           "In [9]:\n\nsns.kdeplot(data);\n\nWe can see the joint distribution and the marginal distributions togeth..."
          ],
          [
           "4.7\n\n3.2\n\n1.3\n\n0.2\n\nsetosa\n\n3\n\n4.6\n\n3.1\n\n1.5\n\n0.2\n\nsetosa\n\n4\n\n5.0\n\n3.6\n\n1.4\n\n0.2\n\nsetosa\n\nVisualizin..."
          ],
          [
           "23.68\n\n3.31\n\nMale\n\nNo\n\nSun\n\nDinner\n\n2\n\n4\n\n24.59\n\n3.61\n\nFemale\n\nNo\n\nSun\n\nDinner\n\n4\n\nIn [15]:\n\ntips['t..."
          ],
          [
           "In [18]:\n\nsns.jointplot(\"total_bill\", \"tip\", data=tips, kind='reg');\n\nBar plots¶Time series can be p..."
          ],
          [
           "We can learn more by looking at the method of discovery of each of these planets:\n\nIn [21]:\n\nwith sn..."
          ],
          [
           "02:10:42\n\n3\n\n38\n\nM\n\n01:06:16\n\n02:13:45\n\n4\n\n31\n\nM\n\n01:06:32\n\n02:13:59\n\nBy default, Pandas loaded the ..."
          ],
          [
           "4\n\n31\n\nM\n\n01:06:32\n\n02:13:59\n\nIn [26]:\n\ndata.dtypes\n\nOut[26]:\n\nage                 int64 gender     ..."
          ],
          [
           "02:13:59\n\n3992.0\n\n8039.0\n\nTo get an idea of what the data looks like, we can plot a jointplot over t..."
          ],
          [
           "02:09:28\n\n3986.0\n\n7768.0\n\n0.026262\n\n2\n\n31\n\nM\n\n01:06:49\n\n02:10:42\n\n4009.0\n\n7842.0\n\n0.022443\n\n3\n\n38\n\nM..."
          ],
          [
           "It looks like the split fraction does not correlate particularly with age, but does correlate with t..."
          ],
          [
           "Out[35]:\n\nage\n\ngender\n\nsplit\n\nfinal\n\nsplit_sec\n\nfinal_sec\n\nsplit_frac\n\nage_dec\n\n0\n\n33\n\nM\n\n01:05:38\n\n..."
          ],
          [
           "split=True, inner=\"quartile\",\n\npalette=[\"lightblue\", \"lightpink\"]);\n\nLooking at this, we can see whe..."
          ],
          [
           "The text is released under the CC-BY-NC-ND license, and code is released under the MIT license. If y..."
          ],
          [
           "Other Python Graphics Libraries¶Although Matplotlib is the most prominent Python visualization libra..."
          ],
          [
           "Machine Learning\n\n< Further Resources | Contents | What Is Machine Learning? >\n\nIn many ways, machin..."
          ],
          [
           "< Further Resources | Contents | What Is Machine Learning? >\n\nPython Data Science Handbook | Python ..."
          ],
          [
           "5. Machine Learning¶ What Is Machine Learning? Introducing Scikit-Learn Hyperparameters and Model Va..."
          ],
          [
           "Categories of Machine Learning¶At the most fundamental level, machine learning can be categorized in..."
          ],
          [
           "figure source in Appendix\n\nHere we have two-dimensional data: that is, we have two features for each..."
          ],
          [
           "feature 1, feature 2, etc. $\\to$ normalized counts of important words or phrases (\"Viagra\", \"Nigeria..."
          ],
          [
           "figure source in Appendix\n\nNotice that the feature 1-feature 2 plane here is the same as in the two-..."
          ],
          [
           "Clustering: Inferring labels on unlabeled data¶The classification and regression illustrations we ju..."
          ],
          [
           "figure source in Appendix\n\nVisually, it is clear that there is some structure in this data: it is dr..."
          ],
          [
           "Clustering: Models that detect and identify distinct groups in the data Dimensionality reduction: Mo..."
          ],
          [
           "Data Representation in Scikit\n\nLearn¶\n\nMachine learning is about creating models from data: for that..."
          ],
          [
           "0.2\n\nsetosa\n\n4\n\n5.0\n\n3.6\n\n1.4\n\n0.2\n\nsetosa\n\nHere each row of the data refers to a single observed fl..."
          ],
          [
           "Target array¶In addition to the feature matrix X, we also generally work with a label or target arra..."
          ],
          [
           "figure source in Appendix\n\nWith this data properly formatted, we can move on to consider the estimat..."
          ],
          [
           "We will now step through several simple examples of applying supervised and unsupervised learning me..."
          ],
          [
           "These are examples of the important choices that must be made once the model class is selected. Thes..."
          ],
          [
           "In [9]:\n\nmodel.fit(X, y)\n\nOut[9]:\n\nLinearRegression(copy_X=True, fit_intercept=True, n_jobs=1, norma..."
          ],
          [
           "In [12]:\n\nxfit = np.linspace(\n\n1, 11)\n\nAs before, we need to coerce these x values into a [n_samples..."
          ],
          [
           "With the data arranged, we can follow our recipe to predict the labels:\n\nIn [16]:\n\nfrom sklearn.naiv..."
          ],
          [
           "Now let's plot the results. A quick way to do this is to insert the results into the original Iris D..."
          ],
          [
           "sns.lmplot(\"PCA1\", \"PCA2\", data=iris, hue='species',\n\ncol='cluster', fit_reg=False);\n\nBy splitting t..."
          ],
          [
           "for i, ax in enumerate(axes.flat): ax.imshow(digits.images[i], cmap='binary', interpolation='nearest..."
          ],
          [
           "data_projected = iso.transform(digits.data)\n\ndata_projected.shape\n\nOut[26]:\n\n(1797, 2)\n\nWe see that ..."
          ],
          [
           "In [29]:\n\nfrom sklearn.naive_bayes import GaussianNB\n\nmodel = GaussianNB()\n\nmodel.fit(Xtrain, ytrain..."
          ],
          [
           "test_images = Xtest.reshape(\n\n1, 8, 8)\n\nfor i, ax in enumerate(axes.flat): ax.imshow(test_images[i],..."
          ],
          [
           "Hyperparameters and Model Validation\n\n< Introducing Scikit-Learn | Contents | Feature Engineering >\n..."
          ],
          [
           "Then we train the model, and use it to predict labels for data we already know:\n\nIn [3]:\n\nmodel.fit(..."
          ],
          [
           "# evaluate the model on the second set of data y2_model = model.predict(X2) accuracy_score(y2, y2_mo..."
          ],
          [
           "Out[6]:\n\n(0.95999999999999996, 0.90666666666666662)\n\nWhat comes out are two accuracy scores, which w..."
          ],
          [
           "In [8]:\n\nfrom sklearn.cross_validation import LeaveOneOut scores = cross_val_score(model, X, y, cv=L..."
          ],
          [
           "from sklearn.cross_validation import LeaveOneOut scores = cross_val_score(model, X, y, cv=LeaveOneOu..."
          ],
          [
           "Because we have 150 samples, the leave one out cross-validation yields scores for 150 trials, and th..."
          ],
          [
           "The Bias-variance trade-off¶Fundamentally, the question of \"the best model\" is about finding a sweet..."
          ],
          [
           "If we imagine that we have some ability to tune the model complexity, we would expect the training s..."
          ],
          [
           "In [10]:\n\nfrom sklearn.preprocessing import PolynomialFeatures\n\nfrom sklearn.linear_model import Lin..."
          ],
          [
           "The knob controlling model complexity in this case is the degree of the polynomial, which can be any..."
          ],
          [
           "y_test = PolynomialRegression(3).fit(X, y).predict(X_test)\n\nplt.plot(X_test.ravel(), y_test);\n\nplt.a..."
          ],
          [
           "The solid lines show the new results, while the fainter dashed lines show the results of the previou..."
          ],
          [
           "In [17]:\n\nfrom sklearn.learning_curve import learning_curve\n\nfig, ax = plt.subplots(1, 2, figsize=(1..."
          ],
          [
           "ax[i].set_title('degree = {0}'.format(degree), size=14)\n\nax[i].legend(loc='best')\n\nThis is a valuabl..."
          ],
          [
           "from sklearn.grid_search import GridSearchCV\n\nparam_grid = {'polynomialfeatures__degree': np.arange(..."
          ],
          [
           "Summary¶In this section, we have begun to explore the concept of model validation and hyperparameter..."
          ],
          [
           "Categorical Features¶One common type of non-numerical data is categorical data. For example, imagine..."
          ],
          [
           "vec = DictVectorizer(sparse=False, dtype=int)\n\nvec.fit_transform(data)\n\nOut[3]:\n\narray([[     0,    ..."
          ],
          [
           "Text Features¶Another common need in feature engineering is to convert text to a set of representati..."
          ],
          [
           "0\n\n0\n\n0\n\n1\n\n2\n\n0\n\n1\n\n0\n\n1\n\n0\n\nThere are some issues with this approach, however: the raw word counts..."
          ],
          [
           "0.605349\n\n0.000000\n\nFor an example of using TF-IDF in a classification problem, see In Depth: Naive ..."
          ],
          [
           "yfit = model.predict(X)\n\nplt.scatter(x, y)\n\nplt.plot(x, yfit);\n\nIt's clear that we need a more sophi..."
          ],
          [
           "In [14]:\n\nfrom numpy import nan X = np.array([[ nan, 0,   3  ], [ 3,   7,   9  ], [ 3,   5,   2  ], ..."
          ],
          [
           "array([ 13.14869292,  14.3784627 ,  -1.15539732,  10.96606197,  -5.33782027])\n\nFeature Pipelines¶Wit..."
          ],
          [
           "In Depth: Naive Bayes Classification | Python Data Science Handbook\n\nPython Data Science Handbook\n\nA..."
          ],
          [
           "Bayesian Classification¶Naive Bayes classifiers are built on Bayesian classification methods. These ..."
          ],
          [
           "In [1]:\n\n%matplotlib inline import numpy as np import matplotlib.pyplot as plt import seaborn as sns..."
          ],
          [
           "model = GaussianNB()\n\nmodel.fit(X, y);\n\nNow let's generate some new data and predict the label:\n\nIn ..."
          ],
          [
           "The columns give the posterior probabilities of the first and second label, respectively. If you are..."
          ],
          [
           "windows.misc',\n\n'comp.sys.ibm.pc.hardware',\n\n'comp.sys.mac.hardware',\n\n'comp.windows.x',\n\n'misc.fors..."
          ],
          [
           "Fact or rumor....? Madalyn Murray O'Hare an atheist who eliminated the use of the bible reading and ..."
          ],
          [
           "Evidently, even this very simple classifier can successfully separate space talk from computer talk,..."
          ],
          [
           "They are extremely fast for both training and prediction They provide straightforward probabilistic ..."
          ],
          [
           "In Depth: Linear Regression\n\n< In Depth: Naive Bayes Classification | Contents | In-Depth: Support V..."
          ],
          [
           "model = LinearRegression(fit_intercept=True)\n\nmodel.fit(x[:, np.newaxis], y)\n\nxfit = np.linspace(0, ..."
          ],
          [
           "model.fit(X, y)\n\nprint(model.intercept_)\n\nprint(model.coef_)\n\n0.5 [ 1.5 -2. 1. ]\n\nHere the $y$ data ..."
          ],
          [
           "Polynomial basis functions¶This polynomial projection is useful enough that it is built into Scikit-..."
          ],
          [
           "plt.plot(xfit, yfit);\n\nOur linear model, through the use of 7th-order polynomial basis functions, ca..."
          ],
          [
           "def transform(self, X): return self._gauss_basis(X[:, :, np.newaxis], self.centers_, self.width_, ax..."
          ],
          [
           "plt.xlim(0, 10)\n\nplt.ylim(\n\n1.5, 1.5);\n\nWith the data projected to the 30-dimensional basis, the mod..."
          ],
          [
           "Ridge regression ($L_2$ Regularization)¶Perhaps the most common form of regularization is known as r..."
          ],
          [
           "from sklearn.linear_model import Lasso\n\nmodel = make_pipeline(GaussianFeatures(30), Lasso(alpha=0.00..."
          ],
          [
           "o FremontBridge.csv https://data.seattle.gov/api/views/65db\n\nxm6k/rows.csv?accessType=DOWNLOAD\n\nIn [..."
          ],
          [
           "We also might suspect that the hours of daylight would affect how many people ride; let's use the st..."
          ],
          [
           "daily = daily.join(weather[['PRCP', 'Temp (C)', 'dry day']])\n\nFinally, let's add a counter that incr..."
          ],
          [
           "13.60\n\n1.0\n\n0.002740\n\n2012\n\n10\n\n05\n\n3148.0\n\n0.0\n\n0.0\n\n0.0\n\n0.0\n\n1.0\n\n0.0\n\n0.0\n\n0.0\n\n11.161038\n\n0.0\n\n..."
          ],
          [
           "In [23]:\n\n# Drop any rows with null values daily.dropna(axis=0, how='any', inplace=True)\n\ncolumn_nam..."
          ],
          [
           "These numbers are difficult to interpret without some measure of their uncertainty. We can compute t..."
          ],
          [
           "We first see that there is a relatively stable trend in the weekly baseline: there are many more rid..."
          ],
          [
           "In [1]:\n\n%matplotlib inline\n\nimport numpy as np\n\nimport matplotlib.pyplot as plt\n\nfrom scipy import ..."
          ],
          [
           "In [3]:\n\nxfit = np.linspace(-1, 3.5) plt.scatter(X[:, 0], X[:, 1], c=y, s=50, cmap='autumn') plt.plo..."
          ],
          [
           "for m, b, d in [(1, 0.65, 0.33), (0.5, 1.6, 0.55), (-0.2, 2.9, 0.2)]: yfit = m * xfit + b plt.plot(x..."
          ],
          [
           "To better visualize what's happening here, let's create a quick convenience function that will plot ..."
          ],
          [
           "plt.scatter(X[:, 0], X[:, 1], c=y, s=50, cmap='autumn') plot_svc_decision_function(model);\n\nThis is ..."
          ],
          [
           "ax = ax or plt.gca() ax.scatter(X[:, 0], X[:, 1], c=y, s=50, cmap='autumn') ax.set_xlim(-1, 4) ax.se..."
          ],
          [
           "In [11]:\n\nfrom sklearn.datasets.samples_generator import make_circles X, y = make_circles(100, facto..."
          ],
          [
           "90, 90], azip=(\n\n180, 180),\n\nX=fixed(X), y=fixed(y));\n\nWe can see that with this additional dimensio..."
          ],
          [
           "max_iter=\n\n1, probability=False, random_state=None, shrinking=True,\n\ntol=0.001, verbose=False)\n\nIn [..."
          ],
          [
           "In [17]:\n\nX, y = make_blobs(n_samples=100, centers=2, random_state=0, cluster_std=0.8)\n\nfig, ax = pl..."
          ],
          [
           "faces = fetch_lfw_people(min_faces_per_person=60)\n\nprint(faces.target_names)\n\nprint(faces.images.sha..."
          ],
          [
           "For the sake of testing our classifier output, we will split the data into a training and testing se..."
          ],
          [
           "yfit = model.predict(Xtest)\n\nLet's take a look at a few of the test images along with their predicte..."
          ],
          [
           "avg / total       0.85      0.85      0.85       337\n\nWe might also display the confusion matrix bet..."
          ],
          [
           "However, SVMs have several disadvantages as well:\n\nThe scaling with the number of samples $N$ is $\\m..."
          ],
          [
           "In-Depth: Decision Trees and Random Forests\n\n< In-Depth: Support Vector Machines | Contents | In Dep..."
          ],
          [
           "Creating a decision tree¶Consider the following two-dimensional data, which has one of four class la..."
          ],
          [
           "In [4]:\n\ndef visualize_classifier(model, X, y, ax=None, cmap='rainbow'): ax = ax or plt.gca()\n\n# Plo..."
          ],
          [
           "If you're running this notebook live, you can use the helpers script included in The Online Appendix..."
          ],
          [
           "Just as using information from two trees improves our results, we might expect that using informatio..."
          ],
          [
           "In [9]:\n\nfrom sklearn.ensemble import RandomForestClassifier\n\nmodel = RandomForestClassifier(n_estim..."
          ],
          [
           "from sklearn.ensemble import RandomForestRegressor\n\nforest = RandomForestRegressor(200)\n\nforest.fit(..."
          ],
          [
           "# plot the digits: each image is 8x8 pixels for i in range(64): ax = fig.add_subplot(8, 8, i + 1, xt..."
          ],
          [
           "avg / total       0.98      0.98      0.98       450\n\nAnd for good measure, plot the confusion matri..."
          ],
          [
           "In Depth: Principal Component Analysis\n\n< In-Depth: Decision Trees and Random Forests | Contents | I..."
          ],
          [
           "By eye, it is clear that there is a nearly linear relationship between the x and y variables. This i..."
          ],
          [
           "# plot data plt.scatter(X[:, 0], X[:, 1], alpha=0.2) for length, vector in zip(pca.explained_varianc..."
          ],
          [
           "The transformed data has been reduced to a single dimension. To understand the effect of this dimens..."
          ],
          [
           "In [10]:\n\npca = PCA(2)  # project from 64 to 2 dimensions projected = pca.fit_transform(digits.data)..."
          ],
          [
           "What do the components mean?¶We can go a bit further here, and begin to ask what the reduced dimensi..."
          ],
          [
           "But the pixel-wise representation is not the only choice of basis. We can also use other basis funct..."
          ],
          [
           "plt.xlabel('number of components')\n\nplt.ylabel('cumulative explained variance');\n\nThis curve quantif..."
          ],
          [
           "In [14]:\n\nnp.random.seed(42)\n\nnoisy = np.random.normal(digits.data, 4)\n\nplot_digits(noisy)\n\nIt's cle..."
          ],
          [
           "Let's take a look at the principal axes that span this dataset. Because this is a large dataset, we ..."
          ],
          [
           "In [20]:\n\nplt.plot(np.cumsum(pca.explained_variance_ratio_))\n\nplt.xlabel('number of components')\n\npl..."
          ],
          [
           "dim\\ninput')\n\nax[1, 0].set_ylabel('150\n\ndim\\nreconstruction');\n\nThe top row here shows the input ima..."
          ],
          [
           "RandomizedPCA, which we saw earlier, uses a non-deterministic method to quickly approximate the firs..."
          ],
          [
           "In\n\nDepth: Manifold Learning\n\n< In Depth: Principal Component Analysis | Contents | In Depth: k-Mean..."
          ],
          [
           "In [2]:\n\ndef make_hello(N=1000, rseed=42): # Make a plot with \"HELLO\" text; save as PNG fig, ax = pl..."
          ],
          [
           "The output is two dimensional, and consists of points drawn in the shape of the word, \"HELLO\". This ..."
          ],
          [
           "Out[5]:\n\n(1000, 1000)\n\nAs promised, for our N=1,000 points, we obtain a 1000×1000 matrix, which can ..."
          ],
          [
           "The MDS algorithm recovers one of the possible two-dimensional coordinate representations of our dat..."
          ],
          [
           "This is essentially the goal of a manifold learning estimator: given high-dimensional embedded data,..."
          ],
          [
           "In [14]:\n\nfrom sklearn.manifold import MDS model = MDS(n_components=2, random_state=2) outS = model...."
          ],
          [
           "In [15]:\n\nfrom sklearn.manifold import LocallyLinearEmbedding model = LocallyLinearEmbedding(n_neigh..."
          ],
          [
           "With all that on the table, the only clear advantage of manifold learning methods over PCA is their ..."
          ],
          [
           "faces = fetch_lfw_people(min_faces_per_person=30)\n\nfaces.data.shape\n\nOut[16]:\n\n(2370, 2914)\n\nWe have..."
          ],
          [
           "In [19]:\n\nfrom sklearn.manifold import Isomap\n\nmodel = Isomap(n_components=2)\n\nproj = model.fit_tran..."
          ],
          [
           "Calling this function now, we see the result:\n\nIn [21]:\n\nfig, ax = plt.subplots(figsize=(10, 10)) pl..."
          ],
          [
           "This gives us an idea of the variety of handwriting styles in the dataset. Let's compute a manifold ..."
          ],
          [
           "The result gives you an idea of the variety of forms that the number \"1\" can take within the dataset..."
          ],
          [
           "In [1]:\n\n%matplotlib inline import matplotlib.pyplot as plt import seaborn as sns; sns.set()  # for ..."
          ],
          [
           "Let's visualize the results by plotting the data colored by these labels. We will also plot the clus..."
          ],
          [
           "Guess some cluster centers Repeat until converged E-Step: assign points to the nearest cluster cente..."
          ],
          [
           "# 2c. Check for convergence if np.all(centers == new_centers): break centers = new_centers\n\nreturn c..."
          ],
          [
           "Whether the result is meaningful is a question that is difficult to answer definitively; one approac..."
          ],
          [
           "In [10]:\n\nfrom sklearn.cluster import SpectralClustering model = SpectralClustering(n_clusters=2, af..."
          ],
          [
           "In [11]:\n\nfrom sklearn.datasets import load_digits\n\ndigits = load_digits()\n\ndigits.data.shape\n\nOut[1..."
          ],
          [
           "Now we can check how accurate our unsupervised clustering was in finding similar digits within the d..."
          ],
          [
           "# Compute the clusters\n\nkmeans = KMeans(n_clusters=10, random_state=0)\n\nclusters = kmeans.fit_predic..."
          ],
          [
           "In [19]:\n\nchina.shape\n\nOut[19]:\n\n(427, 640, 3)\n\nOne way we can view this set of pixels is as a cloud..."
          ],
          [
           "fig.suptitle(title, size=20);\n\nIn [22]:\n\nplot_pixels(data, title='Input color space: 16 million poss..."
          ],
          [
           "Some detail is certainly lost in the rightmost panel, but the overall image is still easily recogniz..."
          ],
          [
           "In [1]:\n\n%matplotlib inline import matplotlib.pyplot as plt import seaborn as sns; sns.set() import ..."
          ],
          [
           "From an intuitive standpoint, we might expect that the clustering assignment for some points is more..."
          ],
          [
           "In [5]:\n\nkmeans = KMeans(n_clusters=4, random_state=0)\n\nplot_kmeans(kmeans, X)\n\nAn important observa..."
          ],
          [
           "Generalizing E–M: Gaussian Mixture Models¶A Gaussian mixture model (GMM) attempts to find a mixture ..."
          ],
          [
           "Under the hood, a Gaussian mixture model is very similar to k-means: it uses an expectation–maximiza..."
          ],
          [
           "# Draw the Ellipse for nsig in range(1, 4): ax.add_patch(Ellipse(position, nsig * width, nsig * heig..."
          ],
          [
           "This makes clear that GMM addresses the two main practical issues with k-means encountered before.\n\n..."
          ],
          [
           "If we try to fit this with a two-component GMM viewed as a clustering model, the results are not par..."
          ],
          [
           "plt.scatter(Xnew[:, 0], Xnew[:, 1]);\n\nGMM is convenient as a flexible means of modeling an arbitrary..."
          ],
          [
           "The optimal number of clusters is the value that minimizes the AIC or BIC, depending on which approx..."
          ],
          [
           "We have nearly 1,800 digits in 64 dimensions, and we can build a GMM on top of these to generate mor..."
          ],
          [
           "data_new = gmm.sample(100, random_state=0)\n\ndata_new.shape\n\nOut[23]:\n\n(100, 41)\n\nFinally, we can use..."
          ],
          [
           "In\n\nDepth: Kernel Density Estimation\n\n< In Depth: Gaussian Mixture Models | Contents | Application: ..."
          ],
          [
           "x = rand.randn(N)\n\nx[int(f\n\nN):] += 5\n\nreturn x\n\nx = make_data(1000)\n\nWe have previously seen that t..."
          ],
          [
           "In [5]:\n\nx = make_data(20)\n\nbins = np.linspace(\n\n5, 10, 10)\n\nIn [6]:\n\nfig, ax = plt.subplots(1, 2, f..."
          ],
          [
           "Out[7]:\n\n(\n\n0.2, 8)\n\nThe problem with our two binnings stems from the fact that the height of the bl..."
          ],
          [
           "plt.fill_between(x_d, density, alpha=0.5)\n\nplt.plot(x, np.full_like(x,\n\n0.1), '|k', markeredgewidth=..."
          ],
          [
           "In [10]:\n\nfrom sklearn.neighbors import KernelDensity\n\n# instantiate and fit the KDE model kde = Ker..."
          ],
          [
           "Out[10]:\n\n(\n\n0.02, 0.22)\n\nThe result here is normalized such that the area under the curve is equal ..."
          ],
          [
           "{'bandwidth': bandwidths},\n\ncv=LeaveOneOut(len(x)))\n\ngrid.fit(x[:, None]);\n\nNow we can find the choi..."
          ],
          [
           "With this data loaded, we can use the Basemap toolkit (mentioned previously in Geographic Data with ..."
          ],
          [
           "In [15]:\n\n# Set up the data grid for the contour plot X, Y = np.meshgrid(xgrid[::5], ygrid[::5][::-1..."
          ],
          [
           "# plot contours of the density levels = np.linspace(0, Z.max(), 25) axi.contourf(X, Y, Z, levels=lev..."
          ],
          [
           "In [16]:\n\nfrom sklearn.base import BaseEstimator, ClassifierMixin\n\nclass KDEClassifier(BaseEstimator..."
          ],
          [
           "Parameters ---------- bandwidth : float the kernel bandwidth within each class kernel : str the kern..."
          ],
          [
           "Here we find the unique classes in the training data, train a KernelDensity model for each class, an..."
          ],
          [
           "In [17]:\n\nfrom sklearn.datasets import load_digits\n\nfrom sklearn.grid_search import GridSearchCV\n\ndi..."
          ],
          [
           "Out[19]:\n\n0.81860038035501381\n\nOne benefit of such a generative classifier is interpretability of re..."
          ],
          [
           "Application: A Face Detection Pipeline\n\n< In-Depth: Kernel Density Estimation | Contents | Further M..."
          ],
          [
           "HOG Features¶The Histogram of Gradients is a straightforward feature extraction procedure that was d..."
          ],
          [
           "Obtain a set of image thumbnails of faces to constitute \"positive\" training samples. Obtain a set of..."
          ],
          [
           "In [5]:\n\nfrom sklearn.feature_extraction.image import PatchExtractor\n\ndef extract_patches(img, N, sc..."
          ],
          [
           "from itertools import chain\n\nX_train = np.array([feature.hog(im)\n\nfor im in chain(positive_patches,\n..."
          ],
          [
           "In [10]:\n\nfrom sklearn.svm import LinearSVC from sklearn.grid_search import GridSearchCV grid = Grid..."
          ],
          [
           "test_image = skimage.transform.rescale(test_image, 0.5)\n\ntest_image = test_image[:160, 40:180]\n\nplt...."
          ],
          [
           "In [16]:\n\nfig, ax = plt.subplots()\n\nax.imshow(test_image, cmap='gray')\n\nax.axis('off')\n\nNi, Nj = pos..."
          ],
          [
           "In fact, the sliding_window() utility used here is already built with this in mind. We should combin..."
          ],
          [
           "Python Data Science Handbook\n\nAbout\n\nArchive\n\nThis is an excerpt from the Python Data Science Handbo..."
          ],
          [
           "General Machine Learning¶Of course, machine learning is much broader than just the Python world. The..."
          ],
          [
           "In [1]:\n\n%matplotlib inline\n\nimport matplotlib.pyplot as plt\n\nimport numpy as np\n\nimport seaborn as ..."
          ],
          [
           "x, y = xy\n\nif 1 in edges: ax.plot([x, x + size], [y + size, y + size], **kwargs) if 2 in edges: ax.p..."
          ],
          [
           "label_kwargs = {}\n\nax.text(x + 0.5\n\nsize, y + 0.5\n\nsize, label,\n\nha='center', va='center', *\n\nlabel_..."
          ],
          [
           "draw_cube(ax, (12, 10), 1, depth, [1, 2, 3, 4, 5, 6, 9], '5', **solid) draw_cube(ax, (13, 10), 1, de..."
          ],
          [
           "draw_cube(ax, (1, 6.5), 1, depth, [2, 3, 4], '1', **solid) draw_cube(ax, (2, 6.5), 1, depth, [2, 3],..."
          ],
          [
           "draw_cube(ax, (6, 5.5), 1, depth, [2, 3, 4, 7, 8, 10, 11, 12], '0', **dotted) draw_cube(ax, (7, 5.5)..."
          ],
          [
           "ax.text(5, 7.0, '+', size=12, ha='center', va='center') ax.text(10.5, 7.0, '=', size=12, ha='center'..."
          ],
          [
           "draw_cube(ax, (3, 3), 1, depth, [1, 2, 3, 6, 7, 9, 10, 11], '0', **dotted) draw_cube(ax, (3, 2), 1, ..."
          ],
          [
           "# third block draw_cube(ax, (12, 3), 1, depth, [1, 2, 3, 4, 5, 6, 9], '0', **solid) draw_cube(ax, (1..."
          ],
          [
           "ax.set_ylim(0.5, 12.5)\n\nfig.savefig('figures/02.05\n\nbroadcasting.png')\n\nAggregation and Grouping¶Fig..."
          ],
          [
           "# Create column labels for i in range(ncols - 1): plt.text(x + (i + 1.5) * dx, y + (nrows - 0.5) * d..."
          ],
          [
           "ax.axis('off')\n\ndraw_dataframe(df, [0, 0])\n\nfor y, ind in zip([3, 1, -1], 'ABC'): split = df[df.inde..."
          ],
          [
           "plt.annotate('', (3.8, 3.8), (3.2, 3.8), arrowprops=arrowprops) plt.annotate('', (3.8, 1.75), (3.2, ..."
          ],
          [
           "In [6]:\n\nfrom sklearn.datasets.samples_generator import make_blobs\n\nfrom sklearn.svm import SVC\n\n# c..."
          ],
          [
           "# plot points and model fig, ax = plt.subplots(figsize=(8, 6)) line_style = dict(levels = [-1.0, 0.0..."
          ],
          [
           "fig.savefig('figures/05.01\n\nclassification\n\n3.png')\n\nRegression Example Figures¶Figure Context The f..."
          ],
          [
           "# plot points in 3D fig = plt.figure() ax = fig.add_subplot(111, projection='3d') ax.scatter(X[:, 0]..."
          ],
          [
           "regression\n\n2.png')\n\nRegression Example Figure 3¶\n\nIn [13]:\n\nfrom matplotlib.collections import Line..."
          ],
          [
           "ax[1].scatter(X2[:, 0], X2[:, 1], c=y2, s=50, cmap='viridis', norm=pts.norm) ax[1].axis([-4, 4, -3, ..."
          ],
          [
           "# format the plot\n\nformat_plot(ax, 'Learned Cluster Labels')\n\nfig.savefig('figures/05.01\n\nclustering..."
          ],
          [
           "fig.savefig('figures/05.01\n\ndimesionality\n\n2.png')\n\nIntroducing Scikit\n\nLearn¶\n\nFeatures and Labels ..."
          ],
          [
           "2)\n\nfig.savefig('figures/05.02\n\nsamples\n\nfeatures.png')\n\nHyperparameters and Model Validation¶\n\nCros..."
          ],
          [
           "fig.savefig('figures/05.03\n\n5\n\nfold\n\nCV.png')\n\nOverfitting and Underfitting¶\n\nIn [24]:\n\nimport numpy..."
          ],
          [
           "ax[0].scatter(X.ravel(), y, s=40) ax[0].plot(xfit.ravel(), model1.predict(xfit), color='gray') ax[0]..."
          ],
          [
           "X2, y2 = make_data(10, rseed=42)\n\nax[0].scatter(X.ravel(), y, s=40, c='blue') ax[0].plot(xfit.ravel(..."
          ],
          [
           "ax[1].scatter(X.ravel(), y, s=40, c='blue') ax[1].plot(xfit.ravel(), model20.predict(xfit), color='g..."
          ],
          [
           "ax.text(0.15, 0.2, \"training score\", rotation=45, size=16, color='blue') ax.text(0.2, -0.05, \"valida..."
          ],
          [
           "fig, ax = plt.subplots() ax.plot(x, y1, lw=10, alpha=0.5, color='blue') ax.plot(x, y2, lw=10, alpha=..."
          ],
          [
           "from sklearn.datasets import make_blobs X, y = make_blobs(100, 2, centers=2, random_state=2, cluster..."
          ],
          [
           "fig.savefig('figures/05.05\n\ngaussian\n\nNB.png')\n\nLinear Regression¶Gaussian Basis Functions¶Figure Co..."
          ],
          [
           "LinearRegression())\n\ngauss_model.fit(x[:, np.newaxis], y)\n\nyfit = gauss_model.predict(xfit[:, np.new..."
          ],
          [
           "def visualize_tree(estimator, X, y, boundaries=True, xlim=None, ylim=None, ax=None): ax = ax or plt...."
          ],
          [
           "ax.plot([tree.threshold[i], tree.threshold[i]], ylim, '\n\nk', zorder=2)\n\nplot_boundaries(tree.childre..."
          ],
          [
           "def fit_randomized_tree(random_state=0):\n\nclf = DecisionTreeClassifier(max_depth=15)\n\ni = np.arange(..."
          ],
          [
           "text(ax, 0.5, 0.9, \"How big is\\nthe animal? \", 20) text(ax, 0.3, 0.6, \"Does the animal\\nhave horns? ..."
          ],
          [
           "text(ax, 0.66, 0.45, \"yes\", 12, alpha=0.4) text(ax, 0.79, 0.45, \"no\", 12, alpha=0.4)\n\nax.plot([0.3, ..."
          ],
          [
           "X, y = make_blobs(n_samples=300, centers=4, random_state=0, cluster_std=1.0)\n\nfor axi, depth in zip(..."
          ],
          [
           "In [38]:\n\nrng = np.random.RandomState(1) X = np.dot(rng.rand(2, 2), rng.randn(2, 200)).T pca = PCA(n..."
          ],
          [
           "fig.savefig('figures/05.09\n\nPCA\n\nrotation.png')\n\nDigits Pixel Components¶\n\nIn [39]:\n\ndef plot_pca_co..."
          ],
          [
           "for i in range(n_components): approx = approx + coefficients[i] * components[i] show(0, i + counter,..."
          ],
          [
           "digits\n\npca\n\ncomponents.png')\n\nManifold Learning¶\n\nLLE vs MDS Linkages¶\n\nIn [42]:\n\ndef make_hello(N=..."
          ],
          [
           "z = np.sign(t)\n\n(np.cos(t)\n\n1)\n\nreturn np.vstack((x, y, z)).T\n\nX = make_hello(1000) XS = make_hello_..."
          ],
          [
           "for axi, title, lines in zip(ax, titles, [lines_MDS, lines_LLE]): axi.scatter3D(XS[:, 0], XS[:, 1], ..."
          ],
          [
           "def make_ax(fig, gs):\n\nax = fig.add_subplot(gs)\n\nax.xaxis.set_major_formatter(plt.NullFormatter())\n\n..."
          ],
          [
           "# Finish iteration centers = new_centers ax1.text(0.95, 0.95, \"E-Step\", transform=ax1.transAxes, ha=..."
          ],
          [
           "def plot_points(X, labels, n_clusters): plt.scatter(X[:, 0], X[:, 1], c=labels, s=50, cmap='viridis'..."
          ],
          [
           "plt.xlim(\n\n4, 4)\n\nplt.ylim(\n\n2, 10)\n\nif frame % 3 == 1: plt.text(3.8, 9.5, \"1. Reassign points to ne..."
          ],
          [
           "# Draw the Ellipse for nsig in range(1, 4): ax.add_patch(Ellipse(position, nsig * width, nsig * heig..."
          ],
          [
           "5. Machine Learning¶ What Is Machine Learning? Introducing Scikit-Learn Hyperparameters and Model Va..."
          ]
         ],
         "hovertemplate": "source=PythonDSHandbook-VanderPlas.txt<br>symbol=circle<br>x=%{x}<br>y=%{y}<br>size_col=%{marker.size}<br>extract=%{customdata[0]}<extra></extra>",
         "legendgroup": "PythonDSHandbook-VanderPlas.txt, circle",
         "marker": {
          "color": "#EF553B",
          "line": {
           "color": "DarkSlateGrey",
           "width": 0
          },
          "opacity": 1,
          "size": [
           4,
           4,
           4,
           4,
           4,
           4,
           4,
           4,
           4,
           4,
           4,
           4,
           4,
           4,
           4,
           4,
           4,
           4,
           4,
           4,
           4,
           4,
           4,
           4,
           4,
           4,
           4,
           4,
           4,
           4,
           4,
           4,
           4,
           4,
           4,
           4,
           4,
           4,
           4,
           4,
           4,
           4,
           4,
           4,
           4,
           4,
           4,
           4,
           4,
           4,
           4,
           4,
           4,
           4,
           4,
           4,
           4,
           4,
           4,
           4,
           4,
           4,
           4,
           4,
           4,
           4,
           4,
           4,
           4,
           4,
           4,
           4,
           4,
           4,
           4,
           4,
           4,
           4,
           4,
           4,
           4,
           4,
           4,
           4,
           4,
           4,
           4,
           4,
           4,
           4,
           4,
           4,
           4,
           4,
           4,
           4,
           4,
           4,
           4,
           4,
           4,
           4,
           4,
           4,
           4,
           4,
           4,
           4,
           4,
           4,
           4,
           4,
           4,
           4,
           4,
           4,
           4,
           4,
           4,
           4,
           4,
           4,
           4,
           4,
           4,
           4,
           4,
           4,
           4,
           4,
           4,
           4,
           4,
           4,
           4,
           4,
           4,
           4,
           4,
           4,
           4,
           4,
           4,
           4,
           4,
           4,
           4,
           4,
           4,
           4,
           4,
           4,
           4,
           4,
           4,
           4,
           4,
           4,
           4,
           4,
           4,
           4,
           4,
           4,
           4,
           4,
           4,
           4,
           4,
           4,
           4,
           4,
           4,
           4,
           4,
           4,
           4,
           4,
           4,
           4,
           4,
           4,
           4,
           4,
           4,
           4,
           4,
           4,
           4,
           4,
           4,
           4,
           4,
           4,
           4,
           4,
           4,
           4,
           4,
           4,
           4,
           4,
           4,
           4,
           4,
           4,
           4,
           4,
           4,
           4,
           4,
           4,
           4,
           4,
           4,
           4,
           4,
           4,
           4,
           4,
           4,
           4,
           4,
           4,
           4,
           4,
           4,
           4,
           4,
           4,
           4,
           4,
           4,
           4,
           4,
           4,
           4,
           4,
           4,
           4,
           4,
           4,
           4,
           4,
           4,
           4,
           4,
           4,
           4,
           4,
           4,
           4,
           4,
           4,
           4,
           4,
           4,
           4,
           4,
           4,
           4,
           4,
           4,
           4,
           4,
           4,
           4,
           4,
           4,
           4,
           4,
           4,
           4,
           4,
           4,
           4,
           4,
           4,
           4,
           4,
           4,
           4,
           4,
           4,
           4,
           4,
           4,
           4,
           4,
           4,
           4,
           4,
           4,
           4,
           4,
           4,
           4,
           4,
           4,
           4,
           4,
           4,
           4,
           4,
           4,
           4,
           4,
           4,
           4,
           4,
           4,
           4,
           4,
           4,
           4,
           4,
           4,
           4,
           4,
           4,
           4,
           4,
           4,
           4,
           4,
           4,
           4,
           4,
           4,
           4,
           4,
           4,
           4,
           4,
           4,
           4,
           4,
           4,
           4,
           4,
           4,
           4,
           4,
           4,
           4,
           4,
           4,
           4,
           4,
           4,
           4,
           4,
           4,
           4,
           4,
           4,
           4,
           4,
           4,
           4,
           4,
           4,
           4,
           4,
           4,
           4,
           4,
           4,
           4,
           4,
           4,
           4,
           4,
           4,
           4,
           4,
           4,
           4,
           4,
           4,
           4,
           4,
           4,
           4,
           4,
           4,
           4,
           4,
           4,
           4,
           4,
           4,
           4,
           4,
           4,
           4,
           4,
           4,
           4,
           4,
           4,
           4,
           4,
           4,
           4,
           4,
           4,
           4,
           4,
           4,
           4,
           4,
           4,
           4,
           4,
           4,
           4,
           4,
           4,
           4,
           4,
           4,
           4,
           4,
           4,
           4,
           4,
           4,
           4,
           4,
           4,
           4,
           4,
           4,
           4,
           4,
           4,
           4,
           4,
           4,
           4,
           4,
           4,
           4,
           4,
           4,
           4,
           4,
           4,
           4,
           4,
           4,
           4,
           4,
           4,
           4,
           4,
           4,
           4,
           4,
           4,
           4,
           4,
           4,
           4,
           4,
           4,
           4,
           4,
           4,
           4,
           4,
           4,
           4,
           4,
           4,
           4,
           4,
           4,
           4,
           4,
           4,
           4,
           4,
           4,
           4,
           4,
           4,
           4,
           4,
           4,
           4,
           4,
           4,
           4,
           4,
           4,
           4,
           4,
           4,
           4,
           4,
           4,
           4,
           4,
           4,
           4,
           4,
           4,
           4,
           4,
           4,
           4,
           4,
           4,
           4,
           4,
           4,
           4,
           4,
           4,
           4,
           4,
           4,
           4,
           4,
           4,
           4,
           4,
           4,
           4,
           4,
           4,
           4,
           4,
           4,
           4,
           4,
           4,
           4,
           4,
           4,
           4,
           4,
           4,
           4,
           4,
           4,
           4,
           4,
           4,
           4,
           4,
           4,
           4,
           4,
           4,
           4,
           4,
           4,
           4,
           4,
           4,
           4,
           4,
           4,
           4,
           4,
           4,
           4,
           4,
           4,
           4,
           4,
           4,
           4,
           4,
           4,
           4,
           4,
           4,
           4,
           4,
           4,
           4,
           4,
           4,
           4,
           4,
           4,
           4,
           4,
           4,
           4,
           4,
           4,
           4,
           4,
           4,
           4,
           4,
           4,
           4,
           4,
           4,
           4,
           4,
           4,
           4,
           4,
           4,
           4,
           4,
           4,
           4,
           4,
           4,
           4,
           4,
           4,
           4,
           4,
           4,
           4,
           4,
           4,
           4,
           4,
           4,
           4,
           4,
           4,
           4,
           4,
           4,
           4,
           4,
           4,
           4,
           4,
           4,
           4,
           4,
           4,
           4
          ],
          "sizemode": "area",
          "sizeref": 0.25,
          "symbol": "circle"
         },
         "mode": "markers",
         "name": "PythonDSHandbook-VanderPlas.txt, circle",
         "orientation": "v",
         "showlegend": true,
         "type": "scatter",
         "x": [
          -11.595288,
          11.730286,
          9.184025,
          -11.770379,
          -11.834859,
          -12.048309,
          -11.49439,
          -11.761047,
          -13.238079,
          -13.5619,
          -13.064382,
          -11.803134,
          -12.897247,
          -12.8913555,
          -12.38488,
          -12.612818,
          -12.788118,
          -13.482418,
          -13.565332,
          -13.387123,
          -13.314519,
          -13.360695,
          -13.711659,
          -13.694004,
          -12.888657,
          -13.542794,
          -12.897209,
          -13.459627,
          -13.434987,
          -13.620301,
          -13.460602,
          -13.55219,
          -13.69257,
          -13.959496,
          -13.759975,
          -13.717996,
          -13.754111,
          -13.784473,
          -13.555134,
          -12.774596,
          -11.717544,
          -12.511039,
          -12.679517,
          -12.84324,
          -12.601881,
          -12.580081,
          -12.226591,
          -12.117736,
          -9.746243,
          -11.472678,
          -11.836463,
          -10.78475,
          -10.703921,
          -10.965648,
          -10.156701,
          -9.2581415,
          -8.69492,
          -8.331768,
          -9.150119,
          -8.861018,
          -8.943124,
          -9.382842,
          -8.326293,
          -8.294245,
          -7.9571724,
          -7.8995733,
          -8.129958,
          -7.8907437,
          -8.111528,
          -8.273162,
          -8.2085905,
          -8.328201,
          -11.125507,
          -7.936114,
          -7.8112745,
          -7.5970497,
          -7.8352966,
          -8.206625,
          -7.9371324,
          -7.8344965,
          -7.9022236,
          -7.7942915,
          -7.496194,
          -7.128188,
          -8.873401,
          -7.1348205,
          -6.948476,
          -6.575416,
          -7.0173583,
          -7.1318994,
          -7.0188117,
          -6.959717,
          -7.308235,
          -7.0600796,
          -6.9149837,
          -7.082712,
          -6.779354,
          -7.788347,
          -8.331624,
          -7.728744,
          -7.804716,
          -7.213583,
          -7.7492094,
          -7.5266366,
          -7.6606264,
          -7.5665708,
          -7.7240396,
          -7.683274,
          -8.318711,
          -7.680644,
          -7.863103,
          -8.233494,
          -8.259231,
          -8.00625,
          0.7602674,
          -9.783097,
          -10.023556,
          -9.386965,
          -9.003476,
          -8.832181,
          -8.590747,
          -7.1986847,
          -8.593385,
          5.6993275,
          -10.024948,
          -9.809392,
          -9.907527,
          -9.815609,
          -9.6543255,
          -10.47047,
          -10.037509,
          -9.645788,
          -10.135691,
          -10.545805,
          -11.650656,
          11.997504,
          -8.842389,
          -8.870291,
          -8.779291,
          -8.895679,
          -8.838075,
          -8.9249115,
          -8.902566,
          -8.536793,
          -8.631715,
          -8.897863,
          -8.885298,
          -8.916395,
          -8.82773,
          -8.957797,
          -9.035337,
          -9.017704,
          -9.063662,
          -8.754506,
          -4.7997427,
          -8.990396,
          -8.9723215,
          -8.8933935,
          -8.862111,
          -8.694987,
          -8.335,
          -8.396254,
          -8.265325,
          -8.155596,
          -8.392214,
          -7.838838,
          -7.7365193,
          -7.2141204,
          -7.47806,
          -8.918488,
          -7.5002832,
          -7.498008,
          -7.3860292,
          -7.275692,
          -5.9371505,
          -7.3140106,
          -4.1581306,
          -9.035008,
          -8.887018,
          -8.954968,
          -8.922692,
          -8.90814,
          -8.913737,
          -8.974601,
          -9.023089,
          -8.8229475,
          -8.875407,
          -8.957311,
          -9.005293,
          -9.373047,
          -9.108788,
          -8.659827,
          -8.971757,
          -8.894728,
          -8.73925,
          -3.0716956,
          -9.606962,
          -9.909873,
          -8.332445,
          -9.932882,
          -9.958947,
          -9.938016,
          -9.940317,
          -9.880117,
          -10.016349,
          -9.964712,
          -9.94874,
          -9.913439,
          -9.9214,
          -10.0205345,
          -10.045499,
          -10.029273,
          -10.043547,
          -10.056985,
          -10.1444025,
          -10.051779,
          -10.163917,
          -10.106705,
          -10.093415,
          -10.07773,
          -10.15828,
          -10.120973,
          -10.057344,
          -9.917324,
          -8.845636,
          -8.908318,
          -8.794707,
          -8.926007,
          -8.776737,
          -8.801332,
          -8.855492,
          -8.8470955,
          -1.6952575,
          -2.6465633,
          -4.2438245,
          -2.399051,
          -3.3695514,
          -3.5706081,
          -3.4463477,
          -3.3114057,
          -2.5105226,
          -2.4707942,
          -2.7446601,
          -3.654825,
          -3.601121,
          -3.6019917,
          -3.6220322,
          -3.533546,
          -3.5605683,
          -3.496091,
          -2.47576,
          -2.4622328,
          -2.2276456,
          -2.0770733,
          -2.1114912,
          -2.1305025,
          -3.5843399,
          -2.571981,
          -1.986428,
          -1.5914763,
          -1.7018481,
          -1.7795153,
          -1.6513032,
          -1.5344186,
          -1.520077,
          -9.823546,
          -11.3563795,
          -11.510112,
          -11.956404,
          -11.468542,
          -11.256733,
          -11.397688,
          -11.871708,
          -11.568396,
          -11.554683,
          -11.525867,
          -11.113934,
          -11.508836,
          -2.206842,
          -2.2090385,
          -8.580876,
          -2.1833327,
          -2.1586988,
          -2.1964648,
          -2.145875,
          -2.1598012,
          -2.1378999,
          -2.1744006,
          -2.144976,
          -2.1605244,
          -1.5887488,
          -2.1292515,
          -2.28778,
          -3.213488,
          -2.7566805,
          -2.4603753,
          -2.7315118,
          -1.9763252,
          -2.1264143,
          -1.5844133,
          -1.7106129,
          -1.7548711,
          -1.4040779,
          -10.412296,
          -10.038645,
          -10.256042,
          -10.096559,
          -10.411927,
          -10.278135,
          -4.599197,
          -10.141884,
          -10.687031,
          -10.330032,
          -11.039338,
          -11.737133,
          2.5034008,
          2.4444795,
          2.5012615,
          2.4616535,
          2.1278818,
          2.460011,
          2.4815905,
          2.682419,
          -11.786228,
          2.5548174,
          2.7711523,
          3.055109,
          2.2574637,
          2.694199,
          3.1904922,
          3.74595,
          4.191345,
          4.427392,
          4.7732906,
          -2.641863,
          8.147002,
          8.013732,
          3.8716335,
          3.6296165,
          3.6318514,
          3.76791,
          3.082772,
          1.4942774,
          1.1112252,
          1.0476613,
          3.3824246,
          3.0879104,
          3.4264839,
          3.2462556,
          3.7245405,
          3.3265684,
          3.5963714,
          4.1908298,
          4.089981,
          3.970855,
          4.0132847,
          10.837244,
          2.2412078,
          2.3638964,
          2.0840075,
          2.2986565,
          2.0223103,
          1.5094098,
          -0.47582164,
          1.2196522,
          2.3285654,
          2.2826157,
          1.4382039,
          0.47745118,
          -0.23693393,
          2.025786,
          2.317033,
          2.270712,
          2.2982004,
          2.1940634,
          2.2341616,
          2.369464,
          2.3472614,
          2.179968,
          2.433918,
          2.5045912,
          2.3654325,
          2.4816866,
          3.3952155,
          4.1747084,
          4.04868,
          4.333002,
          4.491807,
          4.102681,
          4.2083416,
          4.802769,
          4.978615,
          5.040555,
          5.063178,
          5.023171,
          5.016999,
          4.9410505,
          5.026099,
          4.8636546,
          4.6803384,
          -1.698848,
          4.746868,
          2.5570922,
          2.3880749,
          2.479046,
          4.518138,
          -0.14493617,
          -0.5705954,
          -2.0520403,
          -2.0591133,
          -2.065471,
          -1.5170256,
          -1.2847395,
          -1.2146564,
          -1.3836792,
          -1.5658458,
          -1.4697175,
          2.4891024,
          2.5560372,
          11.892744,
          -11.750352,
          11.9260025,
          11.179047,
          10.297176,
          10.380983,
          10.101943,
          10.069874,
          10.92287,
          11.76816,
          9.753177,
          9.550684,
          9.373699,
          10.311422,
          9.812598,
          10.397657,
          10.105277,
          10.427477,
          10.702233,
          9.483991,
          9.550046,
          10.742211,
          10.3363495,
          10.4743185,
          11.623062,
          10.625728,
          10.565959,
          10.323008,
          10.41099,
          10.156069,
          10.320322,
          10.403623,
          9.688023,
          9.85611,
          8.322388,
          9.279918,
          8.938389,
          10.030297,
          7.7861986,
          9.735202,
          10.279478,
          10.424633,
          9.7721615,
          9.901997,
          9.935809,
          10.279872,
          9.927644,
          8.789219,
          9.931141,
          9.879348,
          10.668916,
          10.291233,
          10.207248,
          9.6951685,
          10.444844,
          9.510139,
          10.159511,
          10.058422,
          10.305666,
          9.777369,
          8.983575,
          8.871991,
          8.646529,
          8.324793,
          8.4414,
          8.521233,
          9.743236,
          9.496787,
          -1.9625267,
          -1.9005771,
          -1.8302604,
          -3.5227373,
          -1.9699805,
          10.288859,
          10.345687,
          9.132025,
          5.329333,
          8.851221,
          8.461898,
          9.177426,
          8.951474,
          8.150798,
          8.943798,
          8.843366,
          11.072452,
          11.728713,
          10.412303,
          10.564657,
          10.792677,
          9.66774,
          7.855787,
          7.7048235,
          7.5624375,
          7.652234,
          8.19475,
          8.833499,
          8.722175,
          10.021896,
          10.927758,
          11.487354,
          11.132703,
          11.042784,
          11.00402,
          10.8743925,
          10.950026,
          11.117992,
          11.172881,
          11.240233,
          11.482623,
          11.274114,
          11.29447,
          11.633111,
          11.483598,
          4.2492747,
          10.839055,
          11.547455,
          11.466591,
          11.567165,
          11.530077,
          11.539299,
          11.454901,
          11.4145155,
          10.477908,
          10.940174,
          11.189272,
          9.583831,
          8.308408,
          7.860719,
          7.931028,
          8.145122,
          8.707253,
          8.657442,
          8.967236,
          9.407278,
          9.07114,
          4.461561,
          8.613453,
          9.078865,
          8.574065,
          8.382178,
          8.201119,
          8.672606,
          8.559892,
          8.416206,
          8.666248,
          9.1443615,
          8.993558,
          9.110179,
          10.15693,
          9.776899,
          9.297806,
          0.84986275,
          1.0200953,
          1.0854672,
          10.254356,
          10.7646055,
          10.659801,
          5.5364256,
          4.9899745,
          4.703711,
          9.6433525,
          10.971843,
          10.902058,
          10.746298,
          10.464873,
          10.869342,
          11.827875,
          12.054749,
          11.925591,
          12.06045,
          11.133814,
          10.716696,
          12.010396,
          11.972371,
          12.059517,
          11.772113,
          11.796086,
          4.279964,
          3.926664,
          4.5369177,
          4.349586,
          4.435894,
          4.4563923,
          4.4075255,
          4.351683,
          4.4847436,
          4.970729,
          -0.96695864,
          -3.3828318,
          6.6110997,
          8.288721,
          6.4203076,
          7.2024837,
          4.073235,
          7.035283,
          7.06648,
          6.865508,
          7.1907864,
          7.362071,
          8.040639,
          7.294254,
          7.7027435,
          7.5435214,
          7.5673184,
          7.410856,
          7.6670074,
          7.939602,
          8.01085,
          7.693977,
          7.6520042,
          7.647376,
          8.36297,
          7.395444,
          7.6097455,
          10.907043,
          10.807651,
          10.392272,
          10.639247,
          4.6379266,
          6.519735,
          4.6342635,
          7.445232,
          6.9585075,
          5.853213,
          4.864192,
          11.737457
         ],
         "xaxis": "x",
         "y": [
          5.1660323,
          -1.10843,
          -5.2330284,
          5.43533,
          5.3404984,
          4.815191,
          5.2751503,
          5.253617,
          4.5574183,
          4.123094,
          4.5417633,
          5.479069,
          4.547288,
          3.408476,
          2.8796546,
          3.3155296,
          3.2736082,
          4.0600004,
          4.077031,
          3.9196067,
          3.7524004,
          4.054545,
          3.7748036,
          3.7996228,
          3.7882516,
          3.915596,
          3.4188657,
          3.6546154,
          4.2944736,
          4.307551,
          4.0757833,
          4.088597,
          3.6870012,
          3.3296444,
          3.3195124,
          3.0543084,
          3.6623979,
          3.253479,
          3.9733284,
          4.006618,
          3.8649423,
          3.9291093,
          3.9216678,
          3.8338706,
          3.995294,
          3.8136337,
          5.103044,
          5.2255197,
          4.5842357,
          5.312239,
          5.435051,
          4.5793295,
          3.8635073,
          3.735171,
          3.6831918,
          4.2724614,
          4.965182,
          4.2089896,
          4.397819,
          3.3003864,
          4.652,
          4.3751082,
          5.1687016,
          5.2573338,
          5.4754763,
          5.5549407,
          5.4871144,
          5.4792066,
          5.273262,
          5.299927,
          4.8471365,
          4.0850725,
          3.6205583,
          3.4514232,
          3.3252661,
          3.4605403,
          3.1576998,
          3.2127233,
          3.1593692,
          3.1355743,
          3.0781229,
          3.5282924,
          3.7172816,
          2.9808726,
          3.1255972,
          2.8241944,
          2.319322,
          2.3159678,
          3.5494819,
          4.3669763,
          5.0401206,
          4.9933767,
          5.4541283,
          5.177334,
          4.9896846,
          4.4621644,
          4.4384937,
          3.050789,
          3.1048298,
          3.0098162,
          3.2756464,
          2.8400712,
          2.9178312,
          3.05399,
          3.0230358,
          2.8174706,
          2.8321266,
          2.7350073,
          4.950152,
          5.237895,
          5.329999,
          5.067185,
          5.3034472,
          3.9786513,
          1.6014309,
          3.0403283,
          4.616398,
          4.088704,
          4.9296403,
          4.8968472,
          5.021818,
          4.694594,
          5.0034094,
          0.6440315,
          3.4739668,
          3.3563423,
          4.1830816,
          3.7793124,
          3.6394758,
          3.5624082,
          3.8041754,
          4.373602,
          4.539104,
          3.2075424,
          5.1917095,
          -1.1021634,
          -0.08494089,
          -0.22843093,
          -0.36884412,
          -0.31660938,
          -0.31622732,
          -0.45063728,
          -0.46974432,
          -0.09425332,
          0.31733313,
          0.721757,
          -0.31006718,
          -0.04815009,
          -0.27390352,
          -0.29212958,
          -0.33010125,
          -0.42412075,
          -0.7837055,
          -0.6910052,
          1.0921034,
          -0.39677858,
          -0.78174764,
          -1.8421683,
          -0.96900815,
          1.6445988,
          2.9633594,
          1.0844992,
          0.3806935,
          0.44656813,
          0.31353638,
          0.51821965,
          1.0327312,
          1.2285186,
          1.1868056,
          2.1970727,
          2.1081986,
          1.2710059,
          1.1135889,
          0.85932535,
          1.0056338,
          0.849036,
          1.396316,
          -2.648799,
          -1.1207309,
          -1.6948428,
          -1.5964674,
          -1.9824693,
          -1.7260706,
          -1.2515135,
          -1.4482148,
          -1.8812256,
          -2.0461936,
          -1.5057156,
          -1.5693896,
          -0.4078783,
          -0.7960776,
          -0.10805094,
          -0.86899596,
          -2.088216,
          -2.1606634,
          -0.42435756,
          -4.169289,
          -4.934386,
          5.3892336,
          -4.8960996,
          -5.0072565,
          -4.898563,
          -4.786467,
          -4.800493,
          -5.2237825,
          -5.0269628,
          -5.024697,
          -4.9948606,
          -5.036254,
          -5.3986535,
          -5.4563675,
          -5.3986483,
          -5.4541416,
          -5.502093,
          -5.7751594,
          -5.5482006,
          -5.764413,
          -5.643879,
          -5.59738,
          -5.5745,
          -5.7821836,
          -5.6983733,
          -5.54859,
          -5.1258125,
          -2.2809353,
          -2.763302,
          -2.558729,
          -2.877818,
          -2.5952418,
          -2.564489,
          -2.608943,
          -2.602001,
          -0.36506942,
          -0.44787145,
          0.5745646,
          -0.22425552,
          -0.61772966,
          -1.0285134,
          -0.95658183,
          -0.9757207,
          -0.5698959,
          -0.33492276,
          -0.6515554,
          -0.905736,
          -0.86453855,
          -0.99354357,
          -1.0957564,
          -1.0386298,
          -0.99043405,
          -0.99394,
          -0.3938795,
          -0.25044984,
          0.22503231,
          0.51989496,
          0.32285094,
          0.36621875,
          1.1594217,
          0.39690268,
          0.5871761,
          0.40584373,
          0.4557417,
          0.61450976,
          1.1276059,
          0.612063,
          0.7126606,
          2.7910798,
          2.2680235,
          2.5226004,
          2.467813,
          1.9218081,
          1.685196,
          1.8210652,
          2.0960739,
          1.6256179,
          1.8235464,
          1.8926414,
          1.7802553,
          1.9002342,
          3.0605824,
          3.1012115,
          5.084258,
          3.1476767,
          3.0026302,
          3.2131655,
          3.0647538,
          3.0521603,
          3.1644714,
          3.2617514,
          3.2269945,
          3.0635855,
          1.7542268,
          3.2263412,
          2.825406,
          1.7052568,
          1.6840408,
          2.3870435,
          1.9756838,
          1.6737267,
          2.9041786,
          1.5903101,
          1.5878937,
          1.5526135,
          1.8128589,
          2.2638977,
          2.3111138,
          2.0214221,
          1.9383572,
          2.0199277,
          1.9540265,
          1.1681188,
          1.8389385,
          1.906919,
          1.9886957,
          3.7388167,
          5.1937985,
          1.860115,
          1.9268719,
          1.6347917,
          1.346758,
          2.0374205,
          2.0384448,
          0.99511665,
          0.30144352,
          5.3038015,
          0.5030871,
          1.1577159,
          1.1791034,
          0.3091909,
          0.89291537,
          0.59492236,
          0.0479766,
          0.36247262,
          0.6597717,
          0.3791528,
          1.931015,
          -2.4851444,
          -2.9134068,
          0.7856572,
          0.8563339,
          1.2831215,
          1.4093633,
          1.4682845,
          1.3823813,
          1.4899704,
          1.682163,
          1.7176508,
          1.2265576,
          1.0818119,
          1.2099096,
          1.4681773,
          1.6557395,
          1.3288465,
          1.5315464,
          1.4296887,
          1.219177,
          1.4040453,
          1.0268848,
          0.37963983,
          0.4152531,
          0.12437237,
          0.4647007,
          0.6941015,
          -0.034236807,
          0.32178107,
          0.047346648,
          0.0662995,
          0.25165445,
          0.0858883,
          0.11040758,
          0.51133543,
          -0.10554512,
          -0.10056982,
          -0.26243693,
          -0.22846879,
          -0.12813228,
          -0.28804037,
          -0.4264347,
          0.21890663,
          0.9463475,
          1.3333654,
          1.4557986,
          1.5889024,
          1.4221892,
          0.08173287,
          -0.14730506,
          -0.2344734,
          0.050396327,
          -0.12259313,
          -0.30996275,
          -0.13107836,
          2.4016833,
          2.5040896,
          2.5400786,
          2.547765,
          2.5721862,
          2.5391848,
          2.5542636,
          2.557019,
          2.4476151,
          2.0772443,
          0.13882317,
          2.1206574,
          1.8993695,
          1.658503,
          1.754388,
          0.7316987,
          1.1437871,
          1.356674,
          -0.3383633,
          -0.06933364,
          2.9443111,
          1.5342401,
          1.459817,
          1.1744237,
          1.318006,
          1.2133701,
          1.3208058,
          2.0349338,
          2.104837,
          -1.1671832,
          5.2494116,
          -0.9769158,
          -0.97184014,
          -0.848253,
          -1.6942321,
          -1.4664483,
          -0.09622623,
          0.58860964,
          -0.89444757,
          -2.9791026,
          -3.0404255,
          -2.2253866,
          -2.8936205,
          -3.2174144,
          -3.626619,
          -3.352882,
          -2.8745317,
          -0.5398433,
          -0.3525219,
          -0.19197114,
          1.3254808,
          0.20364216,
          -2.7314057,
          -1.5163876,
          -4.0033026,
          -3.9113653,
          -4.3607507,
          -4.6102395,
          -4.781161,
          -4.7637286,
          -4.509376,
          -5.209055,
          -4.333407,
          -2.9783916,
          -4.331422,
          -4.474243,
          -4.3993783,
          -3.2066095,
          -4.2815456,
          -3.5774295,
          -3.9978178,
          -2.8771205,
          -3.6376467,
          -2.9615881,
          -2.3909473,
          -3.062051,
          -2.7882721,
          -4.0971274,
          -3.2074082,
          -2.1156647,
          -1.9712868,
          -2.1970375,
          -2.4650114,
          -2.1885371,
          -2.5824416,
          -2.3264437,
          -1.9471046,
          -2.197151,
          -2.968527,
          -2.9205518,
          -2.7557645,
          -2.7979345,
          -2.701275,
          -2.7392275,
          -3.2872097,
          -4.1625376,
          -3.8870747,
          1.7603108,
          1.5714414,
          1.1966776,
          1.1049389,
          1.5060418,
          -3.5023587,
          -2.7395692,
          -1.777407,
          -0.19734,
          -2.3044934,
          -2.9282863,
          -2.4286964,
          -2.3191285,
          -2.2052379,
          -2.4875038,
          -2.3825138,
          -2.0184011,
          -1.3815252,
          -4.114162,
          -3.0436416,
          -1.8340466,
          -2.6954336,
          -5.131794,
          -5.1697593,
          -4.739572,
          -5.3045173,
          -5.1904573,
          -3.667747,
          -3.4922774,
          -1.5989988,
          -1.5092856,
          0.22876689,
          0.5215587,
          0.9310023,
          0.90123004,
          0.9568592,
          0.90428287,
          1.0043292,
          1.0308065,
          0.65943027,
          0.5571431,
          1.0515867,
          0.14866872,
          0.4602973,
          0.9984637,
          0.36931625,
          1.3566682,
          1.652006,
          1.4057477,
          1.4897789,
          1.2882081,
          1.0791152,
          1.3032632,
          1.11103,
          1.4921886,
          0.9202025,
          1.2312477,
          -0.053834043,
          0.05965548,
          0.056402598,
          0.23824437,
          0.2208216,
          0.16524696,
          0.28976473,
          0.22884017,
          -0.1478868,
          0.04048959,
          1.1509823,
          0.17033093,
          0.11494197,
          0.18970887,
          0.35453936,
          0.35386357,
          0.5196675,
          0.3490522,
          0.39593387,
          0.45810464,
          0.6359824,
          0.5889435,
          0.562057,
          0.7976616,
          0.38643226,
          -0.21998528,
          1.5952206,
          1.4722534,
          1.5224851,
          -3.0104177,
          -3.4363868,
          -3.6871517,
          1.1833355,
          2.2325819,
          0.80210835,
          -2.1990771,
          -3.0803554,
          -3.5242035,
          -3.5549042,
          -3.9820647,
          -2.198627,
          -2.0792923,
          -2.112012,
          -2.2340043,
          -2.39361,
          -2.4893,
          -3.4169576,
          -2.2477875,
          -2.254254,
          -2.0233614,
          -1.3490303,
          -1.0728443,
          -0.56339025,
          -0.44886076,
          -0.90779877,
          -1.1911827,
          -1.1783746,
          -1.1647654,
          -1.1114256,
          -1.1954738,
          -1.178218,
          -0.75363195,
          -0.010671674,
          -0.92797476,
          -1.7540267,
          -2.2505732,
          -1.5612845,
          -2.1932178,
          -0.20588744,
          -2.245542,
          -1.4513246,
          -1.6144783,
          -1.797326,
          -2.7308276,
          -3.4308126,
          -3.2980726,
          -3.4288101,
          -3.2369468,
          -3.6122239,
          -3.1720335,
          -2.306377,
          -3.102583,
          -3.402234,
          -4.633983,
          -4.6960297,
          -4.8818173,
          -4.1467204,
          -3.8027184,
          -4.492682,
          1.3923591,
          1.2493333,
          1.3208494,
          1.3628759,
          0.05270814,
          -0.8820035,
          -0.78732675,
          -0.04514447,
          -0.18189393,
          -0.52304614,
          -0.38624257,
          -1.049101
         ],
         "yaxis": "y"
        },
        {
         "customdata": [
          [
           "okay hello welcome to uh week 11's lecture uh it's been a little while since we\n\ntalked about some o..."
          ],
          [
           "all right and so uh what we're gonna do is we're gonna build our models off of this training set all..."
          ],
          [
           "you right here the answer is probably not right to a certain extent they they will but it's importan..."
          ],
          [
           "in a classification standpoint all right so we're doing all classification here i'll talk about regr..."
          ],
          [
           "outputs so the idea is that they're they can't they'll predict hard classes right these ones are zer..."
          ],
          [
           "think back to what i just said about the 75 25 scenario all right\n\nand let's be more discreet about ..."
          ],
          [
           "and true positive are good all right so we want these numbers here we've talked about this before to..."
          ],
          [
           "all the way up to all the way up to 100 right so now nothing is fraud\n\neverybody becomes rich throug..."
          ],
          [
           "this true positive true positive false negative i think we walked through this so i'm going to spend..."
          ],
          [
           "positive and false positive rate and those just become data points on a axis you just graph them\n\non..."
          ],
          [
           "all right what this means is that your your your classifier is contributing absolutely nothing right..."
          ],
          [
           "precision and recall okay it's particularly useful if you have unbalanced data sets right\n\nif you ha..."
          ],
          [
           "that wrong log loss takes that into account okay all right so if we see a log loss\n\nof one can be ex..."
          ],
          [
           "right but basically the way you calculate this is that you know say we had you know and that's good ..."
          ],
          [
           "substantial agreement so we've got two that agree here right that's how campo works it's just\n\nthat ..."
          ],
          [
           "so there's different metrics that you would use to assess a continuous variable right kind of in a r..."
          ],
          [
           "right but this is not going to be in the language of the dependent root mean squared error will be a..."
          ],
          [
           "i bring this up because it's associated with thresholding because if you want to adjust the threshol..."
          ],
          [
           "would see over here right all right this one here is going to have high bias\n\nokay it's going to be ..."
          ],
          [
           "this second white circle right but it is on target okay so we've introduced a bunch of\n\nconcept here..."
          ]
         ],
         "hovertemplate": "source=Week7-lecture.txt<br>symbol=circle<br>x=%{x}<br>y=%{y}<br>size_col=%{marker.size}<br>extract=%{customdata[0]}<extra></extra>",
         "legendgroup": "Week7-lecture.txt, circle",
         "marker": {
          "color": "#00cc96",
          "line": {
           "color": "DarkSlateGrey",
           "width": 0
          },
          "opacity": 1,
          "size": [
           4,
           4,
           4,
           4,
           4,
           4,
           4,
           4,
           4,
           4,
           4,
           4,
           4,
           4,
           4,
           4,
           4,
           4,
           4,
           4
          ],
          "sizemode": "area",
          "sizeref": 0.25,
          "symbol": "circle"
         },
         "mode": "markers",
         "name": "Week7-lecture.txt, circle",
         "orientation": "v",
         "showlegend": true,
         "type": "scatter",
         "x": [
          9.863867,
          9.879031,
          9.631909,
          9.996812,
          9.9094095,
          10.080033,
          10.008342,
          10.0192,
          10.138328,
          9.96788,
          10.046622,
          9.967261,
          9.906607,
          9.734557,
          9.792247,
          9.461133,
          9.488125,
          9.345502,
          9.227255,
          9.90484
         ],
         "xaxis": "x",
         "y": [
          -6.128771,
          -6.636033,
          -6.5659356,
          -7.6898947,
          -7.666328,
          -7.6582503,
          -7.594107,
          -7.63467,
          -7.7415853,
          -7.59906,
          -7.504576,
          -7.525508,
          -7.642738,
          -7.6003866,
          -7.5998964,
          -7.16214,
          -7.106606,
          -5.623188,
          -6.481797,
          -7.0990543
         ],
         "yaxis": "y"
        },
        {
         "customdata": [
          [
           "okay all right so let me pop this up herebigger i can do that there we go all right so we've been ta..."
          ],
          [
           "it has one node coming in one edge and then no outgoing edgesbasically you think about them as kind ..."
          ],
          [
           "be fall into the subtosa class right essentially all right so let'skeep moving all right so that's t..."
          ],
          [
           "right if the answerto this question is yes hopefully most people would say whoa okay well check plea..."
          ],
          [
           "you know the rap andlots of other types of music which apparently i'm having trouble naming but anyw..."
          ],
          [
           "more of a disjointed resultright okay so we asked the most important information and then conditione..."
          ],
          [
           "set thenumber of layers say if you have you know a huge amount of data at your disposalyou know the ..."
          ],
          [
           "morecomplicated to translate but trees consist of these nodes and edges and they're defined by this ..."
          ],
          [
           "actual class whereas regression is going to predict a particular number all rightright okay so the p..."
          ],
          [
           "stops once you can't find a pla a split all right thatthat reduces impurity right or by some other p..."
          ],
          [
           "little a little hard tounderstand it's pretty straight straightforward to evaluate i mean most of th..."
          ],
          [
           "error associated with the predictions and the actual valuesand that would be the metric that we try ..."
          ],
          [
           "vector machines actually have a tendency to work a little bit better as an example forunbalanced dat..."
          ],
          [
           "through the equation hereall right so what we would see here okay so this is we have a total set of ..."
          ],
          [
           "theentropy of the parent right which is what we did up here this is the enter fee think of this as t..."
          ],
          [
           "all right but but oneperson you know this is uh so no all right so despite thatthere is some uh all ..."
          ],
          [
           "a continuous variablebasically try uh every type of potential partition inside that range ofvalues c..."
          ],
          [
           "general information gainof 0.46 okay all right so now keep in mind if it wasperfect all right and th..."
          ],
          [
           "the original example here is like shouldwe play tennis outside i think are we going to be able to pl..."
          ],
          [
           "took a look at is outlook so we just did thiscombination again we see a zero here we see a 0.92 here..."
          ],
          [
           "we had one yes over here and we have one yes over here so when we calculateinformation gain it's not..."
          ],
          [
           "have a you know a tree with the depth of just one split and that's it okayso that's enthropy all rig..."
          ],
          [
           "um so here whatwe see is you know kind of a a genie index here we're subtracting this from one that'..."
          ],
          [
           "values at each noderight so the average of each of those groups in terms of the minimizes the mean s..."
          ],
          [
           "associated with ourwith our clients and as a result then we can you know email them specials on diap..."
          ],
          [
           "hey i need at least i don't know at least five examples to be in a terminal node or something liketh..."
          ],
          [
           "first example was folic acid right that sent out this portion of the treein that portion of the tree..."
          ],
          [
           "other all right as the training set getsbigger all right testing goes down all right so there cross ..."
          ],
          [
           "holdoutand that allows you to use all the portions of the dataset as compared to just one big chunk ..."
          ]
         ],
         "hovertemplate": "source=Week9-lecture.txt<br>symbol=circle<br>x=%{x}<br>y=%{y}<br>size_col=%{marker.size}<br>extract=%{customdata[0]}<extra></extra>",
         "legendgroup": "Week9-lecture.txt, circle",
         "marker": {
          "color": "#ab63fa",
          "line": {
           "color": "DarkSlateGrey",
           "width": 0
          },
          "opacity": 1,
          "size": [
           4,
           4,
           4,
           4,
           4,
           4,
           4,
           4,
           4,
           4,
           4,
           4,
           4,
           4,
           4,
           4,
           4,
           4,
           4,
           4,
           4,
           4,
           4,
           4,
           4,
           4,
           4,
           4,
           4
          ],
          "sizemode": "area",
          "sizeref": 0.25,
          "symbol": "circle"
         },
         "mode": "markers",
         "name": "Week9-lecture.txt, circle",
         "orientation": "v",
         "showlegend": true,
         "type": "scatter",
         "x": [
          8.136819,
          8.405555,
          8.334883,
          8.971283,
          8.396752,
          8.366744,
          8.779697,
          8.455058,
          8.520005,
          8.530827,
          8.9232025,
          8.438788,
          8.398365,
          8.613156,
          8.689555,
          8.367016,
          8.805532,
          8.51914,
          8.945603,
          8.753946,
          8.884002,
          8.539473,
          8.788208,
          8.739912,
          8.414527,
          8.45633,
          8.589304,
          9.662766,
          8.483666
         ],
         "xaxis": "x",
         "y": [
          -6.2843246,
          -5.4310846,
          -7.3467755,
          -7.7024035,
          -7.367106,
          -6.856282,
          -7.0749927,
          -6.9017687,
          -6.942662,
          -6.786802,
          -6.7196784,
          -6.643837,
          -6.3577466,
          -7.905173,
          -7.828515,
          -7.5443797,
          -7.5695105,
          -7.5686307,
          -7.9544187,
          -7.826634,
          -7.8130865,
          -7.46096,
          -7.53078,
          -6.927121,
          -6.852653,
          -6.8880625,
          -6.860523,
          -5.9611716,
          -6.5164814
         ],
         "yaxis": "y"
        },
        {
         "customdata": [
          [
           "What is a decision tree?"
          ]
         ],
         "hovertemplate": "source=User query<br>symbol=star<br>x=%{x}<br>y=%{y}<br>size_col=%{marker.size}<br>extract=%{customdata[0]}<extra></extra>",
         "legendgroup": "User query, star",
         "marker": {
          "color": "black",
          "line": {
           "color": "DarkSlateGrey",
           "width": 0
          },
          "opacity": 1,
          "size": [
           100
          ],
          "sizemode": "area",
          "sizeref": 0.25,
          "symbol": "diamond"
         },
         "mode": "markers",
         "name": "User query, star",
         "orientation": "v",
         "showlegend": true,
         "type": "scatter",
         "x": [
          7.9666457
         ],
         "xaxis": "x",
         "y": [
          -6.2513146
         ],
         "yaxis": "y"
        }
       ],
       "layout": {
        "height": 700,
        "legend": {
         "itemsizing": "constant",
         "title": {
          "text": "<b>Chunk source</b>"
         },
         "tracegroupgap": 0
        },
        "margin": {
         "t": 60
        },
        "template": {
         "data": {
          "bar": [
           {
            "error_x": {
             "color": "#2a3f5f"
            },
            "error_y": {
             "color": "#2a3f5f"
            },
            "marker": {
             "line": {
              "color": "#E5ECF6",
              "width": 0.5
             },
             "pattern": {
              "fillmode": "overlay",
              "size": 10,
              "solidity": 0.2
             }
            },
            "type": "bar"
           }
          ],
          "barpolar": [
           {
            "marker": {
             "line": {
              "color": "#E5ECF6",
              "width": 0.5
             },
             "pattern": {
              "fillmode": "overlay",
              "size": 10,
              "solidity": 0.2
             }
            },
            "type": "barpolar"
           }
          ],
          "carpet": [
           {
            "aaxis": {
             "endlinecolor": "#2a3f5f",
             "gridcolor": "white",
             "linecolor": "white",
             "minorgridcolor": "white",
             "startlinecolor": "#2a3f5f"
            },
            "baxis": {
             "endlinecolor": "#2a3f5f",
             "gridcolor": "white",
             "linecolor": "white",
             "minorgridcolor": "white",
             "startlinecolor": "#2a3f5f"
            },
            "type": "carpet"
           }
          ],
          "choropleth": [
           {
            "colorbar": {
             "outlinewidth": 0,
             "ticks": ""
            },
            "type": "choropleth"
           }
          ],
          "contour": [
           {
            "colorbar": {
             "outlinewidth": 0,
             "ticks": ""
            },
            "colorscale": [
             [
              0,
              "#0d0887"
             ],
             [
              0.1111111111111111,
              "#46039f"
             ],
             [
              0.2222222222222222,
              "#7201a8"
             ],
             [
              0.3333333333333333,
              "#9c179e"
             ],
             [
              0.4444444444444444,
              "#bd3786"
             ],
             [
              0.5555555555555556,
              "#d8576b"
             ],
             [
              0.6666666666666666,
              "#ed7953"
             ],
             [
              0.7777777777777778,
              "#fb9f3a"
             ],
             [
              0.8888888888888888,
              "#fdca26"
             ],
             [
              1,
              "#f0f921"
             ]
            ],
            "type": "contour"
           }
          ],
          "contourcarpet": [
           {
            "colorbar": {
             "outlinewidth": 0,
             "ticks": ""
            },
            "type": "contourcarpet"
           }
          ],
          "heatmap": [
           {
            "colorbar": {
             "outlinewidth": 0,
             "ticks": ""
            },
            "colorscale": [
             [
              0,
              "#0d0887"
             ],
             [
              0.1111111111111111,
              "#46039f"
             ],
             [
              0.2222222222222222,
              "#7201a8"
             ],
             [
              0.3333333333333333,
              "#9c179e"
             ],
             [
              0.4444444444444444,
              "#bd3786"
             ],
             [
              0.5555555555555556,
              "#d8576b"
             ],
             [
              0.6666666666666666,
              "#ed7953"
             ],
             [
              0.7777777777777778,
              "#fb9f3a"
             ],
             [
              0.8888888888888888,
              "#fdca26"
             ],
             [
              1,
              "#f0f921"
             ]
            ],
            "type": "heatmap"
           }
          ],
          "heatmapgl": [
           {
            "colorbar": {
             "outlinewidth": 0,
             "ticks": ""
            },
            "colorscale": [
             [
              0,
              "#0d0887"
             ],
             [
              0.1111111111111111,
              "#46039f"
             ],
             [
              0.2222222222222222,
              "#7201a8"
             ],
             [
              0.3333333333333333,
              "#9c179e"
             ],
             [
              0.4444444444444444,
              "#bd3786"
             ],
             [
              0.5555555555555556,
              "#d8576b"
             ],
             [
              0.6666666666666666,
              "#ed7953"
             ],
             [
              0.7777777777777778,
              "#fb9f3a"
             ],
             [
              0.8888888888888888,
              "#fdca26"
             ],
             [
              1,
              "#f0f921"
             ]
            ],
            "type": "heatmapgl"
           }
          ],
          "histogram": [
           {
            "marker": {
             "pattern": {
              "fillmode": "overlay",
              "size": 10,
              "solidity": 0.2
             }
            },
            "type": "histogram"
           }
          ],
          "histogram2d": [
           {
            "colorbar": {
             "outlinewidth": 0,
             "ticks": ""
            },
            "colorscale": [
             [
              0,
              "#0d0887"
             ],
             [
              0.1111111111111111,
              "#46039f"
             ],
             [
              0.2222222222222222,
              "#7201a8"
             ],
             [
              0.3333333333333333,
              "#9c179e"
             ],
             [
              0.4444444444444444,
              "#bd3786"
             ],
             [
              0.5555555555555556,
              "#d8576b"
             ],
             [
              0.6666666666666666,
              "#ed7953"
             ],
             [
              0.7777777777777778,
              "#fb9f3a"
             ],
             [
              0.8888888888888888,
              "#fdca26"
             ],
             [
              1,
              "#f0f921"
             ]
            ],
            "type": "histogram2d"
           }
          ],
          "histogram2dcontour": [
           {
            "colorbar": {
             "outlinewidth": 0,
             "ticks": ""
            },
            "colorscale": [
             [
              0,
              "#0d0887"
             ],
             [
              0.1111111111111111,
              "#46039f"
             ],
             [
              0.2222222222222222,
              "#7201a8"
             ],
             [
              0.3333333333333333,
              "#9c179e"
             ],
             [
              0.4444444444444444,
              "#bd3786"
             ],
             [
              0.5555555555555556,
              "#d8576b"
             ],
             [
              0.6666666666666666,
              "#ed7953"
             ],
             [
              0.7777777777777778,
              "#fb9f3a"
             ],
             [
              0.8888888888888888,
              "#fdca26"
             ],
             [
              1,
              "#f0f921"
             ]
            ],
            "type": "histogram2dcontour"
           }
          ],
          "mesh3d": [
           {
            "colorbar": {
             "outlinewidth": 0,
             "ticks": ""
            },
            "type": "mesh3d"
           }
          ],
          "parcoords": [
           {
            "line": {
             "colorbar": {
              "outlinewidth": 0,
              "ticks": ""
             }
            },
            "type": "parcoords"
           }
          ],
          "pie": [
           {
            "automargin": true,
            "type": "pie"
           }
          ],
          "scatter": [
           {
            "fillpattern": {
             "fillmode": "overlay",
             "size": 10,
             "solidity": 0.2
            },
            "type": "scatter"
           }
          ],
          "scatter3d": [
           {
            "line": {
             "colorbar": {
              "outlinewidth": 0,
              "ticks": ""
             }
            },
            "marker": {
             "colorbar": {
              "outlinewidth": 0,
              "ticks": ""
             }
            },
            "type": "scatter3d"
           }
          ],
          "scattercarpet": [
           {
            "marker": {
             "colorbar": {
              "outlinewidth": 0,
              "ticks": ""
             }
            },
            "type": "scattercarpet"
           }
          ],
          "scattergeo": [
           {
            "marker": {
             "colorbar": {
              "outlinewidth": 0,
              "ticks": ""
             }
            },
            "type": "scattergeo"
           }
          ],
          "scattergl": [
           {
            "marker": {
             "colorbar": {
              "outlinewidth": 0,
              "ticks": ""
             }
            },
            "type": "scattergl"
           }
          ],
          "scattermapbox": [
           {
            "marker": {
             "colorbar": {
              "outlinewidth": 0,
              "ticks": ""
             }
            },
            "type": "scattermapbox"
           }
          ],
          "scatterpolar": [
           {
            "marker": {
             "colorbar": {
              "outlinewidth": 0,
              "ticks": ""
             }
            },
            "type": "scatterpolar"
           }
          ],
          "scatterpolargl": [
           {
            "marker": {
             "colorbar": {
              "outlinewidth": 0,
              "ticks": ""
             }
            },
            "type": "scatterpolargl"
           }
          ],
          "scatterternary": [
           {
            "marker": {
             "colorbar": {
              "outlinewidth": 0,
              "ticks": ""
             }
            },
            "type": "scatterternary"
           }
          ],
          "surface": [
           {
            "colorbar": {
             "outlinewidth": 0,
             "ticks": ""
            },
            "colorscale": [
             [
              0,
              "#0d0887"
             ],
             [
              0.1111111111111111,
              "#46039f"
             ],
             [
              0.2222222222222222,
              "#7201a8"
             ],
             [
              0.3333333333333333,
              "#9c179e"
             ],
             [
              0.4444444444444444,
              "#bd3786"
             ],
             [
              0.5555555555555556,
              "#d8576b"
             ],
             [
              0.6666666666666666,
              "#ed7953"
             ],
             [
              0.7777777777777778,
              "#fb9f3a"
             ],
             [
              0.8888888888888888,
              "#fdca26"
             ],
             [
              1,
              "#f0f921"
             ]
            ],
            "type": "surface"
           }
          ],
          "table": [
           {
            "cells": {
             "fill": {
              "color": "#EBF0F8"
             },
             "line": {
              "color": "white"
             }
            },
            "header": {
             "fill": {
              "color": "#C8D4E3"
             },
             "line": {
              "color": "white"
             }
            },
            "type": "table"
           }
          ]
         },
         "layout": {
          "annotationdefaults": {
           "arrowcolor": "#2a3f5f",
           "arrowhead": 0,
           "arrowwidth": 1
          },
          "autotypenumbers": "strict",
          "coloraxis": {
           "colorbar": {
            "outlinewidth": 0,
            "ticks": ""
           }
          },
          "colorscale": {
           "diverging": [
            [
             0,
             "#8e0152"
            ],
            [
             0.1,
             "#c51b7d"
            ],
            [
             0.2,
             "#de77ae"
            ],
            [
             0.3,
             "#f1b6da"
            ],
            [
             0.4,
             "#fde0ef"
            ],
            [
             0.5,
             "#f7f7f7"
            ],
            [
             0.6,
             "#e6f5d0"
            ],
            [
             0.7,
             "#b8e186"
            ],
            [
             0.8,
             "#7fbc41"
            ],
            [
             0.9,
             "#4d9221"
            ],
            [
             1,
             "#276419"
            ]
           ],
           "sequential": [
            [
             0,
             "#0d0887"
            ],
            [
             0.1111111111111111,
             "#46039f"
            ],
            [
             0.2222222222222222,
             "#7201a8"
            ],
            [
             0.3333333333333333,
             "#9c179e"
            ],
            [
             0.4444444444444444,
             "#bd3786"
            ],
            [
             0.5555555555555556,
             "#d8576b"
            ],
            [
             0.6666666666666666,
             "#ed7953"
            ],
            [
             0.7777777777777778,
             "#fb9f3a"
            ],
            [
             0.8888888888888888,
             "#fdca26"
            ],
            [
             1,
             "#f0f921"
            ]
           ],
           "sequentialminus": [
            [
             0,
             "#0d0887"
            ],
            [
             0.1111111111111111,
             "#46039f"
            ],
            [
             0.2222222222222222,
             "#7201a8"
            ],
            [
             0.3333333333333333,
             "#9c179e"
            ],
            [
             0.4444444444444444,
             "#bd3786"
            ],
            [
             0.5555555555555556,
             "#d8576b"
            ],
            [
             0.6666666666666666,
             "#ed7953"
            ],
            [
             0.7777777777777778,
             "#fb9f3a"
            ],
            [
             0.8888888888888888,
             "#fdca26"
            ],
            [
             1,
             "#f0f921"
            ]
           ]
          },
          "colorway": [
           "#636efa",
           "#EF553B",
           "#00cc96",
           "#ab63fa",
           "#FFA15A",
           "#19d3f3",
           "#FF6692",
           "#B6E880",
           "#FF97FF",
           "#FECB52"
          ],
          "font": {
           "color": "#2a3f5f"
          },
          "geo": {
           "bgcolor": "white",
           "lakecolor": "white",
           "landcolor": "#E5ECF6",
           "showlakes": true,
           "showland": true,
           "subunitcolor": "white"
          },
          "hoverlabel": {
           "align": "left"
          },
          "hovermode": "closest",
          "mapbox": {
           "style": "light"
          },
          "paper_bgcolor": "white",
          "plot_bgcolor": "#E5ECF6",
          "polar": {
           "angularaxis": {
            "gridcolor": "white",
            "linecolor": "white",
            "ticks": ""
           },
           "bgcolor": "#E5ECF6",
           "radialaxis": {
            "gridcolor": "white",
            "linecolor": "white",
            "ticks": ""
           }
          },
          "scene": {
           "xaxis": {
            "backgroundcolor": "#E5ECF6",
            "gridcolor": "white",
            "gridwidth": 2,
            "linecolor": "white",
            "showbackground": true,
            "ticks": "",
            "zerolinecolor": "white"
           },
           "yaxis": {
            "backgroundcolor": "#E5ECF6",
            "gridcolor": "white",
            "gridwidth": 2,
            "linecolor": "white",
            "showbackground": true,
            "ticks": "",
            "zerolinecolor": "white"
           },
           "zaxis": {
            "backgroundcolor": "#E5ECF6",
            "gridcolor": "white",
            "gridwidth": 2,
            "linecolor": "white",
            "showbackground": true,
            "ticks": "",
            "zerolinecolor": "white"
           }
          },
          "shapedefaults": {
           "line": {
            "color": "#2a3f5f"
           }
          },
          "ternary": {
           "aaxis": {
            "gridcolor": "white",
            "linecolor": "white",
            "ticks": ""
           },
           "baxis": {
            "gridcolor": "white",
            "linecolor": "white",
            "ticks": ""
           },
           "bgcolor": "#E5ECF6",
           "caxis": {
            "gridcolor": "white",
            "linecolor": "white",
            "ticks": ""
           }
          },
          "title": {
           "x": 0.05
          },
          "xaxis": {
           "automargin": true,
           "gridcolor": "white",
           "linecolor": "white",
           "ticks": "",
           "title": {
            "standoff": 15
           },
           "zerolinecolor": "white",
           "zerolinewidth": 2
          },
          "yaxis": {
           "automargin": true,
           "gridcolor": "white",
           "linecolor": "white",
           "ticks": "",
           "title": {
            "standoff": 15
           },
           "zerolinecolor": "white",
           "zerolinewidth": 2
          }
         }
        },
        "title": {
         "text": "<b>2D Projection of Chunk Embeddings via PaCMAP</b>"
        },
        "width": 1000,
        "xaxis": {
         "anchor": "y",
         "domain": [
          0,
          1
         ],
         "title": {
          "text": "x"
         }
        },
        "yaxis": {
         "anchor": "x",
         "domain": [
          0,
          1
         ],
         "title": {
          "text": "y"
         }
        }
       }
      }
     },
     "metadata": {},
     "output_type": "display_data"
    }
   ],
   "source": [
    "# vistualize pca projection\n",
    "\n",
    "df = pd.DataFrame.from_dict(\n",
    "    [\n",
    "        {\n",
    "            \"x\": documents_projected[i, 0],\n",
    "            \"y\": documents_projected[i, 1],\n",
    "            \"source\": docs_processed[i].metadata[\"source\"][\"source\"],#.split(\"/\")[1],\n",
    "            \"extract\": docs_processed[i].page_content[:100] + \"...\",\n",
    "            \"symbol\": \"circle\",\n",
    "            \"size_col\": 4,\n",
    "        }\n",
    "        for i in range(len(docs_processed))\n",
    "    ]\n",
    "    + [\n",
    "        {\n",
    "            \"x\": documents_projected[-1, 0],\n",
    "            \"y\": documents_projected[-1, 1],\n",
    "            \"source\": \"User query\",\n",
    "            \"extract\": user_query,\n",
    "            \"size_col\": 100,\n",
    "            \"symbol\": \"star\",\n",
    "        }\n",
    "    ]\n",
    ")\n",
    "\n",
    "# Visualize the embedding\n",
    "fig = px.scatter(\n",
    "    df,\n",
    "    x=\"x\",\n",
    "    y=\"y\",\n",
    "    color=\"source\",\n",
    "    hover_data=\"extract\",\n",
    "    size=\"size_col\",\n",
    "    symbol=\"symbol\",\n",
    "    color_discrete_map={\"User query\": \"black\"},\n",
    "    width=1000,\n",
    "    height=700,\n",
    ")\n",
    "fig.update_traces(\n",
    "    marker=dict(opacity=1, line=dict(width=0, color=\"DarkSlateGrey\")),\n",
    "    selector=dict(mode=\"markers\"),\n",
    ")\n",
    "fig.update_layout(\n",
    "    legend_title_text=\"<b>Chunk source</b>\",\n",
    "    title=\"<b>2D Projection of Chunk Embeddings via PaCMAP</b>\",\n",
    ")\n",
    "fig.show()"
   ]
  },
  {
   "cell_type": "code",
   "execution_count": null,
   "metadata": {},
   "outputs": [],
   "source": []
  }
 ],
 "metadata": {
  "kernelspec": {
   "display_name": "base",
   "language": "python",
   "name": "python3"
  },
  "language_info": {
   "codemirror_mode": {
    "name": "ipython",
    "version": 3
   },
   "file_extension": ".py",
   "mimetype": "text/x-python",
   "name": "python",
   "nbconvert_exporter": "python",
   "pygments_lexer": "ipython3",
   "version": "3.11.4"
  }
 },
 "nbformat": 4,
 "nbformat_minor": 2
}
